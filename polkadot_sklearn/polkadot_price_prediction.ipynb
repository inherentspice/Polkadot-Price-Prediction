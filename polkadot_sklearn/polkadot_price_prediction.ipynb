{
 "cells": [
  {
   "cell_type": "markdown",
   "id": "e10009d3",
   "metadata": {},
   "source": [
    "# Polkadot Price Prediction Using **sklearn**"
   ]
  },
  {
   "cell_type": "markdown",
   "id": "dd11e8d0",
   "metadata": {},
   "source": [
    "In this project I'll be working with csv taken from [subscan](https://polkadot.subscan.io/tools/charts). I use 8 files, listed below with a brief description:\n",
    "\n",
    "**Daily Active Account & Newly Created Account.csv**:  the daily active accounts and new accounts created.\n",
    "\n",
    "**Daily Bond Value (DOT).csv**: daily amount (in dot) bonded for staking.\n",
    "\n",
    "**Daily Fees Used.csv**: daily amount of fees (in dot) spent on the network.\n",
    "\n",
    "**Daily Transaction Amount.csv**: amount transacted on the network.\n",
    "\n",
    "**Daily Unbonding Schedule (DOT).csv**: dot scheduled to be released from staking.\n",
    "\n",
    "**DOT Price (USD).csv**: the price in USD of 1 dot.\n",
    "\n",
    "**Treasury Available Income.csv**: available income of treasury (in dot).\n",
    "\n",
    "**Treasury Expenses.csv**: expenses per day of treasury.\n"
   ]
  },
  {
   "cell_type": "markdown",
   "id": "f19c9247",
   "metadata": {},
   "source": [
    "## import packages and csv files"
   ]
  },
  {
   "cell_type": "code",
   "execution_count": 22,
   "id": "d61707d7",
   "metadata": {},
   "outputs": [],
   "source": [
    "import pandas as pd\n",
    "import numpy as np \n",
    "import matplotlib.pyplot as plt\n",
    "import seaborn as sns\n",
    "from functools import reduce\n",
    "from sklearn.model_selection import train_test_split\n",
    "from sklearn.linear_model import LinearRegression\n",
    "from sklearn.inspection import permutation_importance\n",
    "from sklearn.preprocessing import StandardScaler"
   ]
  },
  {
   "cell_type": "code",
   "execution_count": 2,
   "id": "ddc1baf3",
   "metadata": {},
   "outputs": [],
   "source": [
    "active_inactive = pd.read_csv(\"data/Daily Active Account & Newly Created Account.csv\", parse_dates=['Date'])\n",
    "bond = pd.read_csv(\"data/Daily Bond Value (DOT).csv\", parse_dates=['Date'])\n",
    "fees = pd.read_csv(\"data/Daily Fees Used.csv\", parse_dates=['Date'])\n",
    "transactions = pd.read_csv(\"data/Daily Transaction Amount.csv\", parse_dates=['Date'])\n",
    "unbonding = pd.read_csv(\"data/Daily Unbonding Schedule (DOT).csv\", parse_dates=['Date'])\n",
    "price = pd.read_csv(\"data/DOT Price (USD).csv\", parse_dates=['Date'])\n",
    "treasury_available = pd.read_csv('data/Treasury Available Income.csv', parse_dates=['Date'])\n",
    "treasury_expense = pd.read_csv('data/Treasury Expenses.csv', parse_dates=['Date'])"
   ]
  },
  {
   "cell_type": "markdown",
   "id": "d497b283",
   "metadata": {},
   "source": [
    "## rename columns"
   ]
  },
  {
   "cell_type": "code",
   "execution_count": 3,
   "id": "47c2b5d0",
   "metadata": {},
   "outputs": [],
   "source": [
    "active_inactive = active_inactive.rename(columns={'Active Account': 'Active_account', 'New Account': 'New_account'})\n",
    "bond = bond.rename(columns={'Value':'Bond_value'})\n",
    "fees = fees.rename(columns={'DOT':'DOT_fees'})\n",
    "transactions = transactions.rename(columns={'DOT':'DOT_transactions'})\n",
    "unbonding = unbonding.rename(columns={'Value':'Unbonding_value'})\n",
    "price = price.rename(columns={' Price (USD)': 'Price_USD'})\n",
    "treasury_available = treasury_available.rename(columns={'Value': 'available_value'})\n",
    "treasury_expense = treasury_expense.rename(columns={'Value': 'expense_value'})"
   ]
  },
  {
   "cell_type": "markdown",
   "id": "c2de96dd",
   "metadata": {},
   "source": [
    "## merge DataFrames, clean, create target"
   ]
  },
  {
   "cell_type": "code",
   "execution_count": 4,
   "id": "321a778e",
   "metadata": {},
   "outputs": [],
   "source": [
    "df = [price, transactions, fees, bond, unbonding, active_inactive, treasury_available, treasury_expense]\n",
    "df_merged = reduce(lambda left, right: pd.merge(left, right, on=['Date'], how='outer'), df)"
   ]
  },
  {
   "cell_type": "code",
   "execution_count": 5,
   "id": "49da5de4",
   "metadata": {},
   "outputs": [],
   "source": [
    "df_merged['Seven_day_price'] = df_merged['Price_USD'].shift(-7)\n",
    "df_merged = df_merged.dropna()"
   ]
  },
  {
   "cell_type": "code",
   "execution_count": 6,
   "id": "73f516e6",
   "metadata": {},
   "outputs": [
    {
     "data": {
      "text/html": [
       "<div>\n",
       "<style scoped>\n",
       "    .dataframe tbody tr th:only-of-type {\n",
       "        vertical-align: middle;\n",
       "    }\n",
       "\n",
       "    .dataframe tbody tr th {\n",
       "        vertical-align: top;\n",
       "    }\n",
       "\n",
       "    .dataframe thead th {\n",
       "        text-align: right;\n",
       "    }\n",
       "</style>\n",
       "<table border=\"1\" class=\"dataframe\">\n",
       "  <thead>\n",
       "    <tr style=\"text-align: right;\">\n",
       "      <th></th>\n",
       "      <th>Date</th>\n",
       "      <th>Price_USD</th>\n",
       "      <th>DOT_transactions</th>\n",
       "      <th>DOT_fees</th>\n",
       "      <th>Bond_value</th>\n",
       "      <th>Unbonding_value</th>\n",
       "      <th>Active_account</th>\n",
       "      <th>New_account</th>\n",
       "      <th>available_value</th>\n",
       "      <th>expense_value</th>\n",
       "      <th>Seven_day_price</th>\n",
       "    </tr>\n",
       "  </thead>\n",
       "  <tbody>\n",
       "    <tr>\n",
       "      <th>1</th>\n",
       "      <td>2020-07-18</td>\n",
       "      <td>1.750289</td>\n",
       "      <td>600.0</td>\n",
       "      <td>4.2493</td>\n",
       "      <td>3.225823e+05</td>\n",
       "      <td>49257.838569</td>\n",
       "      <td>197.0</td>\n",
       "      <td>30.0</td>\n",
       "      <td>0.0</td>\n",
       "      <td>0.0</td>\n",
       "      <td>1.709566</td>\n",
       "    </tr>\n",
       "    <tr>\n",
       "      <th>2</th>\n",
       "      <td>2020-07-19</td>\n",
       "      <td>1.605382</td>\n",
       "      <td>666.0</td>\n",
       "      <td>9.9014</td>\n",
       "      <td>2.009450e+07</td>\n",
       "      <td>274420.000000</td>\n",
       "      <td>395.0</td>\n",
       "      <td>21.0</td>\n",
       "      <td>0.0</td>\n",
       "      <td>0.0</td>\n",
       "      <td>1.678297</td>\n",
       "    </tr>\n",
       "    <tr>\n",
       "      <th>3</th>\n",
       "      <td>2020-07-20</td>\n",
       "      <td>1.571536</td>\n",
       "      <td>7000.0</td>\n",
       "      <td>5.8391</td>\n",
       "      <td>2.922391e+07</td>\n",
       "      <td>18027.400000</td>\n",
       "      <td>286.0</td>\n",
       "      <td>30.0</td>\n",
       "      <td>0.0</td>\n",
       "      <td>0.0</td>\n",
       "      <td>1.702217</td>\n",
       "    </tr>\n",
       "    <tr>\n",
       "      <th>4</th>\n",
       "      <td>2020-07-21</td>\n",
       "      <td>1.588110</td>\n",
       "      <td>0.0</td>\n",
       "      <td>4.5909</td>\n",
       "      <td>1.489727e+05</td>\n",
       "      <td>25100.000000</td>\n",
       "      <td>173.0</td>\n",
       "      <td>18.0</td>\n",
       "      <td>0.0</td>\n",
       "      <td>0.0</td>\n",
       "      <td>1.770439</td>\n",
       "    </tr>\n",
       "    <tr>\n",
       "      <th>5</th>\n",
       "      <td>2020-07-22</td>\n",
       "      <td>1.570872</td>\n",
       "      <td>0.0</td>\n",
       "      <td>3.7842</td>\n",
       "      <td>2.527056e+06</td>\n",
       "      <td>800000.000000</td>\n",
       "      <td>169.0</td>\n",
       "      <td>11.0</td>\n",
       "      <td>0.0</td>\n",
       "      <td>0.0</td>\n",
       "      <td>1.771341</td>\n",
       "    </tr>\n",
       "  </tbody>\n",
       "</table>\n",
       "</div>"
      ],
      "text/plain": [
       "        Date  Price_USD  DOT_transactions  DOT_fees    Bond_value  \\\n",
       "1 2020-07-18   1.750289             600.0    4.2493  3.225823e+05   \n",
       "2 2020-07-19   1.605382             666.0    9.9014  2.009450e+07   \n",
       "3 2020-07-20   1.571536            7000.0    5.8391  2.922391e+07   \n",
       "4 2020-07-21   1.588110               0.0    4.5909  1.489727e+05   \n",
       "5 2020-07-22   1.570872               0.0    3.7842  2.527056e+06   \n",
       "\n",
       "   Unbonding_value  Active_account  New_account  available_value  \\\n",
       "1     49257.838569           197.0         30.0              0.0   \n",
       "2    274420.000000           395.0         21.0              0.0   \n",
       "3     18027.400000           286.0         30.0              0.0   \n",
       "4     25100.000000           173.0         18.0              0.0   \n",
       "5    800000.000000           169.0         11.0              0.0   \n",
       "\n",
       "   expense_value  Seven_day_price  \n",
       "1            0.0         1.709566  \n",
       "2            0.0         1.678297  \n",
       "3            0.0         1.702217  \n",
       "4            0.0         1.770439  \n",
       "5            0.0         1.771341  "
      ]
     },
     "metadata": {},
     "output_type": "display_data"
    },
    {
     "data": {
      "text/html": [
       "<div>\n",
       "<style scoped>\n",
       "    .dataframe tbody tr th:only-of-type {\n",
       "        vertical-align: middle;\n",
       "    }\n",
       "\n",
       "    .dataframe tbody tr th {\n",
       "        vertical-align: top;\n",
       "    }\n",
       "\n",
       "    .dataframe thead th {\n",
       "        text-align: right;\n",
       "    }\n",
       "</style>\n",
       "<table border=\"1\" class=\"dataframe\">\n",
       "  <thead>\n",
       "    <tr style=\"text-align: right;\">\n",
       "      <th></th>\n",
       "      <th>Date</th>\n",
       "      <th>Price_USD</th>\n",
       "      <th>DOT_transactions</th>\n",
       "      <th>DOT_fees</th>\n",
       "      <th>Bond_value</th>\n",
       "      <th>Unbonding_value</th>\n",
       "      <th>Active_account</th>\n",
       "      <th>New_account</th>\n",
       "      <th>available_value</th>\n",
       "      <th>expense_value</th>\n",
       "      <th>Seven_day_price</th>\n",
       "    </tr>\n",
       "  </thead>\n",
       "  <tbody>\n",
       "    <tr>\n",
       "      <th>634</th>\n",
       "      <td>2022-04-12</td>\n",
       "      <td>17.941162</td>\n",
       "      <td>8.573963e+06</td>\n",
       "      <td>165.978411</td>\n",
       "      <td>1.241070e+07</td>\n",
       "      <td>2.034294e+04</td>\n",
       "      <td>1917.0</td>\n",
       "      <td>2108.0</td>\n",
       "      <td>2.804684e+07</td>\n",
       "      <td>0.0</td>\n",
       "      <td>18.999490</td>\n",
       "    </tr>\n",
       "    <tr>\n",
       "      <th>635</th>\n",
       "      <td>2022-04-13</td>\n",
       "      <td>18.063836</td>\n",
       "      <td>1.941962e+07</td>\n",
       "      <td>147.440837</td>\n",
       "      <td>1.049751e+05</td>\n",
       "      <td>1.325278e+05</td>\n",
       "      <td>1757.0</td>\n",
       "      <td>1839.0</td>\n",
       "      <td>2.812011e+07</td>\n",
       "      <td>0.0</td>\n",
       "      <td>19.100654</td>\n",
       "    </tr>\n",
       "    <tr>\n",
       "      <th>636</th>\n",
       "      <td>2022-04-14</td>\n",
       "      <td>18.164701</td>\n",
       "      <td>4.887517e+06</td>\n",
       "      <td>174.040428</td>\n",
       "      <td>8.649407e+05</td>\n",
       "      <td>3.778230e+06</td>\n",
       "      <td>3006.0</td>\n",
       "      <td>2066.0</td>\n",
       "      <td>2.819367e+07</td>\n",
       "      <td>0.0</td>\n",
       "      <td>18.329985</td>\n",
       "    </tr>\n",
       "    <tr>\n",
       "      <th>637</th>\n",
       "      <td>2022-04-15</td>\n",
       "      <td>18.428432</td>\n",
       "      <td>1.104774e+07</td>\n",
       "      <td>138.297388</td>\n",
       "      <td>5.594405e+04</td>\n",
       "      <td>4.663664e+04</td>\n",
       "      <td>1570.0</td>\n",
       "      <td>1725.0</td>\n",
       "      <td>2.826710e+07</td>\n",
       "      <td>0.0</td>\n",
       "      <td>18.660793</td>\n",
       "    </tr>\n",
       "    <tr>\n",
       "      <th>638</th>\n",
       "      <td>2022-04-16</td>\n",
       "      <td>18.494261</td>\n",
       "      <td>1.978290e+06</td>\n",
       "      <td>138.533526</td>\n",
       "      <td>5.663654e+04</td>\n",
       "      <td>3.605870e+05</td>\n",
       "      <td>1524.0</td>\n",
       "      <td>1872.0</td>\n",
       "      <td>2.833720e+07</td>\n",
       "      <td>0.0</td>\n",
       "      <td>18.954922</td>\n",
       "    </tr>\n",
       "  </tbody>\n",
       "</table>\n",
       "</div>"
      ],
      "text/plain": [
       "          Date  Price_USD  DOT_transactions    DOT_fees    Bond_value  \\\n",
       "634 2022-04-12  17.941162      8.573963e+06  165.978411  1.241070e+07   \n",
       "635 2022-04-13  18.063836      1.941962e+07  147.440837  1.049751e+05   \n",
       "636 2022-04-14  18.164701      4.887517e+06  174.040428  8.649407e+05   \n",
       "637 2022-04-15  18.428432      1.104774e+07  138.297388  5.594405e+04   \n",
       "638 2022-04-16  18.494261      1.978290e+06  138.533526  5.663654e+04   \n",
       "\n",
       "     Unbonding_value  Active_account  New_account  available_value  \\\n",
       "634     2.034294e+04          1917.0       2108.0     2.804684e+07   \n",
       "635     1.325278e+05          1757.0       1839.0     2.812011e+07   \n",
       "636     3.778230e+06          3006.0       2066.0     2.819367e+07   \n",
       "637     4.663664e+04          1570.0       1725.0     2.826710e+07   \n",
       "638     3.605870e+05          1524.0       1872.0     2.833720e+07   \n",
       "\n",
       "     expense_value  Seven_day_price  \n",
       "634            0.0        18.999490  \n",
       "635            0.0        19.100654  \n",
       "636            0.0        18.329985  \n",
       "637            0.0        18.660793  \n",
       "638            0.0        18.954922  "
      ]
     },
     "metadata": {},
     "output_type": "display_data"
    }
   ],
   "source": [
    "display(df_merged.head())\n",
    "display(df_merged.tail())"
   ]
  },
  {
   "cell_type": "markdown",
   "id": "475159e5",
   "metadata": {},
   "source": [
    "## visual exploration"
   ]
  },
  {
   "cell_type": "code",
   "execution_count": 7,
   "id": "91d8d7d9",
   "metadata": {},
   "outputs": [
    {
     "data": {
      "image/png": "[encoded data removed]",
      "text/plain": [
       "<Figure size 1440x720 with 2 Axes>"
      ]
     },
     "metadata": {
      "needs_background": "light"
     },
     "output_type": "display_data"
    }
   ],
   "source": [
    "plt.figure(figsize=(20, 10))\n",
    "sns.heatmap(df_merged.corr(), annot=True, cmap='BuPu', linewidth=1, linecolor='w');"
   ]
  },
  {
   "cell_type": "markdown",
   "id": "934a4d34",
   "metadata": {},
   "source": [
    "> We can see here a (unsurprising) high correlation between the Price_USD and Seven_day_price. New_account, Active_account, DOT_fees, and available_value also have a high correlation with Seven_day_price, but we must determine whether they are correlated with each other before they can be used in the model. "
   ]
  },
  {
   "cell_type": "markdown",
   "id": "76932448",
   "metadata": {},
   "source": [
    "### investigate correlations between features"
   ]
  },
  {
   "cell_type": "code",
   "execution_count": 8,
   "id": "1f836315",
   "metadata": {},
   "outputs": [],
   "source": [
    "corr = df_merged.corr()"
   ]
  },
  {
   "cell_type": "code",
   "execution_count": 9,
   "id": "92d9a5ae",
   "metadata": {},
   "outputs": [],
   "source": [
    "corr_df = corr.unstack().reset_index()\n",
    "corr_df.columns = ['feature_1','feature_2', 'correlation']\n",
    "corr_df.sort_values(by=\"correlation\",ascending=False, inplace=True)\n",
    "corr_df = corr_df[corr_df['feature_1'] != corr_df['feature_2']]\n",
    "feature_correlation = corr_df[corr_df['feature_1'] == 'Seven_day_price']"
   ]
  },
  {
   "cell_type": "code",
   "execution_count": 10,
   "id": "8e7255e9",
   "metadata": {},
   "outputs": [
    {
     "data": {
      "text/html": [
       "<div>\n",
       "<style scoped>\n",
       "    .dataframe tbody tr th:only-of-type {\n",
       "        vertical-align: middle;\n",
       "    }\n",
       "\n",
       "    .dataframe tbody tr th {\n",
       "        vertical-align: top;\n",
       "    }\n",
       "\n",
       "    .dataframe thead th {\n",
       "        text-align: right;\n",
       "    }\n",
       "</style>\n",
       "<table border=\"1\" class=\"dataframe\">\n",
       "  <thead>\n",
       "    <tr style=\"text-align: right;\">\n",
       "      <th></th>\n",
       "      <th>feature_1</th>\n",
       "      <th>feature_2</th>\n",
       "      <th>correlation</th>\n",
       "    </tr>\n",
       "  </thead>\n",
       "  <tbody>\n",
       "    <tr>\n",
       "      <th>90</th>\n",
       "      <td>Seven_day_price</td>\n",
       "      <td>Price_USD</td>\n",
       "      <td>0.950528</td>\n",
       "    </tr>\n",
       "    <tr>\n",
       "      <th>9</th>\n",
       "      <td>Price_USD</td>\n",
       "      <td>Seven_day_price</td>\n",
       "      <td>0.950528</td>\n",
       "    </tr>\n",
       "    <tr>\n",
       "      <th>65</th>\n",
       "      <td>New_account</td>\n",
       "      <td>Active_account</td>\n",
       "      <td>0.876939</td>\n",
       "    </tr>\n",
       "    <tr>\n",
       "      <th>56</th>\n",
       "      <td>Active_account</td>\n",
       "      <td>New_account</td>\n",
       "      <td>0.876939</td>\n",
       "    </tr>\n",
       "    <tr>\n",
       "      <th>25</th>\n",
       "      <td>DOT_fees</td>\n",
       "      <td>Active_account</td>\n",
       "      <td>0.845768</td>\n",
       "    </tr>\n",
       "  </tbody>\n",
       "</table>\n",
       "</div>"
      ],
      "text/plain": [
       "          feature_1        feature_2  correlation\n",
       "90  Seven_day_price        Price_USD     0.950528\n",
       "9         Price_USD  Seven_day_price     0.950528\n",
       "65      New_account   Active_account     0.876939\n",
       "56   Active_account      New_account     0.876939\n",
       "25         DOT_fees   Active_account     0.845768"
      ]
     },
     "execution_count": 10,
     "metadata": {},
     "output_type": "execute_result"
    }
   ],
   "source": [
    "corr_df.head()"
   ]
  },
  {
   "cell_type": "code",
   "execution_count": 11,
   "id": "d89227bd",
   "metadata": {},
   "outputs": [
    {
     "data": {
      "text/html": [
       "<div>\n",
       "<style scoped>\n",
       "    .dataframe tbody tr th:only-of-type {\n",
       "        vertical-align: middle;\n",
       "    }\n",
       "\n",
       "    .dataframe tbody tr th {\n",
       "        vertical-align: top;\n",
       "    }\n",
       "\n",
       "    .dataframe thead th {\n",
       "        text-align: right;\n",
       "    }\n",
       "</style>\n",
       "<table border=\"1\" class=\"dataframe\">\n",
       "  <thead>\n",
       "    <tr style=\"text-align: right;\">\n",
       "      <th></th>\n",
       "      <th>feature_1</th>\n",
       "      <th>feature_2</th>\n",
       "      <th>correlation</th>\n",
       "    </tr>\n",
       "  </thead>\n",
       "  <tbody>\n",
       "    <tr>\n",
       "      <th>90</th>\n",
       "      <td>Seven_day_price</td>\n",
       "      <td>Price_USD</td>\n",
       "      <td>0.950528</td>\n",
       "    </tr>\n",
       "    <tr>\n",
       "      <th>96</th>\n",
       "      <td>Seven_day_price</td>\n",
       "      <td>New_account</td>\n",
       "      <td>0.758976</td>\n",
       "    </tr>\n",
       "    <tr>\n",
       "      <th>95</th>\n",
       "      <td>Seven_day_price</td>\n",
       "      <td>Active_account</td>\n",
       "      <td>0.604790</td>\n",
       "    </tr>\n",
       "    <tr>\n",
       "      <th>92</th>\n",
       "      <td>Seven_day_price</td>\n",
       "      <td>DOT_fees</td>\n",
       "      <td>0.506402</td>\n",
       "    </tr>\n",
       "    <tr>\n",
       "      <th>97</th>\n",
       "      <td>Seven_day_price</td>\n",
       "      <td>available_value</td>\n",
       "      <td>0.488297</td>\n",
       "    </tr>\n",
       "  </tbody>\n",
       "</table>\n",
       "</div>"
      ],
      "text/plain": [
       "          feature_1        feature_2  correlation\n",
       "90  Seven_day_price        Price_USD     0.950528\n",
       "96  Seven_day_price      New_account     0.758976\n",
       "95  Seven_day_price   Active_account     0.604790\n",
       "92  Seven_day_price         DOT_fees     0.506402\n",
       "97  Seven_day_price  available_value     0.488297"
      ]
     },
     "execution_count": 11,
     "metadata": {},
     "output_type": "execute_result"
    }
   ],
   "source": [
    "feature_correlation.head()"
   ]
  },
  {
   "cell_type": "markdown",
   "id": "40444402",
   "metadata": {},
   "source": [
    "## use permutation_importance to find most important features"
   ]
  },
  {
   "cell_type": "markdown",
   "id": "12bab056",
   "metadata": {},
   "source": [
    "### create feature matrix (X) and target vector (y)"
   ]
  },
  {
   "cell_type": "code",
   "execution_count": 12,
   "id": "dc79f8c1",
   "metadata": {},
   "outputs": [],
   "source": [
    "X = df_merged.copy().drop(['Seven_day_price', 'Date'], axis=1)\n",
    "y = df_merged['Seven_day_price']"
   ]
  },
  {
   "cell_type": "code",
   "execution_count": 13,
   "id": "6af55caf",
   "metadata": {},
   "outputs": [
    {
     "data": {
      "text/plain": [
       "pandas.core.frame.DataFrame"
      ]
     },
     "execution_count": 13,
     "metadata": {},
     "output_type": "execute_result"
    }
   ],
   "source": [
    "type(X)"
   ]
  },
  {
   "cell_type": "code",
   "execution_count": 14,
   "id": "4d2a9362",
   "metadata": {},
   "outputs": [
    {
     "data": {
      "text/plain": [
       "pandas.core.series.Series"
      ]
     },
     "execution_count": 14,
     "metadata": {},
     "output_type": "execute_result"
    }
   ],
   "source": [
    "type(y)"
   ]
  },
  {
   "cell_type": "markdown",
   "id": "f3abfc96",
   "metadata": {},
   "source": [
    "### run feature permutation"
   ]
  },
  {
   "cell_type": "code",
   "execution_count": 15,
   "id": "71c571b8",
   "metadata": {},
   "outputs": [],
   "source": [
    "regressor = LinearRegression().fit(X, y)\n",
    "permutation_score = permutation_importance(regressor, X, y, n_repeats=10)\n",
    "importance_df = pd.DataFrame(np.vstack((X.columns,\n",
    "                                        permutation_score.importances_mean)).T)\n",
    "importance_df.columns=['feature','score decrease']\n",
    "\n",
    "importance_df = importance_df.sort_values(by=\"score decrease\", ascending = False)"
   ]
  },
  {
   "cell_type": "code",
   "execution_count": 16,
   "id": "0f154e66",
   "metadata": {},
   "outputs": [
    {
     "data": {
      "text/html": [
       "<div>\n",
       "<style scoped>\n",
       "    .dataframe tbody tr th:only-of-type {\n",
       "        vertical-align: middle;\n",
       "    }\n",
       "\n",
       "    .dataframe tbody tr th {\n",
       "        vertical-align: top;\n",
       "    }\n",
       "\n",
       "    .dataframe thead th {\n",
       "        text-align: right;\n",
       "    }\n",
       "</style>\n",
       "<table border=\"1\" class=\"dataframe\">\n",
       "  <thead>\n",
       "    <tr style=\"text-align: right;\">\n",
       "      <th></th>\n",
       "      <th>feature</th>\n",
       "      <th>score decrease</th>\n",
       "    </tr>\n",
       "  </thead>\n",
       "  <tbody>\n",
       "    <tr>\n",
       "      <th>0</th>\n",
       "      <td>Price_USD</td>\n",
       "      <td>1.603529</td>\n",
       "    </tr>\n",
       "    <tr>\n",
       "      <th>2</th>\n",
       "      <td>DOT_fees</td>\n",
       "      <td>0.084487</td>\n",
       "    </tr>\n",
       "    <tr>\n",
       "      <th>5</th>\n",
       "      <td>Active_account</td>\n",
       "      <td>0.062478</td>\n",
       "    </tr>\n",
       "    <tr>\n",
       "      <th>7</th>\n",
       "      <td>available_value</td>\n",
       "      <td>0.009912</td>\n",
       "    </tr>\n",
       "    <tr>\n",
       "      <th>1</th>\n",
       "      <td>DOT_transactions</td>\n",
       "      <td>0.000416</td>\n",
       "    </tr>\n",
       "    <tr>\n",
       "      <th>6</th>\n",
       "      <td>New_account</td>\n",
       "      <td>0.000238</td>\n",
       "    </tr>\n",
       "    <tr>\n",
       "      <th>3</th>\n",
       "      <td>Bond_value</td>\n",
       "      <td>0.000122</td>\n",
       "    </tr>\n",
       "    <tr>\n",
       "      <th>8</th>\n",
       "      <td>expense_value</td>\n",
       "      <td>0.000052</td>\n",
       "    </tr>\n",
       "    <tr>\n",
       "      <th>4</th>\n",
       "      <td>Unbonding_value</td>\n",
       "      <td>-0.000012</td>\n",
       "    </tr>\n",
       "  </tbody>\n",
       "</table>\n",
       "</div>"
      ],
      "text/plain": [
       "            feature score decrease\n",
       "0         Price_USD       1.603529\n",
       "2          DOT_fees       0.084487\n",
       "5    Active_account       0.062478\n",
       "7   available_value       0.009912\n",
       "1  DOT_transactions       0.000416\n",
       "6       New_account       0.000238\n",
       "3        Bond_value       0.000122\n",
       "8     expense_value       0.000052\n",
       "4   Unbonding_value      -0.000012"
      ]
     },
     "execution_count": 16,
     "metadata": {},
     "output_type": "execute_result"
    }
   ],
   "source": [
    "importance_df"
   ]
  },
  {
   "cell_type": "markdown",
   "id": "0787cec0",
   "metadata": {},
   "source": [
    "> importance_df shows that only four features have a noticeable effect on the score of the model"
   ]
  },
  {
   "cell_type": "code",
   "execution_count": 17,
   "id": "7515b7fe",
   "metadata": {},
   "outputs": [],
   "source": [
    "importance_df = importance_df[importance_df['score decrease'] > 0.01]"
   ]
  },
  {
   "cell_type": "markdown",
   "id": "3c7ca196",
   "metadata": {},
   "source": [
    "### redefine X with only four features"
   ]
  },
  {
   "cell_type": "code",
   "execution_count": 18,
   "id": "92f70022",
   "metadata": {},
   "outputs": [],
   "source": [
    "X = df_merged.loc[:, importance_df['feature']]"
   ]
  },
  {
   "cell_type": "markdown",
   "id": "14cde168",
   "metadata": {},
   "source": [
    "### implement train_test_split to prevent data leakage"
   ]
  },
  {
   "cell_type": "code",
   "execution_count": 20,
   "id": "0c8d8a00",
   "metadata": {},
   "outputs": [],
   "source": [
    "X_train, X_test, y_train, y_test = train_test_split(X, y, random_state=42)"
   ]
  },
  {
   "cell_type": "markdown",
   "id": "325fd79f",
   "metadata": {},
   "source": [
    "### scale the feature data"
   ]
  },
  {
   "cell_type": "code",
   "execution_count": 23,
   "id": "93ff4605",
   "metadata": {},
   "outputs": [
    {
     "data": {
      "text/plain": [
       "array([[ 1.1738679 , -0.12075018,  0.27991862],\n",
       "       [-0.24926886, -0.16876416,  0.16625318],\n",
       "       [-1.31393585, -0.61416545, -0.55865578],\n",
       "       ...,\n",
       "       [ 1.60741134, -0.02484181,  0.41261808],\n",
       "       [ 0.55834754,  0.04342997,  0.42608554],\n",
       "       [-1.29607671, -0.67566408, -0.66244507]])"
      ]
     },
     "execution_count": 23,
     "metadata": {},
     "output_type": "execute_result"
    }
   ],
   "source": [
    "scaler = StandardScaler()\n",
    "scaler.fit(X_train)\n",
    "X_train_scaled = scaler.transform(X_train)\n",
    "X_train_scaled"
   ]
  },
  {
   "cell_type": "code",
   "execution_count": 24,
   "id": "7351f5e7",
   "metadata": {},
   "outputs": [
    {
     "data": {
      "text/plain": [
       "array([[ 1.67342823e+00, -3.28696531e-02,  3.98252775e-01],\n",
       "       [ 1.10637564e+00, -3.65858555e-02,  3.56952537e-01],\n",
       "       [-1.38718756e+00, -5.25789629e-01, -4.02612704e-01],\n",
       "       [-3.92523994e-01,  1.83482625e-01, -5.78228497e-01],\n",
       "       [-2.88483017e-01, -4.22973145e-02, -7.08414029e-01],\n",
       "       [-1.34654578e+00, -6.05233296e-01, -5.25076887e-01],\n",
       "       [-3.20979794e-01,  8.18796135e-03, -7.23318028e-01],\n",
       "       [-1.27916586e+00, -6.66103201e-01, -6.37126227e-01],\n",
       "       [ 1.04203265e+00, -1.96074355e-01,  1.20463785e-01],\n",
       "       [ 5.66417791e-01,  2.36559467e-01, -5.13045948e-01],\n",
       "       [ 3.85635864e-01,  4.06242000e-01, -4.42296845e-01],\n",
       "       [-3.30651619e-01, -4.19188430e-02, -7.47559472e-01],\n",
       "       [ 8.65372292e-01,  2.45066275e-01,  7.71391444e-01],\n",
       "       [ 6.13748650e-01,  1.81820138e-01, -5.04067636e-01],\n",
       "       [ 2.28170078e-01,  1.35061072e-01, -4.99219347e-01],\n",
       "       [ 1.46506265e+00,  6.42611320e-01,  9.09477891e-01],\n",
       "       [ 7.10754634e-01, -7.45491511e-02,  3.42587237e-01],\n",
       "       [-4.24180587e-01, -2.52754664e-01, -4.74306596e-02],\n",
       "       [ 6.55337042e-01, -7.28787126e-02,  3.40073310e-01],\n",
       "       [ 8.69826782e-01,  7.45959455e-02,  4.86060672e-01],\n",
       "       [-1.28117559e+00, -5.70258761e-01, -5.14123346e-01],\n",
       "       [-1.49560142e+00, -8.20785665e-01, -9.02884279e-01],\n",
       "       [ 5.10332085e-02, -3.37224918e-01, -1.34699857e-01],\n",
       "       [ 4.15114547e-01,  1.22544567e-01, -5.63504065e-01],\n",
       "       [-1.25430554e+00, -6.22993253e-01, -6.04983869e-01],\n",
       "       [ 1.14224711e+00,  7.29492676e-01,  1.74697489e+00],\n",
       "       [-1.29674625e-01, -2.31474168e-01,  6.01295247e-02],\n",
       "       [-4.21935887e-01, -3.29521370e-01, -1.19436726e-01],\n",
       "       [-1.31766087e+00, -7.05568097e-01, -7.22958895e-01],\n",
       "       [ 7.07692500e-01,  1.18158073e+00,  2.29088106e+00],\n",
       "       [-2.38465489e-01, -2.10036349e-02, -7.12364487e-01],\n",
       "       [ 9.26560377e-01, -2.24089325e-01,  8.65257636e-02],\n",
       "       [-1.00598062e+00, -3.77731792e-01, -1.52476916e-01],\n",
       "       [-1.30051273e+00, -6.43327192e-01, -6.31918806e-01],\n",
       "       [-1.30612686e+00, -6.60746534e-01, -6.84711284e-01],\n",
       "       [ 1.21744912e+00, -3.24187307e-02,  4.05794558e-01],\n",
       "       [-4.56710260e-01, -2.14504783e-01, -2.55235770e-02],\n",
       "       [ 9.76508905e-01, -1.23275003e-01,  2.46698859e-01],\n",
       "       [ 2.81803938e-01,  2.03664425e-01, -5.27590814e-01],\n",
       "       [ 8.59926983e-02,  2.76231949e-01, -5.89182038e-01],\n",
       "       [ 4.96899561e-01,  1.04585535e-01,  6.20555794e-01],\n",
       "       [-2.56816221e-01,  1.08537281e-01, -6.38742324e-01],\n",
       "       [ 1.57832776e+00,  5.18887108e-02,  5.63274160e-01],\n",
       "       [-1.91519465e-01,  6.15338086e-03, -6.78067333e-01],\n",
       "       [ 2.29525132e-02,  2.26484063e-01, -5.42674379e-01],\n",
       "       [-5.01208156e-02, -3.90438392e-01, -2.26458212e-01],\n",
       "       [ 9.95173411e-01,  5.85266325e-02,  4.53200048e-01],\n",
       "       [-1.28635911e+00, -6.49045478e-01, -6.68550321e-01],\n",
       "       [-1.16231120e+00, -3.82014107e-01, -2.40823512e-01],\n",
       "       [ 9.92290773e-01, -3.01157488e-02,  3.14036203e-01],\n",
       "       [ 5.99708160e-02,  3.03269972e-01, -5.60810571e-01],\n",
       "       [-1.48760371e+00, -7.91079197e-01, -9.08091700e-01],\n",
       "       [ 9.37944424e-03, -1.98521862e-01,  1.04841521e-01],\n",
       "       [-1.23399240e+00, -6.07665519e-01, -5.49318331e-01],\n",
       "       [-9.94141652e-02,  1.86494382e-01, -5.32259537e-01],\n",
       "       [ 1.31945881e+00,  8.89557720e-02,  6.21094492e-01],\n",
       "       [ 9.90839949e-01, -1.14323816e-01,  2.36822716e-01],\n",
       "       [-1.29908160e+00, -6.44079305e-01, -6.21863096e-01],\n",
       "       [ 1.13408345e+00,  1.82860814e-01,  6.46054201e-01],\n",
       "       [-1.22120320e-01,  8.19513247e-02, -6.20785699e-01],\n",
       "       [-1.48066124e+00, -8.16247395e-01, -9.11683025e-01],\n",
       "       [-1.24584766e+00, -6.85585273e-01, -6.78606031e-01],\n",
       "       [ 1.29316405e+00, -8.77593472e-02,  3.21218853e-01],\n",
       "       [-6.38802494e-01, -2.54077113e-01,  8.95314322e-03],\n",
       "       [-1.26427069e+00, -6.89368805e-01, -6.80581260e-01],\n",
       "       [ 9.73635160e-01, -2.47624427e-02,  4.38116483e-01],\n",
       "       [-2.42747388e-01,  9.69838649e-02, -6.52928057e-01],\n",
       "       [-2.66030680e-01,  2.30198164e-01, -6.10011724e-01],\n",
       "       [-1.25234401e+00, -6.58694305e-01, -6.27968349e-01],\n",
       "       [-1.14163045e+00, -4.86899647e-01, -4.13027546e-01],\n",
       "       [-1.29292234e+00, -6.59000137e-01, -6.36587529e-01],\n",
       "       [ 3.01750925e-01,  4.06104300e-01,  1.05061696e+00],\n",
       "       [-1.22686296e+00, -6.06160639e-01, -5.73918907e-01],\n",
       "       [ 1.01258664e-02,  2.29545089e-01, -5.77330666e-01],\n",
       "       [-1.25429027e+00, -6.11986555e-01, -5.48779632e-01],\n",
       "       [ 7.61375346e-01, -2.47052347e-01,  3.06806596e-02],\n",
       "       [ 7.22837746e-01, -2.76368557e-02,  3.36841117e-01],\n",
       "       [-1.34344567e+00, -8.16838716e-01, -9.18326976e-01],\n",
       "       [-1.21668731e+00, -6.32271273e-01, -5.85052015e-01],\n",
       "       [-3.69276285e-01, -2.72657473e-02, -7.35169400e-01],\n",
       "       [-1.63771524e-01,  1.13190400e-02, -7.02308776e-01],\n",
       "       [ 2.28119669e-02, -1.64399886e-01,  2.02525562e-01],\n",
       "       [-1.30569101e+00, -6.64207170e-01, -6.87943476e-01],\n",
       "       [ 5.70789219e-01,  3.25459764e-01, -2.02396334e-01],\n",
       "       [-1.29469063e+00, -6.67528014e-01, -6.84531718e-01],\n",
       "       [-4.99084991e-01, -2.11236253e-01,  7.30582948e-02],\n",
       "       [-4.18758273e-01,  2.37406396e-02,  5.16586934e-01],\n",
       "       [ 1.13245101e+00,  2.70636741e-01,  8.34778331e-01],\n",
       "       [-1.22021545e+00, -6.10570274e-01, -5.49857029e-01],\n",
       "       [ 1.23887166e-01, -3.98857691e-01, -2.16222935e-01],\n",
       "       [-1.27885546e+00, -7.10269783e-01, -7.25113690e-01],\n",
       "       [-2.03417093e-01,  1.27387818e-01, -5.76073702e-01],\n",
       "       [-2.12284798e-01,  8.32079796e-03, -6.95844391e-01],\n",
       "       [ 1.03994918e+00,  2.86221832e-01, -4.01894439e-01],\n",
       "       [ 4.59201184e-01, -3.19040397e-02,  3.07751385e-01],\n",
       "       [-1.27630605e+00, -6.59781127e-01, -6.47720636e-01],\n",
       "       [-1.24341308e+00, -6.51899698e-01, -6.12705217e-01],\n",
       "       [ 3.35795758e-01,  2.40094358e-01, -4.82878818e-01],\n",
       "       [ 6.56395469e-01,  2.87609895e-01,  8.73744207e-01],\n",
       "       [-1.36651313e+00, -8.26538733e-01, -9.13119555e-01],\n",
       "       [-8.71144768e-03, -1.75947147e-01,  1.65894046e-01],\n",
       "       [-3.57058507e-01,  1.80222458e-01, -5.59014908e-01],\n",
       "       [-1.30168203e+00, -6.52697750e-01, -6.46643239e-01],\n",
       "       [ 1.04743840e+00,  1.42036710e-01,  5.92902591e-01],\n",
       "       [ 1.09356604e+00, -8.98978860e-02,  2.48135389e-01],\n",
       "       [ 1.99461355e+00,  9.48823858e+00,  6.03806958e+00],\n",
       "       [ 1.04465786e-03,  3.19708130e-01, -5.43931343e-01],\n",
       "       [ 3.33422955e-02,  1.81139245e-01, -5.23281224e-01],\n",
       "       [-1.91773720e-01,  9.18833234e-03, -7.14339715e-01],\n",
       "       [-3.92815924e-01,  1.22899363e-01,  6.79633090e-01],\n",
       "       [ 5.41196950e-01, -7.23354730e-02,  3.52642947e-01],\n",
       "       [-4.36057239e-01, -2.91366431e-01, -2.49848782e-02],\n",
       "       [ 8.18266223e-01, -1.41757786e-01,  2.18327392e-01],\n",
       "       [-6.61864048e-01, -1.56954232e-01,  1.66612311e-01],\n",
       "       [-1.32108766e+00, -6.35253471e-01, -6.06061266e-01],\n",
       "       [-3.26334214e-01,  1.27143536e-01, -6.55262419e-01],\n",
       "       [-4.53511653e-01, -5.13058438e-01, -3.98841813e-01],\n",
       "       [-5.19275440e-03, -1.20734491e-02, -6.45027142e-01],\n",
       "       [ 1.86072149e+00,  3.27038330e+00,  1.91917892e+00],\n",
       "       [-1.01211512e-01, -3.11110838e-01, -8.40621747e-02],\n",
       "       [-1.25555840e+00, -6.24902411e-01, -5.90798135e-01],\n",
       "       [-1.11255403e+00, -3.25439641e-01, -7.65203922e-02],\n",
       "       [-1.27713990e+00, -6.37395613e-01, -6.20606132e-01],\n",
       "       [ 5.81659472e-01,  2.22252908e-01,  7.34041664e-01],\n",
       "       [-9.09649779e-01, -4.78038372e-01, -3.40482781e-01],\n",
       "       [ 1.12416721e+00, -3.17722975e-02,  4.31113399e-01],\n",
       "       [ 1.52751165e+00,  3.54945510e+00,  2.24796473e+00],\n",
       "       [ 1.69099421e+00,  1.01681261e-02,  4.69181444e-01],\n",
       "       [-3.52417764e-01, -1.05374078e-02, -6.93510030e-01],\n",
       "       [-6.88850286e-02, -3.79869494e-01, -2.04191997e-01],\n",
       "       [-7.01288027e-01, -2.15960967e-01,  6.94669698e-02],\n",
       "       [ 9.61989078e-01, -8.07662190e-02,  2.36822716e-01],\n",
       "       [ 4.86895453e-01, -1.92672786e-01,  1.43448265e-01],\n",
       "       [-1.29932989e+00, -7.15161794e-01, -7.26191088e-01],\n",
       "       [-1.28364056e+00, -5.36461616e-01, -6.76451236e-01],\n",
       "       [ 3.71661955e-01,  3.03274818e-01, -5.64940595e-01],\n",
       "       [-4.36340174e-01, -2.99705314e-01, -5.91024659e-02],\n",
       "       [-1.86359753e-01,  9.81085634e-03, -6.71602948e-01],\n",
       "       [ 1.63481837e+00,  7.16353845e-01,  1.10466641e+00],\n",
       "       [ 1.00099783e+00,  1.93784105e-01,  6.29174974e-01],\n",
       "       [ 4.32733634e-01, -1.25635597e-01,  2.36822716e-01],\n",
       "       [ 4.45613004e-01,  3.69067306e-03,  3.74370464e-01],\n",
       "       [ 1.51040222e-01, -2.54703117e-01, -1.64126559e-03],\n",
       "       [ 8.36400332e-01,  4.17495114e-01,  1.20468481e+00],\n",
       "       [ 1.50346433e+00, -2.31675335e-01,  5.29468747e-02],\n",
       "       [-1.23050736e+00, -7.10120804e-01, -7.21163233e-01],\n",
       "       [ 2.36883583e+00,  4.29414743e+00,  4.91183006e+00],\n",
       "       [ 4.07171180e-01,  4.22171368e-01, -3.71009044e-01],\n",
       "       [-1.16185979e+00, -5.07992919e-01, -4.54686917e-01],\n",
       "       [-1.28633688e+00, -6.32903940e-01, -6.45386275e-01],\n",
       "       [-2.27598492e-01,  2.10068288e-01, -5.36209994e-01],\n",
       "       [-1.30392249e+00, -6.18764755e-01, -5.87386376e-01],\n",
       "       [-1.48059348e+00, -8.25618610e-01, -9.24791361e-01],\n",
       "       [-1.00694608e+00, -3.83109460e-01, -1.65046554e-01],\n",
       "       [-9.90747125e-01, -4.79906182e-01, -3.60953334e-01],\n",
       "       [-2.74699776e-01,  7.85615179e-02, -6.14860012e-01],\n",
       "       [ 6.02600095e-01, -8.49212129e-02,  3.39534611e-01],\n",
       "       [-1.91391424e-01, -1.77096429e-01,  1.24414243e-01],\n",
       "       [-1.28726222e+00, -6.86292757e-01, -6.82915621e-01],\n",
       "       [ 1.42415479e+00,  5.23356431e-01, -1.70613108e-01]])"
      ]
     },
     "execution_count": 24,
     "metadata": {},
     "output_type": "execute_result"
    }
   ],
   "source": [
    "X_test_scaled = scaler.transform(X_test)\n",
    "X_test_scaled"
   ]
  },
  {
   "cell_type": "code",
   "execution_count": null,
   "id": "946cc3b9",
   "metadata": {},
   "outputs": [],
   "source": []
  }
 ],
 "metadata": {
  "kernelspec": {
   "display_name": "Python 3 (ipykernel)",
   "language": "python",
   "name": "python3"
  },
  "language_info": {
   "codemirror_mode": {
    "name": "ipython",
    "version": 3
   },
   "file_extension": ".py",
   "mimetype": "text/x-python",
   "name": "python",
   "nbconvert_exporter": "python",
   "pygments_lexer": "ipython3",
   "version": "3.8.12"
  },
  "toc": {
   "base_numbering": 1,
   "nav_menu": {},
   "number_sections": false,
   "sideBar": true,
   "skip_h1_title": false,
   "title_cell": "Table of Contents",
   "title_sidebar": "Contents",
   "toc_cell": false,
   "toc_position": {},
   "toc_section_display": true,
   "toc_window_display": false
  }
 },
 "nbformat": 4,
 "nbformat_minor": 5
}
