{
 "cells": [
  {
   "cell_type": "markdown",
   "id": "5da1bda6",
   "metadata": {},
   "source": [
    "# Creating features and target"
   ]
  },
  {
   "cell_type": "markdown",
   "id": "02e41b5a",
   "metadata": {},
   "source": [
    "## import packages and DataFrame"
   ]
  },
  {
   "cell_type": "code",
   "execution_count": 52,
   "id": "689aa765",
   "metadata": {},
   "outputs": [],
   "source": [
    "from features import Dataframe\n",
    "import pandas as pd\n",
    "import seaborn as sns\n",
    "import matplotlib.pyplot as plt\n",
    "import numpy as np\n",
    "from sklearn.preprocessing import RobustScaler\n",
    "from sklearn.inspection import permutation_importance\n",
    "from sklearn.neighbors import KNeighborsClassifier\n",
    "from sklearn.tree import DecisionTreeClassifier\n",
    "from sklearn.ensemble import RandomForestClassifier, AdaBoostClassifier, GradientBoostingClassifier\n",
    "from sklearn.svm import SVC\n",
    "from sklearn.metrics import classification_report, confusion_matrix\n",
    "from sklearn.model_selection import train_test_split"
   ]
  },
  {
   "cell_type": "code",
   "execution_count": 2,
   "id": "1e64efd6",
   "metadata": {},
   "outputs": [],
   "source": [
    "polkadot = Dataframe().get_dataframe()"
   ]
  },
  {
   "cell_type": "code",
   "execution_count": 3,
   "id": "ae6a72e0",
   "metadata": {},
   "outputs": [
    {
     "data": {
      "text/html": [
       "<div>\n",
       "<style scoped>\n",
       "    .dataframe tbody tr th:only-of-type {\n",
       "        vertical-align: middle;\n",
       "    }\n",
       "\n",
       "    .dataframe tbody tr th {\n",
       "        vertical-align: top;\n",
       "    }\n",
       "\n",
       "    .dataframe thead th {\n",
       "        text-align: right;\n",
       "    }\n",
       "</style>\n",
       "<table border=\"1\" class=\"dataframe\">\n",
       "  <thead>\n",
       "    <tr style=\"text-align: right;\">\n",
       "      <th></th>\n",
       "      <th>date</th>\n",
       "      <th>current_price</th>\n",
       "      <th>current_price_sats</th>\n",
       "      <th>market_cap</th>\n",
       "      <th>reddit_post_48h</th>\n",
       "      <th>reddit_comment_48h</th>\n",
       "      <th>reddit_subscribers</th>\n",
       "      <th>reddit_active_accounts</th>\n",
       "      <th>public_interest_stats</th>\n",
       "      <th>Value</th>\n",
       "      <th>Value_classification</th>\n",
       "    </tr>\n",
       "  </thead>\n",
       "  <tbody>\n",
       "    <tr>\n",
       "      <th>0</th>\n",
       "      <td>2020-08-19</td>\n",
       "      <td>2.936665</td>\n",
       "      <td>25024.566687</td>\n",
       "      <td>0.000000e+00</td>\n",
       "      <td>0.000</td>\n",
       "      <td>0.750</td>\n",
       "      <td>193</td>\n",
       "      <td>7.200000</td>\n",
       "      <td>NaN</td>\n",
       "      <td>80</td>\n",
       "      <td>Extreme Greed</td>\n",
       "    </tr>\n",
       "    <tr>\n",
       "      <th>1</th>\n",
       "      <td>2020-08-20</td>\n",
       "      <td>2.936665</td>\n",
       "      <td>25024.566687</td>\n",
       "      <td>0.000000e+00</td>\n",
       "      <td>0.000</td>\n",
       "      <td>0.667</td>\n",
       "      <td>212</td>\n",
       "      <td>5.500000</td>\n",
       "      <td>NaN</td>\n",
       "      <td>75</td>\n",
       "      <td>Greed</td>\n",
       "    </tr>\n",
       "    <tr>\n",
       "      <th>2</th>\n",
       "      <td>2020-08-21</td>\n",
       "      <td>2.898791</td>\n",
       "      <td>24435.409268</td>\n",
       "      <td>0.000000e+00</td>\n",
       "      <td>0.000</td>\n",
       "      <td>1.727</td>\n",
       "      <td>237</td>\n",
       "      <td>6.333333</td>\n",
       "      <td>NaN</td>\n",
       "      <td>81</td>\n",
       "      <td>Extreme Greed</td>\n",
       "    </tr>\n",
       "    <tr>\n",
       "      <th>3</th>\n",
       "      <td>2020-08-22</td>\n",
       "      <td>2.871923</td>\n",
       "      <td>24934.417517</td>\n",
       "      <td>0.000000e+00</td>\n",
       "      <td>0.417</td>\n",
       "      <td>2.750</td>\n",
       "      <td>269</td>\n",
       "      <td>8.538462</td>\n",
       "      <td>NaN</td>\n",
       "      <td>78</td>\n",
       "      <td>Extreme Greed</td>\n",
       "    </tr>\n",
       "    <tr>\n",
       "      <th>4</th>\n",
       "      <td>2020-08-23</td>\n",
       "      <td>4.481389</td>\n",
       "      <td>38367.856477</td>\n",
       "      <td>4.028277e+09</td>\n",
       "      <td>1.091</td>\n",
       "      <td>5.364</td>\n",
       "      <td>313</td>\n",
       "      <td>16.500000</td>\n",
       "      <td>NaN</td>\n",
       "      <td>76</td>\n",
       "      <td>Extreme Greed</td>\n",
       "    </tr>\n",
       "  </tbody>\n",
       "</table>\n",
       "</div>"
      ],
      "text/plain": [
       "        date  current_price  current_price_sats    market_cap  \\\n",
       "0 2020-08-19       2.936665        25024.566687  0.000000e+00   \n",
       "1 2020-08-20       2.936665        25024.566687  0.000000e+00   \n",
       "2 2020-08-21       2.898791        24435.409268  0.000000e+00   \n",
       "3 2020-08-22       2.871923        24934.417517  0.000000e+00   \n",
       "4 2020-08-23       4.481389        38367.856477  4.028277e+09   \n",
       "\n",
       "   reddit_post_48h  reddit_comment_48h  reddit_subscribers  \\\n",
       "0            0.000               0.750                 193   \n",
       "1            0.000               0.667                 212   \n",
       "2            0.000               1.727                 237   \n",
       "3            0.417               2.750                 269   \n",
       "4            1.091               5.364                 313   \n",
       "\n",
       "   reddit_active_accounts  public_interest_stats  Value Value_classification  \n",
       "0                7.200000                    NaN     80        Extreme Greed  \n",
       "1                5.500000                    NaN     75                Greed  \n",
       "2                6.333333                    NaN     81        Extreme Greed  \n",
       "3                8.538462                    NaN     78        Extreme Greed  \n",
       "4               16.500000                    NaN     76        Extreme Greed  "
      ]
     },
     "execution_count": 3,
     "metadata": {},
     "output_type": "execute_result"
    }
   ],
   "source": [
    "polkadot.head()"
   ]
  },
  {
   "cell_type": "markdown",
   "id": "8e8e1a40",
   "metadata": {},
   "source": [
    "## create target"
   ]
  },
  {
   "cell_type": "markdown",
   "id": "ca52494d",
   "metadata": {},
   "source": [
    "> create price in two days as target, then convert that into 0 (price less than the day before)\n",
    "or 1 (price more than the day before)"
   ]
  },
  {
   "cell_type": "code",
   "execution_count": 4,
   "id": "1b17afd6",
   "metadata": {},
   "outputs": [],
   "source": [
    "polkadot['predict'] = polkadot['current_price'].shift(-2)"
   ]
  },
  {
   "cell_type": "code",
   "execution_count": 5,
   "id": "bc38a1ac",
   "metadata": {},
   "outputs": [],
   "source": [
    "polkadot['predict'] = pd.Series(np.where(polkadot['predict'].values < polkadot['current_price'], 0, 1),\n",
    "          polkadot.index)"
   ]
  },
  {
   "cell_type": "markdown",
   "id": "2427b0f6",
   "metadata": {},
   "source": [
    "## create new features"
   ]
  },
  {
   "cell_type": "code",
   "execution_count": 6,
   "id": "81058e62",
   "metadata": {},
   "outputs": [],
   "source": [
    "polkadot['price_ema5'] = polkadot['current_price'].ewm(span=5, adjust=False).mean()\n",
    "polkadot['price_ema20'] = polkadot['current_price'].ewm(span=20, adjust=False).mean()\n",
    "polkadot['price_ema50'] = polkadot['current_price'].ewm(span=50, adjust=False).mean()\n",
    "\n",
    "polkadot['fear_ema5'] = polkadot['Value'].ewm(span=2, adjust=False).mean()\n",
    "polkadot['fear_ema20'] = polkadot['Value'].ewm(span=20, adjust=False).mean()\n",
    "polkadot['fear_ema50'] = polkadot['Value'].ewm(span=50, adjust=False).mean()\n",
    "\n",
    "polkadot['fear_change_2_days'] = polkadot['Value'] - polkadot['Value'].shift(2)\n",
    "polkadot['fear_change_1_week'] = polkadot['Value'] - polkadot['Value'].shift(7)\n",
    "polkadot['fear_change_2_weeks'] = polkadot['Value'] - polkadot['Value'].shift(14)\n",
    "\n",
    "polkadot['reddit_post_ema5'] = polkadot['reddit_post_48h'].ewm(span=5, adjust=False).mean()\n",
    "polkadot['reddit_post_ema20'] = polkadot['reddit_post_48h'].ewm(span=20, adjust=False).mean()\n",
    "polkadot['reddit_post_ema50'] = polkadot['reddit_post_48h'].ewm(span=50, adjust=False).mean()\n",
    "\n",
    "polkadot['reddit_change_2_days'] = polkadot['reddit_post_48h'] - polkadot['reddit_post_48h'].shift(2)\n",
    "polkadot['reddit_change_1_week'] = polkadot['reddit_post_48h'] - polkadot['reddit_post_48h'].shift(7)\n",
    "polkadot['reddit_change_2_weeks'] = polkadot['reddit_post_48h'] - polkadot['reddit_post_48h'].shift(14)\n",
    "\n",
    "polkadot['sats_ema5'] = polkadot['current_price_sats'].ewm(span=5, adjust=False).mean()\n",
    "polkadot['sats_ema20'] = polkadot['current_price_sats'].ewm(span=20, adjust=False).mean()\n",
    "polkadot['sats_ema50'] = polkadot['current_price_sats'].ewm(span=50, adjust=False).mean()\n",
    "\n",
    "polkadot['sats_change_2_days'] = polkadot['current_price_sats'] - polkadot['current_price_sats'].shift(2)\n",
    "polkadot['sats_change_1_week'] = polkadot['current_price_sats'] - polkadot['current_price_sats'].shift(7)\n",
    "polkadot['sats_change_2_weeks'] = polkadot['current_price_sats'] - polkadot['current_price_sats'].shift(14)\n",
    "\n",
    "polkadot['price_change_2_days'] = polkadot['current_price'] - polkadot['current_price'].shift(2)\n",
    "polkadot['price_change_1_week'] = polkadot['current_price'] - polkadot['current_price'].shift(7)\n",
    "polkadot['price_change_2_weeks'] = polkadot['current_price'] - polkadot['current_price'].shift(14)"
   ]
  },
  {
   "cell_type": "code",
   "execution_count": 7,
   "id": "d242ceb3",
   "metadata": {},
   "outputs": [],
   "source": [
    "polkadot.dropna(inplace=True)"
   ]
  },
  {
   "cell_type": "code",
   "execution_count": 8,
   "id": "db65dd6c",
   "metadata": {},
   "outputs": [],
   "source": [
    "df = Dataframe().get_features_targets()"
   ]
  },
  {
   "cell_type": "markdown",
   "id": "7e45a6b7",
   "metadata": {},
   "source": [
    "## find optimal features"
   ]
  },
  {
   "cell_type": "markdown",
   "id": "85a9fc32",
   "metadata": {},
   "source": [
    "### create features and target"
   ]
  },
  {
   "cell_type": "code",
   "execution_count": 9,
   "id": "66ccd643",
   "metadata": {},
   "outputs": [],
   "source": [
    "X = df.drop(columns=['predict', 'date', 'Value_classification'])\n",
    "y = df['predict']"
   ]
  },
  {
   "cell_type": "markdown",
   "id": "99ce2694",
   "metadata": {},
   "source": [
    "### use RobustScaler to scale features"
   ]
  },
  {
   "cell_type": "code",
   "execution_count": 10,
   "id": "15ab694e",
   "metadata": {},
   "outputs": [],
   "source": [
    "scaler = RobustScaler().fit(X)\n",
    "X_scaled = scaler.transform(X)"
   ]
  },
  {
   "cell_type": "markdown",
   "id": "d27d954c",
   "metadata": {},
   "source": [
    "### use feature permutation to find most important features"
   ]
  },
  {
   "cell_type": "code",
   "execution_count": 11,
   "id": "fdc035b2",
   "metadata": {},
   "outputs": [],
   "source": [
    "regressor = KNeighborsClassifier().fit(X_scaled, y)\n",
    "permutation_score = permutation_importance(regressor, X_scaled, y, n_repeats=10)\n",
    "importance_df = pd.DataFrame(np.vstack((X.columns,\n",
    "                                        permutation_score.importances_mean)).T)\n",
    "importance_df.columns=['feature','score decrease']\n",
    "\n",
    "importance_df['score decrease'] = abs(importance_df['score decrease'])\n",
    "importance_df = importance_df.sort_values(by=\"score decrease\", ascending = False)"
   ]
  },
  {
   "cell_type": "code",
   "execution_count": 12,
   "id": "0829746c",
   "metadata": {},
   "outputs": [],
   "source": [
    "features = importance_df['feature']"
   ]
  },
  {
   "cell_type": "markdown",
   "id": "5679e99a",
   "metadata": {},
   "source": [
    "### test different classifiers"
   ]
  },
  {
   "cell_type": "code",
   "execution_count": 112,
   "id": "f302af40",
   "metadata": {},
   "outputs": [],
   "source": [
    "X_train, X_test, y_train, y_test = train_test_split(X_scaled, y, test_size=0.2, random_state=42)"
   ]
  },
  {
   "cell_type": "code",
   "execution_count": 113,
   "id": "fa9c96ab",
   "metadata": {},
   "outputs": [],
   "source": [
    "k_regressor = KNeighborsClassifier().fit(X_train, y_train)\n",
    "s_model = SVC().fit(X_train, y_train)\n",
    "classifier = DecisionTreeClassifier().fit(X_train, y_train)\n",
    "random_classifier = RandomForestClassifier().fit(X_train, y_train)\n",
    "ada = AdaBoostClassifier().fit(X_train, y_train)\n",
    "gradient = GradientBoostingClassifier().fit(X_train, y_train)"
   ]
  },
  {
   "cell_type": "code",
   "execution_count": 114,
   "id": "0df075ba",
   "metadata": {},
   "outputs": [],
   "source": [
    "scores = pd.DataFrame(columns=['scores'], index=['KNeighbors', 'Support Vector', 'Decision Tree',\n",
    "                                                'Random Forest', 'Ada Boost', 'Gradient Boost'], \n",
    "                      data=[k_regressor.score(X_test, y_test), s_model.score(X_test, y_test),\n",
    "                           classifier.score(X_test, y_test), random_classifier.score(X_test, y_test),\n",
    "                           ada.score(X_test, y_test), gradient.score(X_test, y_test)])"
   ]
  },
  {
   "cell_type": "code",
   "execution_count": 115,
   "id": "bd5850d1",
   "metadata": {},
   "outputs": [
    {
     "data": {
      "text/html": [
       "<div>\n",
       "<style scoped>\n",
       "    .dataframe tbody tr th:only-of-type {\n",
       "        vertical-align: middle;\n",
       "    }\n",
       "\n",
       "    .dataframe tbody tr th {\n",
       "        vertical-align: top;\n",
       "    }\n",
       "\n",
       "    .dataframe thead th {\n",
       "        text-align: right;\n",
       "    }\n",
       "</style>\n",
       "<table border=\"1\" class=\"dataframe\">\n",
       "  <thead>\n",
       "    <tr style=\"text-align: right;\">\n",
       "      <th></th>\n",
       "      <th>scores</th>\n",
       "    </tr>\n",
       "  </thead>\n",
       "  <tbody>\n",
       "    <tr>\n",
       "      <th>KNeighbors</th>\n",
       "      <td>0.481818</td>\n",
       "    </tr>\n",
       "    <tr>\n",
       "      <th>Support Vector</th>\n",
       "      <td>0.572727</td>\n",
       "    </tr>\n",
       "    <tr>\n",
       "      <th>Decision Tree</th>\n",
       "      <td>0.654545</td>\n",
       "    </tr>\n",
       "    <tr>\n",
       "      <th>Random Forest</th>\n",
       "      <td>0.663636</td>\n",
       "    </tr>\n",
       "    <tr>\n",
       "      <th>Ada Boost</th>\n",
       "      <td>0.636364</td>\n",
       "    </tr>\n",
       "    <tr>\n",
       "      <th>Gradient Boost</th>\n",
       "      <td>0.627273</td>\n",
       "    </tr>\n",
       "  </tbody>\n",
       "</table>\n",
       "</div>"
      ],
      "text/plain": [
       "                  scores\n",
       "KNeighbors      0.481818\n",
       "Support Vector  0.572727\n",
       "Decision Tree   0.654545\n",
       "Random Forest   0.663636\n",
       "Ada Boost       0.636364\n",
       "Gradient Boost  0.627273"
      ]
     },
     "execution_count": 115,
     "metadata": {},
     "output_type": "execute_result"
    }
   ],
   "source": [
    "scores"
   ]
  },
  {
   "cell_type": "code",
   "execution_count": 125,
   "id": "98f0c1f5",
   "metadata": {},
   "outputs": [
    {
     "data": {
      "text/plain": [
       "<AxesSubplot:xlabel='scores'>"
      ]
     },
     "execution_count": 125,
     "metadata": {},
     "output_type": "execute_result"
    },
    {
     "data": {
      "image/png": "[encoded data removed]",
      "text/plain": [
       "<Figure size 432x288 with 1 Axes>"
      ]
     },
     "metadata": {
      "needs_background": "light"
     },
     "output_type": "display_data"
    }
   ],
   "source": [
    "sns.barplot(y=scores.index, x=scores['scores'])\n",
    "plt.xlabel('Score')\n",
    "plt.title('')"
   ]
  },
  {
   "cell_type": "markdown",
   "id": "461f5f80",
   "metadata": {},
   "source": [
    "> Let's experiment more with DecisionTreeClassifier to see if we can improve results"
   ]
  },
  {
   "cell_type": "code",
   "execution_count": 19,
   "id": "cd06dd93",
   "metadata": {},
   "outputs": [
    {
     "name": "stdout",
     "output_type": "stream",
     "text": [
      "[[31 24]\n",
      " [23 32]]\n",
      "              precision    recall  f1-score   support\n",
      "\n",
      "           0       0.57      0.56      0.57        55\n",
      "           1       0.57      0.58      0.58        55\n",
      "\n",
      "    accuracy                           0.57       110\n",
      "   macro avg       0.57      0.57      0.57       110\n",
      "weighted avg       0.57      0.57      0.57       110\n",
      "\n"
     ]
    }
   ],
   "source": [
    "print(confusion_matrix(y_test, y_pred))\n",
    "print(classification_report(y_test, y_pred))"
   ]
  },
  {
   "cell_type": "markdown",
   "id": "124a3377",
   "metadata": {},
   "source": [
    "# Decision Tree Classifier"
   ]
  },
  {
   "cell_type": "markdown",
   "id": "9c0b0410",
   "metadata": {},
   "source": []
  }
 ],
 "metadata": {
  "kernelspec": {
   "display_name": "Python 3 (ipykernel)",
   "language": "python",
   "name": "python3"
  },
  "language_info": {
   "codemirror_mode": {
    "name": "ipython",
    "version": 3
   },
   "file_extension": ".py",
   "mimetype": "text/x-python",
   "name": "python",
   "nbconvert_exporter": "python",
   "pygments_lexer": "ipython3",
   "version": "3.8.12"
  },
  "toc": {
   "base_numbering": 1,
   "nav_menu": {},
   "number_sections": false,
   "sideBar": true,
   "skip_h1_title": false,
   "title_cell": "Table of Contents",
   "title_sidebar": "Contents",
   "toc_cell": false,
   "toc_position": {},
   "toc_section_display": true,
   "toc_window_display": true
  }
 },
 "nbformat": 4,
 "nbformat_minor": 5
}
