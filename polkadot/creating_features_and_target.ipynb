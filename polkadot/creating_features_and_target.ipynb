{
 "cells": [
  {
   "cell_type": "markdown",
   "id": "5da1bda6",
   "metadata": {},
   "source": [
    "# Creating features and target"
   ]
  },
  {
   "cell_type": "markdown",
   "id": "02e41b5a",
   "metadata": {},
   "source": [
    "## import packages and DataFrame"
   ]
  },
  {
   "cell_type": "code",
   "execution_count": 1,
   "id": "689aa765",
   "metadata": {},
   "outputs": [],
   "source": [
    "from features import Dataframe\n",
    "import pandas as pd\n",
    "import seaborn as sns\n",
    "import matplotlib.pyplot as plt\n",
    "import numpy as np\n",
    "from sklearn.preprocessing import RobustScaler\n",
    "from sklearn.inspection import permutation_importance\n",
    "from sklearn.neighbors import KNeighborsClassifier\n",
    "from sklearn.tree import DecisionTreeClassifier\n",
    "from sklearn.ensemble import RandomForestClassifier, AdaBoostClassifier, GradientBoostingClassifier\n",
    "from sklearn.svm import SVC\n",
    "from sklearn.metrics import classification_report, confusion_matrix\n",
    "from sklearn.experimental import enable_halving_search_cv\n",
    "from sklearn.model_selection import train_test_split, HalvingGridSearchCV, cross_val_score\n",
    "from sklearn.impute import SimpleImputer\n",
    "from sklearn.feature_selection import SelectKBest, mutual_info_classif\n",
    "from functools import reduce\n",
    "from utils import Utils\n",
    "import warnings\n",
    "warnings.filterwarnings('ignore')"
   ]
  },
  {
   "cell_type": "code",
   "execution_count": 2,
   "id": "1e64efd6",
   "metadata": {},
   "outputs": [],
   "source": [
    "polkadot = Dataframe().get_dataframe()"
   ]
  },
  {
   "cell_type": "code",
   "execution_count": 3,
   "id": "ae6a72e0",
   "metadata": {},
   "outputs": [
    {
     "data": {
      "text/html": [
       "<div>\n",
       "<style scoped>\n",
       "    .dataframe tbody tr th:only-of-type {\n",
       "        vertical-align: middle;\n",
       "    }\n",
       "\n",
       "    .dataframe tbody tr th {\n",
       "        vertical-align: top;\n",
       "    }\n",
       "\n",
       "    .dataframe thead th {\n",
       "        text-align: right;\n",
       "    }\n",
       "</style>\n",
       "<table border=\"1\" class=\"dataframe\">\n",
       "  <thead>\n",
       "    <tr style=\"text-align: right;\">\n",
       "      <th></th>\n",
       "      <th>date</th>\n",
       "      <th>current_price</th>\n",
       "      <th>current_price_sats</th>\n",
       "      <th>market_cap</th>\n",
       "      <th>reddit_post_48h</th>\n",
       "      <th>reddit_comment_48h</th>\n",
       "      <th>reddit_subscribers</th>\n",
       "      <th>reddit_active_accounts</th>\n",
       "      <th>public_interest_stats</th>\n",
       "      <th>Value</th>\n",
       "      <th>Value_classification</th>\n",
       "      <th>new_accounts</th>\n",
       "      <th>active_accounts</th>\n",
       "      <th>fees</th>\n",
       "    </tr>\n",
       "  </thead>\n",
       "  <tbody>\n",
       "    <tr>\n",
       "      <th>628</th>\n",
       "      <td>2022-05-09</td>\n",
       "      <td>13.229361</td>\n",
       "      <td>38851.622851</td>\n",
       "      <td>1.469313e+10</td>\n",
       "      <td>0.600</td>\n",
       "      <td>5.100</td>\n",
       "      <td>39889.0</td>\n",
       "      <td>60.363636</td>\n",
       "      <td>38454.0</td>\n",
       "      <td>11.0</td>\n",
       "      <td>Extreme Fear</td>\n",
       "      <td>4074.0</td>\n",
       "      <td>3933.0</td>\n",
       "      <td>15520.0</td>\n",
       "    </tr>\n",
       "    <tr>\n",
       "      <th>629</th>\n",
       "      <td>2022-05-10</td>\n",
       "      <td>10.801430</td>\n",
       "      <td>35649.269219</td>\n",
       "      <td>1.205226e+10</td>\n",
       "      <td>2.000</td>\n",
       "      <td>16.556</td>\n",
       "      <td>39906.0</td>\n",
       "      <td>70.600000</td>\n",
       "      <td>38454.0</td>\n",
       "      <td>10.0</td>\n",
       "      <td>Extreme Fear</td>\n",
       "      <td>3867.0</td>\n",
       "      <td>4157.0</td>\n",
       "      <td>18061.0</td>\n",
       "    </tr>\n",
       "    <tr>\n",
       "      <th>630</th>\n",
       "      <td>2022-05-11</td>\n",
       "      <td>11.325015</td>\n",
       "      <td>36527.298076</td>\n",
       "      <td>1.252311e+10</td>\n",
       "      <td>0.917</td>\n",
       "      <td>11.500</td>\n",
       "      <td>39925.0</td>\n",
       "      <td>78.923077</td>\n",
       "      <td>38454.0</td>\n",
       "      <td>12.0</td>\n",
       "      <td>Extreme Fear</td>\n",
       "      <td>5667.0</td>\n",
       "      <td>6260.0</td>\n",
       "      <td>23805.0</td>\n",
       "    </tr>\n",
       "    <tr>\n",
       "      <th>631</th>\n",
       "      <td>2022-05-12</td>\n",
       "      <td>8.901204</td>\n",
       "      <td>30831.159321</td>\n",
       "      <td>9.740921e+09</td>\n",
       "      <td>0.750</td>\n",
       "      <td>15.250</td>\n",
       "      <td>39948.0</td>\n",
       "      <td>81.000000</td>\n",
       "      <td>38454.0</td>\n",
       "      <td>12.0</td>\n",
       "      <td>Extreme Fear</td>\n",
       "      <td>6475.0</td>\n",
       "      <td>5720.0</td>\n",
       "      <td>22966.0</td>\n",
       "    </tr>\n",
       "    <tr>\n",
       "      <th>632</th>\n",
       "      <td>2022-05-13</td>\n",
       "      <td>8.769325</td>\n",
       "      <td>30114.350218</td>\n",
       "      <td>9.672795e+09</td>\n",
       "      <td>1.222</td>\n",
       "      <td>12.778</td>\n",
       "      <td>39965.0</td>\n",
       "      <td>78.900000</td>\n",
       "      <td>38454.0</td>\n",
       "      <td>10.0</td>\n",
       "      <td>Extreme Fear</td>\n",
       "      <td>4667.0</td>\n",
       "      <td>4158.0</td>\n",
       "      <td>17438.0</td>\n",
       "    </tr>\n",
       "    <tr>\n",
       "      <th>633</th>\n",
       "      <td>2022-05-14</td>\n",
       "      <td>10.487976</td>\n",
       "      <td>35798.763057</td>\n",
       "      <td>1.154770e+10</td>\n",
       "      <td>1.444</td>\n",
       "      <td>15.333</td>\n",
       "      <td>39974.0</td>\n",
       "      <td>73.600000</td>\n",
       "      <td>38454.0</td>\n",
       "      <td>9.0</td>\n",
       "      <td>Extreme Fear</td>\n",
       "      <td>3449.0</td>\n",
       "      <td>6027.0</td>\n",
       "      <td>14147.0</td>\n",
       "    </tr>\n",
       "    <tr>\n",
       "      <th>634</th>\n",
       "      <td>2022-05-15</td>\n",
       "      <td>11.376092</td>\n",
       "      <td>37684.247686</td>\n",
       "      <td>1.273195e+10</td>\n",
       "      <td>1.250</td>\n",
       "      <td>15.250</td>\n",
       "      <td>39986.0</td>\n",
       "      <td>57.555556</td>\n",
       "      <td>38454.0</td>\n",
       "      <td>10.0</td>\n",
       "      <td>Extreme Fear</td>\n",
       "      <td>2881.0</td>\n",
       "      <td>11712.0</td>\n",
       "      <td>18628.0</td>\n",
       "    </tr>\n",
       "    <tr>\n",
       "      <th>635</th>\n",
       "      <td>2022-05-16</td>\n",
       "      <td>11.800641</td>\n",
       "      <td>37710.067770</td>\n",
       "      <td>1.308825e+10</td>\n",
       "      <td>1.222</td>\n",
       "      <td>19.000</td>\n",
       "      <td>39992.0</td>\n",
       "      <td>60.300000</td>\n",
       "      <td>51803.0</td>\n",
       "      <td>14.0</td>\n",
       "      <td>Extreme Fear</td>\n",
       "      <td>821.0</td>\n",
       "      <td>4677.0</td>\n",
       "      <td>7225.0</td>\n",
       "    </tr>\n",
       "    <tr>\n",
       "      <th>636</th>\n",
       "      <td>2022-05-17</td>\n",
       "      <td>10.661735</td>\n",
       "      <td>35619.793504</td>\n",
       "      <td>1.187424e+10</td>\n",
       "      <td>1.200</td>\n",
       "      <td>8.600</td>\n",
       "      <td>40003.0</td>\n",
       "      <td>64.363636</td>\n",
       "      <td>51803.0</td>\n",
       "      <td>8.0</td>\n",
       "      <td>Extreme Fear</td>\n",
       "      <td>NaN</td>\n",
       "      <td>NaN</td>\n",
       "      <td>NaN</td>\n",
       "    </tr>\n",
       "    <tr>\n",
       "      <th>637</th>\n",
       "      <td>2022-05-18</td>\n",
       "      <td>11.053819</td>\n",
       "      <td>36248.812004</td>\n",
       "      <td>1.231961e+10</td>\n",
       "      <td>1.167</td>\n",
       "      <td>9.917</td>\n",
       "      <td>40019.0</td>\n",
       "      <td>66.153846</td>\n",
       "      <td>51803.0</td>\n",
       "      <td>12.0</td>\n",
       "      <td>Extreme Fear</td>\n",
       "      <td>NaN</td>\n",
       "      <td>NaN</td>\n",
       "      <td>NaN</td>\n",
       "    </tr>\n",
       "  </tbody>\n",
       "</table>\n",
       "</div>"
      ],
      "text/plain": [
       "          date  current_price  current_price_sats    market_cap  \\\n",
       "628 2022-05-09      13.229361        38851.622851  1.469313e+10   \n",
       "629 2022-05-10      10.801430        35649.269219  1.205226e+10   \n",
       "630 2022-05-11      11.325015        36527.298076  1.252311e+10   \n",
       "631 2022-05-12       8.901204        30831.159321  9.740921e+09   \n",
       "632 2022-05-13       8.769325        30114.350218  9.672795e+09   \n",
       "633 2022-05-14      10.487976        35798.763057  1.154770e+10   \n",
       "634 2022-05-15      11.376092        37684.247686  1.273195e+10   \n",
       "635 2022-05-16      11.800641        37710.067770  1.308825e+10   \n",
       "636 2022-05-17      10.661735        35619.793504  1.187424e+10   \n",
       "637 2022-05-18      11.053819        36248.812004  1.231961e+10   \n",
       "\n",
       "     reddit_post_48h  reddit_comment_48h  reddit_subscribers  \\\n",
       "628            0.600               5.100             39889.0   \n",
       "629            2.000              16.556             39906.0   \n",
       "630            0.917              11.500             39925.0   \n",
       "631            0.750              15.250             39948.0   \n",
       "632            1.222              12.778             39965.0   \n",
       "633            1.444              15.333             39974.0   \n",
       "634            1.250              15.250             39986.0   \n",
       "635            1.222              19.000             39992.0   \n",
       "636            1.200               8.600             40003.0   \n",
       "637            1.167               9.917             40019.0   \n",
       "\n",
       "     reddit_active_accounts  public_interest_stats  Value  \\\n",
       "628               60.363636                38454.0   11.0   \n",
       "629               70.600000                38454.0   10.0   \n",
       "630               78.923077                38454.0   12.0   \n",
       "631               81.000000                38454.0   12.0   \n",
       "632               78.900000                38454.0   10.0   \n",
       "633               73.600000                38454.0    9.0   \n",
       "634               57.555556                38454.0   10.0   \n",
       "635               60.300000                51803.0   14.0   \n",
       "636               64.363636                51803.0    8.0   \n",
       "637               66.153846                51803.0   12.0   \n",
       "\n",
       "    Value_classification  new_accounts  active_accounts     fees  \n",
       "628         Extreme Fear        4074.0           3933.0  15520.0  \n",
       "629         Extreme Fear        3867.0           4157.0  18061.0  \n",
       "630         Extreme Fear        5667.0           6260.0  23805.0  \n",
       "631         Extreme Fear        6475.0           5720.0  22966.0  \n",
       "632         Extreme Fear        4667.0           4158.0  17438.0  \n",
       "633         Extreme Fear        3449.0           6027.0  14147.0  \n",
       "634         Extreme Fear        2881.0          11712.0  18628.0  \n",
       "635         Extreme Fear         821.0           4677.0   7225.0  \n",
       "636         Extreme Fear           NaN              NaN      NaN  \n",
       "637         Extreme Fear           NaN              NaN      NaN  "
      ]
     },
     "execution_count": 3,
     "metadata": {},
     "output_type": "execute_result"
    }
   ],
   "source": [
    "polkadot.tail(10)"
   ]
  },
  {
   "cell_type": "markdown",
   "id": "8e8e1a40",
   "metadata": {},
   "source": [
    "## create target"
   ]
  },
  {
   "cell_type": "markdown",
   "id": "ca52494d",
   "metadata": {},
   "source": [
    "> create price in 14 days as target, then convert that into 0 (price less than the day before)\n",
    "or 1 (price more than the day before)"
   ]
  },
  {
   "cell_type": "code",
   "execution_count": 4,
   "id": "1b17afd6",
   "metadata": {},
   "outputs": [],
   "source": [
    "polkadot['predict'] = polkadot['current_price'].shift(-14)"
   ]
  },
  {
   "cell_type": "code",
   "execution_count": 5,
   "id": "bc38a1ac",
   "metadata": {},
   "outputs": [],
   "source": [
    "polkadot['predict'] = pd.Series(np.where(polkadot['predict'].values < polkadot['current_price'], 0, 1),\n",
    "          polkadot.index)"
   ]
  },
  {
   "cell_type": "markdown",
   "id": "53903aec",
   "metadata": {},
   "source": [
    "#### create final test set to predict future prices"
   ]
  },
  {
   "cell_type": "code",
   "execution_count": 6,
   "id": "a9c909a8",
   "metadata": {},
   "outputs": [],
   "source": [
    "polkadot_final_test = polkadot.iloc[-14:, :].drop(columns='predict')"
   ]
  },
  {
   "cell_type": "code",
   "execution_count": 7,
   "id": "85bb7879",
   "metadata": {},
   "outputs": [
    {
     "data": {
      "text/html": [
       "<div>\n",
       "<style scoped>\n",
       "    .dataframe tbody tr th:only-of-type {\n",
       "        vertical-align: middle;\n",
       "    }\n",
       "\n",
       "    .dataframe tbody tr th {\n",
       "        vertical-align: top;\n",
       "    }\n",
       "\n",
       "    .dataframe thead th {\n",
       "        text-align: right;\n",
       "    }\n",
       "</style>\n",
       "<table border=\"1\" class=\"dataframe\">\n",
       "  <thead>\n",
       "    <tr style=\"text-align: right;\">\n",
       "      <th></th>\n",
       "      <th>date</th>\n",
       "      <th>current_price</th>\n",
       "      <th>current_price_sats</th>\n",
       "      <th>market_cap</th>\n",
       "      <th>reddit_post_48h</th>\n",
       "      <th>reddit_comment_48h</th>\n",
       "      <th>reddit_subscribers</th>\n",
       "      <th>reddit_active_accounts</th>\n",
       "      <th>public_interest_stats</th>\n",
       "      <th>Value</th>\n",
       "      <th>Value_classification</th>\n",
       "      <th>new_accounts</th>\n",
       "      <th>active_accounts</th>\n",
       "      <th>fees</th>\n",
       "    </tr>\n",
       "  </thead>\n",
       "  <tbody>\n",
       "    <tr>\n",
       "      <th>633</th>\n",
       "      <td>2022-05-14</td>\n",
       "      <td>10.487976</td>\n",
       "      <td>35798.763057</td>\n",
       "      <td>1.154770e+10</td>\n",
       "      <td>1.444</td>\n",
       "      <td>15.333</td>\n",
       "      <td>39974.0</td>\n",
       "      <td>73.600000</td>\n",
       "      <td>38454.0</td>\n",
       "      <td>9.0</td>\n",
       "      <td>Extreme Fear</td>\n",
       "      <td>3449.0</td>\n",
       "      <td>6027.0</td>\n",
       "      <td>14147.0</td>\n",
       "    </tr>\n",
       "    <tr>\n",
       "      <th>634</th>\n",
       "      <td>2022-05-15</td>\n",
       "      <td>11.376092</td>\n",
       "      <td>37684.247686</td>\n",
       "      <td>1.273195e+10</td>\n",
       "      <td>1.250</td>\n",
       "      <td>15.250</td>\n",
       "      <td>39986.0</td>\n",
       "      <td>57.555556</td>\n",
       "      <td>38454.0</td>\n",
       "      <td>10.0</td>\n",
       "      <td>Extreme Fear</td>\n",
       "      <td>2881.0</td>\n",
       "      <td>11712.0</td>\n",
       "      <td>18628.0</td>\n",
       "    </tr>\n",
       "    <tr>\n",
       "      <th>635</th>\n",
       "      <td>2022-05-16</td>\n",
       "      <td>11.800641</td>\n",
       "      <td>37710.067770</td>\n",
       "      <td>1.308825e+10</td>\n",
       "      <td>1.222</td>\n",
       "      <td>19.000</td>\n",
       "      <td>39992.0</td>\n",
       "      <td>60.300000</td>\n",
       "      <td>51803.0</td>\n",
       "      <td>14.0</td>\n",
       "      <td>Extreme Fear</td>\n",
       "      <td>821.0</td>\n",
       "      <td>4677.0</td>\n",
       "      <td>7225.0</td>\n",
       "    </tr>\n",
       "    <tr>\n",
       "      <th>636</th>\n",
       "      <td>2022-05-17</td>\n",
       "      <td>10.661735</td>\n",
       "      <td>35619.793504</td>\n",
       "      <td>1.187424e+10</td>\n",
       "      <td>1.200</td>\n",
       "      <td>8.600</td>\n",
       "      <td>40003.0</td>\n",
       "      <td>64.363636</td>\n",
       "      <td>51803.0</td>\n",
       "      <td>8.0</td>\n",
       "      <td>Extreme Fear</td>\n",
       "      <td>NaN</td>\n",
       "      <td>NaN</td>\n",
       "      <td>NaN</td>\n",
       "    </tr>\n",
       "    <tr>\n",
       "      <th>637</th>\n",
       "      <td>2022-05-18</td>\n",
       "      <td>11.053819</td>\n",
       "      <td>36248.812004</td>\n",
       "      <td>1.231961e+10</td>\n",
       "      <td>1.167</td>\n",
       "      <td>9.917</td>\n",
       "      <td>40019.0</td>\n",
       "      <td>66.153846</td>\n",
       "      <td>51803.0</td>\n",
       "      <td>12.0</td>\n",
       "      <td>Extreme Fear</td>\n",
       "      <td>NaN</td>\n",
       "      <td>NaN</td>\n",
       "      <td>NaN</td>\n",
       "    </tr>\n",
       "  </tbody>\n",
       "</table>\n",
       "</div>"
      ],
      "text/plain": [
       "          date  current_price  current_price_sats    market_cap  \\\n",
       "633 2022-05-14      10.487976        35798.763057  1.154770e+10   \n",
       "634 2022-05-15      11.376092        37684.247686  1.273195e+10   \n",
       "635 2022-05-16      11.800641        37710.067770  1.308825e+10   \n",
       "636 2022-05-17      10.661735        35619.793504  1.187424e+10   \n",
       "637 2022-05-18      11.053819        36248.812004  1.231961e+10   \n",
       "\n",
       "     reddit_post_48h  reddit_comment_48h  reddit_subscribers  \\\n",
       "633            1.444              15.333             39974.0   \n",
       "634            1.250              15.250             39986.0   \n",
       "635            1.222              19.000             39992.0   \n",
       "636            1.200               8.600             40003.0   \n",
       "637            1.167               9.917             40019.0   \n",
       "\n",
       "     reddit_active_accounts  public_interest_stats  Value  \\\n",
       "633               73.600000                38454.0    9.0   \n",
       "634               57.555556                38454.0   10.0   \n",
       "635               60.300000                51803.0   14.0   \n",
       "636               64.363636                51803.0    8.0   \n",
       "637               66.153846                51803.0   12.0   \n",
       "\n",
       "    Value_classification  new_accounts  active_accounts     fees  \n",
       "633         Extreme Fear        3449.0           6027.0  14147.0  \n",
       "634         Extreme Fear        2881.0          11712.0  18628.0  \n",
       "635         Extreme Fear         821.0           4677.0   7225.0  \n",
       "636         Extreme Fear           NaN              NaN      NaN  \n",
       "637         Extreme Fear           NaN              NaN      NaN  "
      ]
     },
     "execution_count": 7,
     "metadata": {},
     "output_type": "execute_result"
    }
   ],
   "source": [
    "polkadot_final_test.tail()"
   ]
  },
  {
   "cell_type": "markdown",
   "id": "a0dd0c77",
   "metadata": {},
   "source": [
    "#### drop last fourteen rows from DataFrame"
   ]
  },
  {
   "cell_type": "markdown",
   "id": "84245211",
   "metadata": {},
   "source": [
    "> drop three rows taken from on-chain data, as they were not originally included for this section"
   ]
  },
  {
   "cell_type": "code",
   "execution_count": 8,
   "id": "c6923dad",
   "metadata": {},
   "outputs": [],
   "source": [
    "polkadot.drop(polkadot.index[-14:], inplace=True)"
   ]
  },
  {
   "cell_type": "code",
   "execution_count": 9,
   "id": "05e487cd",
   "metadata": {},
   "outputs": [],
   "source": [
    "X_orig = polkadot.drop(columns=['predict', 'date', 'Value_classification',\n",
    "                                'new_accounts', 'active_accounts', 'fees'])\n",
    "y_orig = polkadot['predict']"
   ]
  },
  {
   "cell_type": "markdown",
   "id": "cf48fea1",
   "metadata": {},
   "source": [
    "#### test score with original features"
   ]
  },
  {
   "cell_type": "code",
   "execution_count": 10,
   "id": "62edd4f1",
   "metadata": {},
   "outputs": [],
   "source": [
    "classifiers_original = Utils().test_classifiers(X_orig, y_orig)"
   ]
  },
  {
   "cell_type": "code",
   "execution_count": 11,
   "id": "8dd48eac",
   "metadata": {},
   "outputs": [
    {
     "data": {
      "text/html": [
       "<div>\n",
       "<style scoped>\n",
       "    .dataframe tbody tr th:only-of-type {\n",
       "        vertical-align: middle;\n",
       "    }\n",
       "\n",
       "    .dataframe tbody tr th {\n",
       "        vertical-align: top;\n",
       "    }\n",
       "\n",
       "    .dataframe thead th {\n",
       "        text-align: right;\n",
       "    }\n",
       "</style>\n",
       "<table border=\"1\" class=\"dataframe\">\n",
       "  <thead>\n",
       "    <tr style=\"text-align: right;\">\n",
       "      <th></th>\n",
       "      <th>scores</th>\n",
       "    </tr>\n",
       "  </thead>\n",
       "  <tbody>\n",
       "    <tr>\n",
       "      <th>KNeighbors</th>\n",
       "      <td>0.761677</td>\n",
       "    </tr>\n",
       "    <tr>\n",
       "      <th>Support Vector</th>\n",
       "      <td>0.757616</td>\n",
       "    </tr>\n",
       "    <tr>\n",
       "      <th>Decision Tree</th>\n",
       "      <td>0.819495</td>\n",
       "    </tr>\n",
       "    <tr>\n",
       "      <th>Random Forest</th>\n",
       "      <td>0.869717</td>\n",
       "    </tr>\n",
       "    <tr>\n",
       "      <th>Ada Boost</th>\n",
       "      <td>0.831636</td>\n",
       "    </tr>\n",
       "    <tr>\n",
       "      <th>Gradient Boost</th>\n",
       "      <td>0.855636</td>\n",
       "    </tr>\n",
       "  </tbody>\n",
       "</table>\n",
       "</div>"
      ],
      "text/plain": [
       "                  scores\n",
       "KNeighbors      0.761677\n",
       "Support Vector  0.757616\n",
       "Decision Tree   0.819495\n",
       "Random Forest   0.869717\n",
       "Ada Boost       0.831636\n",
       "Gradient Boost  0.855636"
      ]
     },
     "execution_count": 11,
     "metadata": {},
     "output_type": "execute_result"
    }
   ],
   "source": [
    "classifiers_original"
   ]
  },
  {
   "cell_type": "markdown",
   "id": "2427b0f6",
   "metadata": {},
   "source": [
    "## create new features"
   ]
  },
  {
   "cell_type": "code",
   "execution_count": 12,
   "id": "81058e62",
   "metadata": {},
   "outputs": [],
   "source": [
    "polkadot['price_ema5'] = polkadot['current_price'].ewm(span=5, adjust=False).mean()\n",
    "polkadot['price_ema20'] = polkadot['current_price'].ewm(span=20, adjust=False).mean()\n",
    "polkadot['price_ema50'] = polkadot['current_price'].ewm(span=50, adjust=False).mean()\n",
    "\n",
    "polkadot['fear_ema5'] = polkadot['Value'].ewm(span=2, adjust=False).mean()\n",
    "polkadot['fear_ema20'] = polkadot['Value'].ewm(span=20, adjust=False).mean()\n",
    "polkadot['fear_ema50'] = polkadot['Value'].ewm(span=50, adjust=False).mean()\n",
    "\n",
    "polkadot['fear_change_2_days'] = polkadot['Value'] - polkadot['Value'].shift(2)\n",
    "polkadot['fear_change_1_week'] = polkadot['Value'] - polkadot['Value'].shift(7)\n",
    "polkadot['fear_change_2_weeks'] = polkadot['Value'] - polkadot['Value'].shift(14)\n",
    "\n",
    "polkadot['reddit_post_ema5'] = polkadot['reddit_post_48h'].ewm(span=5, adjust=False).mean()\n",
    "polkadot['reddit_post_ema20'] = polkadot['reddit_post_48h'].ewm(span=20, adjust=False).mean()\n",
    "polkadot['reddit_post_ema50'] = polkadot['reddit_post_48h'].ewm(span=50, adjust=False).mean()\n",
    "\n",
    "polkadot['reddit_change_2_days'] = polkadot['reddit_post_48h'] - polkadot['reddit_post_48h'].shift(2)\n",
    "polkadot['reddit_change_1_week'] = polkadot['reddit_post_48h'] - polkadot['reddit_post_48h'].shift(7)\n",
    "polkadot['reddit_change_2_weeks'] = polkadot['reddit_post_48h'] - polkadot['reddit_post_48h'].shift(14)\n",
    "\n",
    "polkadot['sats_ema5'] = polkadot['current_price_sats'].ewm(span=5, adjust=False).mean()\n",
    "polkadot['sats_ema20'] = polkadot['current_price_sats'].ewm(span=20, adjust=False).mean()\n",
    "polkadot['sats_ema50'] = polkadot['current_price_sats'].ewm(span=50, adjust=False).mean()\n",
    "\n",
    "polkadot['sats_change_2_days'] = polkadot['current_price_sats'] - polkadot['current_price_sats'].shift(2)\n",
    "polkadot['sats_change_1_week'] = polkadot['current_price_sats'] - polkadot['current_price_sats'].shift(7)\n",
    "polkadot['sats_change_2_weeks'] = polkadot['current_price_sats'] - polkadot['current_price_sats'].shift(14)\n",
    "\n",
    "polkadot['price_change_2_days'] = polkadot['current_price'] - polkadot['current_price'].shift(2)\n",
    "polkadot['price_change_1_week'] = polkadot['current_price'] - polkadot['current_price'].shift(7)\n",
    "polkadot['price_change_2_weeks'] = polkadot['current_price'] - polkadot['current_price'].shift(14)"
   ]
  },
  {
   "cell_type": "code",
   "execution_count": 13,
   "id": "b5e88c01",
   "metadata": {},
   "outputs": [],
   "source": [
    "polkadot['percent_change_2_days'] = polkadot['current_price'].pct_change(periods=2)\n",
    "polkadot['percent_change_1_week'] = polkadot['current_price'].pct_change(periods=7)\n",
    "polkadot['percent_change_2_weeks'] = polkadot['current_price'].pct_change(periods=14)"
   ]
  },
  {
   "cell_type": "code",
   "execution_count": 14,
   "id": "7b5229fd",
   "metadata": {},
   "outputs": [],
   "source": [
    "polkadot['percent_sats_2_days'] = polkadot['current_price_sats'].pct_change(periods=2)\n",
    "polkadot['percent_sats_1_week'] = polkadot['current_price_sats'].pct_change(periods=7)\n",
    "polkadot['percent_sats_2_weeks'] = polkadot['current_price_sats'].pct_change(periods=14)"
   ]
  },
  {
   "cell_type": "code",
   "execution_count": 15,
   "id": "db65dd6c",
   "metadata": {},
   "outputs": [],
   "source": [
    "df = Dataframe().get_features(forecast_out=14)"
   ]
  },
  {
   "cell_type": "markdown",
   "id": "7e45a6b7",
   "metadata": {},
   "source": [
    "## find features and model"
   ]
  },
  {
   "cell_type": "markdown",
   "id": "85a9fc32",
   "metadata": {},
   "source": [
    "### create features and target"
   ]
  },
  {
   "cell_type": "markdown",
   "id": "5c3ac6b7",
   "metadata": {},
   "source": [
    "> drop three rows taken from on-chain data, as they were not originally included for this section"
   ]
  },
  {
   "cell_type": "code",
   "execution_count": 16,
   "id": "d8a57b16",
   "metadata": {},
   "outputs": [],
   "source": [
    "df = df.drop(columns=['new_accounts', 'active_accounts', 'fees'])"
   ]
  },
  {
   "cell_type": "code",
   "execution_count": 17,
   "id": "66ccd643",
   "metadata": {},
   "outputs": [],
   "source": [
    "X = df.drop(columns=['predict', 'date', 'Value_classification'])\n",
    "y = df['predict']"
   ]
  },
  {
   "cell_type": "markdown",
   "id": "24f86e02",
   "metadata": {},
   "source": [
    "### test different classifiers"
   ]
  },
  {
   "cell_type": "markdown",
   "id": "8d2eef11",
   "metadata": {},
   "source": [
    "> Create training set, validation set, and test set"
   ]
  },
  {
   "cell_type": "code",
   "execution_count": 18,
   "id": "2e595969",
   "metadata": {},
   "outputs": [],
   "source": [
    "X_train, X_test, y_train, y_test = train_test_split(X, y, test_size=0.2, random_state=42)"
   ]
  },
  {
   "cell_type": "markdown",
   "id": "99ce2694",
   "metadata": {},
   "source": [
    "### use RobustScaler to scale features"
   ]
  },
  {
   "cell_type": "code",
   "execution_count": 19,
   "id": "15ab694e",
   "metadata": {},
   "outputs": [],
   "source": [
    "scaler = RobustScaler().fit(X_train)\n",
    "X_train_scaled = scaler.transform(X_train)\n",
    "X_test_scaled = scaler.transform(X_test)"
   ]
  },
  {
   "cell_type": "code",
   "execution_count": 20,
   "id": "d9bb5951",
   "metadata": {},
   "outputs": [],
   "source": [
    "imp_simple = SimpleImputer()\n",
    "imp_simple.fit(X_train)\n",
    "X_train_scaled = imp_simple.transform(X_train)\n",
    "X_test_scaled = imp_simple.transform(X_test)"
   ]
  },
  {
   "cell_type": "markdown",
   "id": "a8f9939a",
   "metadata": {},
   "source": [
    "### create function to test different out of the box models on the data set"
   ]
  },
  {
   "cell_type": "code",
   "execution_count": 21,
   "id": "bc63ba41",
   "metadata": {},
   "outputs": [],
   "source": [
    "k_regressor = KNeighborsClassifier()\n",
    "s_model = SVC(random_state=42)\n",
    "classifier = DecisionTreeClassifier(random_state=42)\n",
    "random_classifier = RandomForestClassifier(random_state=42)\n",
    "ada = AdaBoostClassifier(random_state=42)\n",
    "gradient = GradientBoostingClassifier(random_state=42)"
   ]
  },
  {
   "cell_type": "code",
   "execution_count": 22,
   "id": "b29986bb",
   "metadata": {},
   "outputs": [],
   "source": [
    "score_k = cross_val_score(k_regressor, X_train_scaled, y_train, cv=5)\n",
    "score_s = cross_val_score(s_model, X_train_scaled, y_train, cv=5)\n",
    "score_c = cross_val_score(classifier, X_train_scaled, y_train, cv=5)\n",
    "score_rc = cross_val_score(random_classifier, X_train_scaled, y_train, cv=5)\n",
    "score_a = cross_val_score(ada, X_train_scaled, y_train, cv=5)\n",
    "score_g = cross_val_score(gradient, X_train_scaled, y_train, cv=5)\n"
   ]
  },
  {
   "cell_type": "code",
   "execution_count": 23,
   "id": "8a5ffb9e",
   "metadata": {},
   "outputs": [],
   "source": [
    "scores = pd.DataFrame(columns=['scores'], index=['KNeighbors', 'Support Vector', 'Decision Tree',\n",
    "                                                'Random Forest', 'Ada Boost', 'Gradient Boost'], \n",
    "                      data=[score_k.mean(), score_s.mean(), score_c.mean(), score_rc.mean(),\n",
    "                           score_a.mean(), score_g.mean()])"
   ]
  },
  {
   "cell_type": "code",
   "execution_count": 24,
   "id": "e2d3341c",
   "metadata": {},
   "outputs": [
    {
     "data": {
      "text/html": [
       "<div>\n",
       "<style scoped>\n",
       "    .dataframe tbody tr th:only-of-type {\n",
       "        vertical-align: middle;\n",
       "    }\n",
       "\n",
       "    .dataframe tbody tr th {\n",
       "        vertical-align: top;\n",
       "    }\n",
       "\n",
       "    .dataframe thead th {\n",
       "        text-align: right;\n",
       "    }\n",
       "</style>\n",
       "<table border=\"1\" class=\"dataframe\">\n",
       "  <thead>\n",
       "    <tr style=\"text-align: right;\">\n",
       "      <th></th>\n",
       "      <th>scores</th>\n",
       "    </tr>\n",
       "  </thead>\n",
       "  <tbody>\n",
       "    <tr>\n",
       "      <th>KNeighbors</th>\n",
       "      <td>0.605152</td>\n",
       "    </tr>\n",
       "    <tr>\n",
       "      <th>Support Vector</th>\n",
       "      <td>0.593253</td>\n",
       "    </tr>\n",
       "    <tr>\n",
       "      <th>Decision Tree</th>\n",
       "      <td>0.767394</td>\n",
       "    </tr>\n",
       "    <tr>\n",
       "      <th>Random Forest</th>\n",
       "      <td>0.891758</td>\n",
       "    </tr>\n",
       "    <tr>\n",
       "      <th>Ada Boost</th>\n",
       "      <td>0.839576</td>\n",
       "    </tr>\n",
       "    <tr>\n",
       "      <th>Gradient Boost</th>\n",
       "      <td>0.893818</td>\n",
       "    </tr>\n",
       "  </tbody>\n",
       "</table>\n",
       "</div>"
      ],
      "text/plain": [
       "                  scores\n",
       "KNeighbors      0.605152\n",
       "Support Vector  0.593253\n",
       "Decision Tree   0.767394\n",
       "Random Forest   0.891758\n",
       "Ada Boost       0.839576\n",
       "Gradient Boost  0.893818"
      ]
     },
     "execution_count": 24,
     "metadata": {},
     "output_type": "execute_result"
    }
   ],
   "source": [
    "scores"
   ]
  },
  {
   "cell_type": "code",
   "execution_count": 25,
   "id": "bb14dbe4",
   "metadata": {},
   "outputs": [
    {
     "data": {
      "image/png": "[encoded data removed]",
      "text/plain": [
       "<Figure size 864x720 with 1 Axes>"
      ]
     },
     "metadata": {
      "needs_background": "light"
     },
     "output_type": "display_data"
    }
   ],
   "source": [
    "plt.figure(figsize=(12,10))\n",
    "sns.barplot(y=scores.index, x=scores['scores'])\n",
    "plt.xlabel('Score')\n",
    "plt.title('Classifier score from 0-1');"
   ]
  },
  {
   "cell_type": "code",
   "execution_count": 26,
   "id": "e2e20ca2",
   "metadata": {},
   "outputs": [],
   "source": [
    "classifiers = Utils().test_classifiers(X, y)"
   ]
  },
  {
   "cell_type": "code",
   "execution_count": 27,
   "id": "e58a7835",
   "metadata": {},
   "outputs": [
    {
     "data": {
      "text/html": [
       "<div>\n",
       "<style scoped>\n",
       "    .dataframe tbody tr th:only-of-type {\n",
       "        vertical-align: middle;\n",
       "    }\n",
       "\n",
       "    .dataframe tbody tr th {\n",
       "        vertical-align: top;\n",
       "    }\n",
       "\n",
       "    .dataframe thead th {\n",
       "        text-align: right;\n",
       "    }\n",
       "</style>\n",
       "<table border=\"1\" class=\"dataframe\">\n",
       "  <thead>\n",
       "    <tr style=\"text-align: right;\">\n",
       "      <th></th>\n",
       "      <th>scores</th>\n",
       "    </tr>\n",
       "  </thead>\n",
       "  <tbody>\n",
       "    <tr>\n",
       "      <th>KNeighbors</th>\n",
       "      <td>0.703374</td>\n",
       "    </tr>\n",
       "    <tr>\n",
       "      <th>Support Vector</th>\n",
       "      <td>0.707333</td>\n",
       "    </tr>\n",
       "    <tr>\n",
       "      <th>Decision Tree</th>\n",
       "      <td>0.769394</td>\n",
       "    </tr>\n",
       "    <tr>\n",
       "      <th>Random Forest</th>\n",
       "      <td>0.891758</td>\n",
       "    </tr>\n",
       "    <tr>\n",
       "      <th>Ada Boost</th>\n",
       "      <td>0.839576</td>\n",
       "    </tr>\n",
       "    <tr>\n",
       "      <th>Gradient Boost</th>\n",
       "      <td>0.893818</td>\n",
       "    </tr>\n",
       "  </tbody>\n",
       "</table>\n",
       "</div>"
      ],
      "text/plain": [
       "                  scores\n",
       "KNeighbors      0.703374\n",
       "Support Vector  0.707333\n",
       "Decision Tree   0.769394\n",
       "Random Forest   0.891758\n",
       "Ada Boost       0.839576\n",
       "Gradient Boost  0.893818"
      ]
     },
     "execution_count": 27,
     "metadata": {},
     "output_type": "execute_result"
    }
   ],
   "source": [
    "classifiers"
   ]
  },
  {
   "cell_type": "markdown",
   "id": "fcf6a215",
   "metadata": {},
   "source": [
    "> Let's experiment more with RandomForestClassifier to see if we can improve results"
   ]
  },
  {
   "cell_type": "markdown",
   "id": "c9e459e7",
   "metadata": {},
   "source": [
    "# Remove features and test performance"
   ]
  },
  {
   "cell_type": "markdown",
   "id": "8eb8dad8",
   "metadata": {},
   "source": [
    "> remove variables with high correlation"
   ]
  },
  {
   "cell_type": "code",
   "execution_count": 28,
   "id": "88436f29",
   "metadata": {},
   "outputs": [
    {
     "name": "stdout",
     "output_type": "stream",
     "text": [
      "                        current_price  current_price_sats  market_cap  \\\n",
      "current_price                     NaN            0.908462    0.996690   \n",
      "current_price_sats                NaN                 NaN    0.900876   \n",
      "market_cap                        NaN                 NaN         NaN   \n",
      "reddit_post_48h                   NaN                 NaN         NaN   \n",
      "reddit_comment_48h                NaN                 NaN         NaN   \n",
      "reddit_subscribers                NaN                 NaN         NaN   \n",
      "reddit_active_accounts            NaN                 NaN         NaN   \n",
      "public_interest_stats             NaN                 NaN         NaN   \n",
      "Value                             NaN                 NaN         NaN   \n",
      "price_ema5                        NaN                 NaN         NaN   \n",
      "price_ema20                       NaN                 NaN         NaN   \n",
      "price_ema50                       NaN                 NaN         NaN   \n",
      "fear_ema5                         NaN                 NaN         NaN   \n",
      "fear_ema20                        NaN                 NaN         NaN   \n",
      "fear_ema50                        NaN                 NaN         NaN   \n",
      "fear_change_2_days                NaN                 NaN         NaN   \n",
      "fear_change_1_week                NaN                 NaN         NaN   \n",
      "fear_change_2_weeks               NaN                 NaN         NaN   \n",
      "reddit_post_ema5                  NaN                 NaN         NaN   \n",
      "reddit_post_ema20                 NaN                 NaN         NaN   \n",
      "reddit_post_ema50                 NaN                 NaN         NaN   \n",
      "reddit_change_2_days              NaN                 NaN         NaN   \n",
      "reddit_change_1_week              NaN                 NaN         NaN   \n",
      "reddit_change_2_weeks             NaN                 NaN         NaN   \n",
      "sats_ema5                         NaN                 NaN         NaN   \n",
      "sats_ema20                        NaN                 NaN         NaN   \n",
      "sats_ema50                        NaN                 NaN         NaN   \n",
      "sats_change_2_days                NaN                 NaN         NaN   \n",
      "sats_change_1_week                NaN                 NaN         NaN   \n",
      "sats_change_2_weeks               NaN                 NaN         NaN   \n",
      "price_change_2_days               NaN                 NaN         NaN   \n",
      "price_change_1_week               NaN                 NaN         NaN   \n",
      "price_change_2_weeks              NaN                 NaN         NaN   \n",
      "percent_change_2_days             NaN                 NaN         NaN   \n",
      "percent_change_1_week             NaN                 NaN         NaN   \n",
      "percent_change_2_weeks            NaN                 NaN         NaN   \n",
      "percent_sats_2_days               NaN                 NaN         NaN   \n",
      "percent_sats_1_week               NaN                 NaN         NaN   \n",
      "percent_sats_2_weeks              NaN                 NaN         NaN   \n",
      "\n",
      "                        reddit_post_48h  reddit_comment_48h  \\\n",
      "current_price                  0.498393            0.649532   \n",
      "current_price_sats             0.471535            0.600214   \n",
      "market_cap                     0.518133            0.665367   \n",
      "reddit_post_48h                     NaN            0.867717   \n",
      "reddit_comment_48h                  NaN                 NaN   \n",
      "reddit_subscribers                  NaN                 NaN   \n",
      "reddit_active_accounts              NaN                 NaN   \n",
      "public_interest_stats               NaN                 NaN   \n",
      "Value                               NaN                 NaN   \n",
      "price_ema5                          NaN                 NaN   \n",
      "price_ema20                         NaN                 NaN   \n",
      "price_ema50                         NaN                 NaN   \n",
      "fear_ema5                           NaN                 NaN   \n",
      "fear_ema20                          NaN                 NaN   \n",
      "fear_ema50                          NaN                 NaN   \n",
      "fear_change_2_days                  NaN                 NaN   \n",
      "fear_change_1_week                  NaN                 NaN   \n",
      "fear_change_2_weeks                 NaN                 NaN   \n",
      "reddit_post_ema5                    NaN                 NaN   \n",
      "reddit_post_ema20                   NaN                 NaN   \n",
      "reddit_post_ema50                   NaN                 NaN   \n",
      "reddit_change_2_days                NaN                 NaN   \n",
      "reddit_change_1_week                NaN                 NaN   \n",
      "reddit_change_2_weeks               NaN                 NaN   \n",
      "sats_ema5                           NaN                 NaN   \n",
      "sats_ema20                          NaN                 NaN   \n",
      "sats_ema50                          NaN                 NaN   \n",
      "sats_change_2_days                  NaN                 NaN   \n",
      "sats_change_1_week                  NaN                 NaN   \n",
      "sats_change_2_weeks                 NaN                 NaN   \n",
      "price_change_2_days                 NaN                 NaN   \n",
      "price_change_1_week                 NaN                 NaN   \n",
      "price_change_2_weeks                NaN                 NaN   \n",
      "percent_change_2_days               NaN                 NaN   \n",
      "percent_change_1_week               NaN                 NaN   \n",
      "percent_change_2_weeks              NaN                 NaN   \n",
      "percent_sats_2_days                 NaN                 NaN   \n",
      "percent_sats_1_week                 NaN                 NaN   \n",
      "percent_sats_2_weeks                NaN                 NaN   \n",
      "\n",
      "                        reddit_subscribers  reddit_active_accounts  \\\n",
      "current_price                     0.544836                0.504697   \n",
      "current_price_sats                0.455525                0.503845   \n",
      "market_cap                        0.599760                0.459876   \n",
      "reddit_post_48h                   0.433467                0.289418   \n",
      "reddit_comment_48h                0.465175                0.359931   \n",
      "reddit_subscribers                     NaN                0.009886   \n",
      "reddit_active_accounts                 NaN                     NaN   \n",
      "public_interest_stats                  NaN                     NaN   \n",
      "Value                                  NaN                     NaN   \n",
      "price_ema5                             NaN                     NaN   \n",
      "price_ema20                            NaN                     NaN   \n",
      "price_ema50                            NaN                     NaN   \n",
      "fear_ema5                              NaN                     NaN   \n",
      "fear_ema20                             NaN                     NaN   \n",
      "fear_ema50                             NaN                     NaN   \n",
      "fear_change_2_days                     NaN                     NaN   \n",
      "fear_change_1_week                     NaN                     NaN   \n",
      "fear_change_2_weeks                    NaN                     NaN   \n",
      "reddit_post_ema5                       NaN                     NaN   \n",
      "reddit_post_ema20                      NaN                     NaN   \n",
      "reddit_post_ema50                      NaN                     NaN   \n",
      "reddit_change_2_days                   NaN                     NaN   \n",
      "reddit_change_1_week                   NaN                     NaN   \n",
      "reddit_change_2_weeks                  NaN                     NaN   \n",
      "sats_ema5                              NaN                     NaN   \n",
      "sats_ema20                             NaN                     NaN   \n",
      "sats_ema50                             NaN                     NaN   \n",
      "sats_change_2_days                     NaN                     NaN   \n",
      "sats_change_1_week                     NaN                     NaN   \n",
      "sats_change_2_weeks                    NaN                     NaN   \n",
      "price_change_2_days                    NaN                     NaN   \n",
      "price_change_1_week                    NaN                     NaN   \n",
      "price_change_2_weeks                   NaN                     NaN   \n",
      "percent_change_2_days                  NaN                     NaN   \n",
      "percent_change_1_week                  NaN                     NaN   \n",
      "percent_change_2_weeks                 NaN                     NaN   \n",
      "percent_sats_2_days                    NaN                     NaN   \n",
      "percent_sats_1_week                    NaN                     NaN   \n",
      "percent_sats_2_weeks                   NaN                     NaN   \n",
      "\n",
      "                        public_interest_stats     Value  price_ema5  ...  \\\n",
      "current_price                        0.625858  0.015413    0.993236  ...   \n",
      "current_price_sats                   0.580196  0.188510    0.905292  ...   \n",
      "market_cap                           0.638732  0.055148    0.991617  ...   \n",
      "reddit_post_48h                      0.371077  0.117220    0.497794  ...   \n",
      "reddit_comment_48h                   0.443549  0.083752    0.649107  ...   \n",
      "reddit_subscribers                   0.670925  0.603976    0.562169  ...   \n",
      "reddit_active_accounts               0.267398  0.166486    0.481967  ...   \n",
      "public_interest_stats                     NaN  0.444139    0.646235  ...   \n",
      "Value                                     NaN       NaN    0.060784  ...   \n",
      "price_ema5                                NaN       NaN         NaN  ...   \n",
      "price_ema20                               NaN       NaN         NaN  ...   \n",
      "price_ema50                               NaN       NaN         NaN  ...   \n",
      "fear_ema5                                 NaN       NaN         NaN  ...   \n",
      "fear_ema20                                NaN       NaN         NaN  ...   \n",
      "fear_ema50                                NaN       NaN         NaN  ...   \n",
      "fear_change_2_days                        NaN       NaN         NaN  ...   \n",
      "fear_change_1_week                        NaN       NaN         NaN  ...   \n",
      "fear_change_2_weeks                       NaN       NaN         NaN  ...   \n",
      "reddit_post_ema5                          NaN       NaN         NaN  ...   \n",
      "reddit_post_ema20                         NaN       NaN         NaN  ...   \n",
      "reddit_post_ema50                         NaN       NaN         NaN  ...   \n",
      "reddit_change_2_days                      NaN       NaN         NaN  ...   \n",
      "reddit_change_1_week                      NaN       NaN         NaN  ...   \n",
      "reddit_change_2_weeks                     NaN       NaN         NaN  ...   \n",
      "sats_ema5                                 NaN       NaN         NaN  ...   \n",
      "sats_ema20                                NaN       NaN         NaN  ...   \n",
      "sats_ema50                                NaN       NaN         NaN  ...   \n",
      "sats_change_2_days                        NaN       NaN         NaN  ...   \n",
      "sats_change_1_week                        NaN       NaN         NaN  ...   \n",
      "sats_change_2_weeks                       NaN       NaN         NaN  ...   \n",
      "price_change_2_days                       NaN       NaN         NaN  ...   \n",
      "price_change_1_week                       NaN       NaN         NaN  ...   \n",
      "price_change_2_weeks                      NaN       NaN         NaN  ...   \n",
      "percent_change_2_days                     NaN       NaN         NaN  ...   \n",
      "percent_change_1_week                     NaN       NaN         NaN  ...   \n",
      "percent_change_2_weeks                    NaN       NaN         NaN  ...   \n",
      "percent_sats_2_days                       NaN       NaN         NaN  ...   \n",
      "percent_sats_1_week                       NaN       NaN         NaN  ...   \n",
      "percent_sats_2_weeks                      NaN       NaN         NaN  ...   \n",
      "\n",
      "                        sats_change_2_weeks  price_change_2_days  \\\n",
      "current_price                      0.240652             0.075054   \n",
      "current_price_sats                 0.298343             0.048783   \n",
      "market_cap                         0.223314             0.065542   \n",
      "reddit_post_48h                    0.054692             0.018203   \n",
      "reddit_comment_48h                 0.065399             0.016903   \n",
      "reddit_subscribers                 0.108168             0.075349   \n",
      "reddit_active_accounts             0.281741             0.159917   \n",
      "public_interest_stats              0.174077             0.081797   \n",
      "Value                              0.306474             0.246511   \n",
      "price_ema5                         0.194411             0.026687   \n",
      "price_ema20                        0.056655             0.082482   \n",
      "price_ema50                        0.061830             0.107794   \n",
      "fear_ema5                          0.315713             0.215681   \n",
      "fear_ema20                         0.363555             0.118876   \n",
      "fear_ema50                         0.314450             0.085827   \n",
      "fear_change_2_days                 0.057201             0.450966   \n",
      "fear_change_1_week                 0.154651             0.213794   \n",
      "fear_change_2_weeks                0.015427             0.241336   \n",
      "reddit_post_ema5                   0.028395             0.003577   \n",
      "reddit_post_ema20                  0.026465             0.022846   \n",
      "reddit_post_ema50                  0.083674             0.054303   \n",
      "reddit_change_2_days               0.055143             0.032158   \n",
      "reddit_change_1_week               0.041355             0.002790   \n",
      "reddit_change_2_weeks              0.136110             0.074528   \n",
      "sats_ema5                          0.215776             0.069181   \n",
      "sats_ema20                         0.002986             0.113359   \n",
      "sats_ema50                         0.146732             0.126794   \n",
      "sats_change_2_days                 0.340758             0.792361   \n",
      "sats_change_1_week                 0.600196             0.335910   \n",
      "sats_change_2_weeks                     NaN             0.256449   \n",
      "price_change_2_days                     NaN                  NaN   \n",
      "price_change_1_week                     NaN                  NaN   \n",
      "price_change_2_weeks                    NaN                  NaN   \n",
      "percent_change_2_days                   NaN                  NaN   \n",
      "percent_change_1_week                   NaN                  NaN   \n",
      "percent_change_2_weeks                  NaN                  NaN   \n",
      "percent_sats_2_days                     NaN                  NaN   \n",
      "percent_sats_1_week                     NaN                  NaN   \n",
      "percent_sats_2_weeks                    NaN                  NaN   \n",
      "\n",
      "                        price_change_1_week  price_change_2_weeks  \\\n",
      "current_price                      0.140003              0.198317   \n",
      "current_price_sats                 0.098529              0.132845   \n",
      "market_cap                         0.124219              0.177605   \n",
      "reddit_post_48h                    0.052133              0.073859   \n",
      "reddit_comment_48h                 0.061183              0.085508   \n",
      "reddit_subscribers                 0.136502              0.181917   \n",
      "reddit_active_accounts             0.243115              0.298726   \n",
      "public_interest_stats              0.154124              0.230368   \n",
      "Value                              0.454328              0.558315   \n",
      "price_ema5                         0.049236              0.127333   \n",
      "price_ema20                        0.093887              0.051226   \n",
      "price_ema50                        0.171498              0.190888   \n",
      "fear_ema5                          0.439659              0.557527   \n",
      "fear_ema20                         0.282300              0.449484   \n",
      "fear_ema50                         0.199537              0.328568   \n",
      "fear_change_2_days                 0.213926              0.086034   \n",
      "fear_change_1_week                 0.408686              0.140080   \n",
      "fear_change_2_weeks                0.450812              0.437795   \n",
      "reddit_post_ema5                   0.040463              0.062357   \n",
      "reddit_post_ema20                  0.016888              0.004751   \n",
      "reddit_post_ema50                  0.084864              0.091459   \n",
      "reddit_change_2_days               0.019643              0.039366   \n",
      "reddit_change_1_week               0.048468              0.031041   \n",
      "reddit_change_2_weeks              0.124136              0.121775   \n",
      "sats_ema5                          0.008321              0.049487   \n",
      "sats_ema20                         0.148158              0.126725   \n",
      "sats_ema50                         0.208557              0.246606   \n",
      "sats_change_2_days                 0.397847              0.341467   \n",
      "sats_change_1_week                 0.773120              0.561987   \n",
      "sats_change_2_weeks                0.459292              0.777452   \n",
      "price_change_2_days                0.491629              0.393984   \n",
      "price_change_1_week                     NaN              0.695127   \n",
      "price_change_2_weeks                    NaN                   NaN   \n",
      "percent_change_2_days                   NaN                   NaN   \n",
      "percent_change_1_week                   NaN                   NaN   \n",
      "percent_change_2_weeks                  NaN                   NaN   \n",
      "percent_sats_2_days                     NaN                   NaN   \n",
      "percent_sats_1_week                     NaN                   NaN   \n",
      "percent_sats_2_weeks                    NaN                   NaN   \n",
      "\n",
      "                        percent_change_2_days  percent_change_1_week  \\\n",
      "current_price                        0.010930               0.017296   \n",
      "current_price_sats                   0.004128               0.009396   \n",
      "market_cap                           0.000296               0.000957   \n",
      "reddit_post_48h                      0.016696               0.027790   \n",
      "reddit_comment_48h                   0.012804               0.019340   \n",
      "reddit_subscribers                   0.141608               0.237532   \n",
      "reddit_active_accounts               0.179797               0.269255   \n",
      "public_interest_stats                0.114760               0.211068   \n",
      "Value                                0.284089               0.481145   \n",
      "price_ema5                           0.074772               0.054856   \n",
      "price_ema20                          0.124399               0.172106   \n",
      "price_ema50                          0.151297               0.243213   \n",
      "fear_ema5                            0.255094               0.471319   \n",
      "fear_ema20                           0.171833               0.359813   \n",
      "fear_ema50                           0.146394               0.302053   \n",
      "fear_change_2_days                   0.440189               0.167576   \n",
      "fear_change_1_week                   0.223279               0.377276   \n",
      "fear_change_2_weeks                  0.202041               0.349221   \n",
      "reddit_post_ema5                     0.021169               0.014749   \n",
      "reddit_post_ema20                    0.085862               0.101171   \n",
      "reddit_post_ema50                    0.126462               0.192657   \n",
      "reddit_change_2_days                 0.056360               0.003246   \n",
      "reddit_change_1_week                 0.052008               0.119470   \n",
      "reddit_change_2_weeks                0.085361               0.155070   \n",
      "sats_ema5                            0.127132               0.099661   \n",
      "sats_ema20                           0.181724               0.255475   \n",
      "sats_ema50                           0.197603               0.321306   \n",
      "sats_change_2_days                   0.806150               0.397972   \n",
      "sats_change_1_week                   0.378573               0.787944   \n",
      "sats_change_2_weeks                  0.229499               0.434989   \n",
      "price_change_2_days                  0.835943               0.391677   \n",
      "price_change_1_week                  0.433791               0.784675   \n",
      "price_change_2_weeks                 0.337584               0.581975   \n",
      "percent_change_2_days                     NaN               0.503269   \n",
      "percent_change_1_week                     NaN                    NaN   \n",
      "percent_change_2_weeks                    NaN                    NaN   \n",
      "percent_sats_2_days                       NaN                    NaN   \n",
      "percent_sats_1_week                       NaN                    NaN   \n",
      "percent_sats_2_weeks                      NaN                    NaN   \n",
      "\n",
      "                        percent_change_2_weeks  percent_sats_2_days  \\\n",
      "current_price                         0.069329             0.053655   \n",
      "current_price_sats                    0.012349             0.095648   \n",
      "market_cap                            0.044755             0.044871   \n",
      "reddit_post_48h                       0.012716             0.023727   \n",
      "reddit_comment_48h                    0.011263             0.005552   \n",
      "reddit_subscribers                    0.288381             0.093746   \n",
      "reddit_active_accounts                0.307484             0.203571   \n",
      "public_interest_stats                 0.333936             0.055612   \n",
      "Value                                 0.591352             0.142778   \n",
      "price_ema5                            0.011093             0.015224   \n",
      "price_ema20                           0.140991             0.058978   \n",
      "price_ema50                           0.268552             0.082578   \n",
      "fear_ema5                             0.595852             0.142340   \n",
      "fear_ema20                            0.537725             0.143171   \n",
      "fear_ema50                            0.451755             0.128372   \n",
      "fear_change_2_days                    0.030325             0.052491   \n",
      "fear_change_1_week                    0.086910             0.021313   \n",
      "fear_change_2_weeks                   0.353105             0.027124   \n",
      "reddit_post_ema5                      0.012843             0.017807   \n",
      "reddit_post_ema20                     0.089774             0.074091   \n",
      "reddit_post_ema50                     0.198534             0.102015   \n",
      "reddit_change_2_days                  0.042441             0.071918   \n",
      "reddit_change_1_week                  0.009920             0.057539   \n",
      "reddit_change_2_weeks                 0.158129             0.058274   \n",
      "sats_ema5                             0.065706             0.046561   \n",
      "sats_ema20                            0.251159             0.119833   \n",
      "sats_ema50                            0.375621             0.140046   \n",
      "sats_change_2_days                    0.300617             0.924449   \n",
      "sats_change_1_week                    0.532299             0.480476   \n",
      "sats_change_2_weeks                   0.776644             0.326223   \n",
      "price_change_2_days                   0.314664             0.662314   \n",
      "price_change_1_week                   0.574401             0.357101   \n",
      "price_change_2_weeks                  0.818881             0.305449   \n",
      "percent_change_2_days                 0.338252             0.855583   \n",
      "percent_change_1_week                 0.655714             0.447920   \n",
      "percent_change_2_weeks                     NaN             0.316188   \n",
      "percent_sats_2_days                        NaN                  NaN   \n",
      "percent_sats_1_week                        NaN                  NaN   \n",
      "percent_sats_2_weeks                       NaN                  NaN   \n",
      "\n",
      "                        percent_sats_1_week  percent_sats_2_weeks  \n",
      "current_price                      0.090500              0.159982  \n",
      "current_price_sats                 0.186642              0.247687  \n",
      "market_cap                         0.076215              0.141921  \n",
      "reddit_post_48h                    0.065603              0.046072  \n",
      "reddit_comment_48h                 0.054927              0.042524  \n",
      "reddit_subscribers                 0.141287              0.143742  \n",
      "reddit_active_accounts             0.289035              0.263941  \n",
      "public_interest_stats              0.098324              0.202332  \n",
      "Value                              0.239649              0.250421  \n",
      "price_ema5                         0.037444              0.125330  \n",
      "price_ema20                        0.056385              0.014658  \n",
      "price_ema50                        0.113949              0.086156  \n",
      "fear_ema5                          0.241621              0.261847  \n",
      "fear_ema20                         0.253718              0.333502  \n",
      "fear_ema50                         0.236147              0.321433  \n",
      "fear_change_2_days                 0.000723              0.091550  \n",
      "fear_change_1_week                 0.028399              0.170478  \n",
      "fear_change_2_weeks                0.032536              0.070949  \n",
      "reddit_post_ema5                   0.044784              0.032029  \n",
      "reddit_post_ema20                  0.065646              0.023831  \n",
      "reddit_post_ema50                  0.136387              0.105010  \n",
      "reddit_change_2_days               0.020677              0.039649  \n",
      "reddit_change_1_week               0.154354              0.010646  \n",
      "reddit_change_2_weeks              0.127331              0.136681  \n",
      "sats_ema5                          0.067779              0.177265  \n",
      "sats_ema20                         0.116310              0.028776  \n",
      "sats_ema50                         0.193022              0.173113  \n",
      "sats_change_2_days                 0.443547              0.281124  \n",
      "sats_change_1_week                 0.895378              0.529185  \n",
      "sats_change_2_weeks                0.569811              0.902617  \n",
      "price_change_2_days                0.276007              0.184585  \n",
      "price_change_1_week                0.601148              0.355315  \n",
      "price_change_2_weeks               0.481250              0.600830  \n",
      "percent_change_2_days              0.402544              0.179310  \n",
      "percent_change_1_week              0.860661              0.408238  \n",
      "percent_change_2_weeks             0.563922              0.796035  \n",
      "percent_sats_2_days                0.513672              0.293168  \n",
      "percent_sats_1_week                     NaN              0.572231  \n",
      "percent_sats_2_weeks                    NaN                   NaN  \n",
      "\n",
      "[39 rows x 39 columns]\n"
     ]
    }
   ],
   "source": [
    "cor_matrix = X.corr().abs()\n",
    "upper_tri = cor_matrix.where(np.triu(np.ones(cor_matrix.shape),k=1).astype(np.bool))\n",
    "print(upper_tri)"
   ]
  },
  {
   "cell_type": "code",
   "execution_count": 29,
   "id": "94d49354",
   "metadata": {},
   "outputs": [
    {
     "name": "stdout",
     "output_type": "stream",
     "text": [
      "\n",
      "['market_cap', 'price_ema5', 'price_ema20', 'price_ema50', 'fear_ema5', 'fear_ema50', 'sats_ema5', 'sats_ema20', 'sats_ema50']\n"
     ]
    }
   ],
   "source": [
    "to_drop = [column for column in upper_tri.columns if any(upper_tri[column] > 0.95)]\n",
    "print(); print(to_drop)"
   ]
  },
  {
   "cell_type": "code",
   "execution_count": 30,
   "id": "6348f4b0",
   "metadata": {},
   "outputs": [
    {
     "data": {
      "text/html": [
       "<div>\n",
       "<style scoped>\n",
       "    .dataframe tbody tr th:only-of-type {\n",
       "        vertical-align: middle;\n",
       "    }\n",
       "\n",
       "    .dataframe tbody tr th {\n",
       "        vertical-align: top;\n",
       "    }\n",
       "\n",
       "    .dataframe thead th {\n",
       "        text-align: right;\n",
       "    }\n",
       "</style>\n",
       "<table border=\"1\" class=\"dataframe\">\n",
       "  <thead>\n",
       "    <tr style=\"text-align: right;\">\n",
       "      <th></th>\n",
       "      <th>current_price</th>\n",
       "      <th>current_price_sats</th>\n",
       "      <th>reddit_post_48h</th>\n",
       "      <th>reddit_comment_48h</th>\n",
       "      <th>reddit_subscribers</th>\n",
       "      <th>reddit_active_accounts</th>\n",
       "      <th>public_interest_stats</th>\n",
       "      <th>Value</th>\n",
       "      <th>fear_ema20</th>\n",
       "      <th>fear_change_2_days</th>\n",
       "      <th>...</th>\n",
       "      <th>sats_change_2_weeks</th>\n",
       "      <th>price_change_2_days</th>\n",
       "      <th>price_change_1_week</th>\n",
       "      <th>price_change_2_weeks</th>\n",
       "      <th>percent_change_2_days</th>\n",
       "      <th>percent_change_1_week</th>\n",
       "      <th>percent_change_2_weeks</th>\n",
       "      <th>percent_sats_2_days</th>\n",
       "      <th>percent_sats_1_week</th>\n",
       "      <th>percent_sats_2_weeks</th>\n",
       "    </tr>\n",
       "  </thead>\n",
       "  <tbody>\n",
       "    <tr>\n",
       "      <th>0</th>\n",
       "      <td>2.936665</td>\n",
       "      <td>25024.566687</td>\n",
       "      <td>0.000</td>\n",
       "      <td>0.750</td>\n",
       "      <td>193.0</td>\n",
       "      <td>7.200000</td>\n",
       "      <td>NaN</td>\n",
       "      <td>NaN</td>\n",
       "      <td>NaN</td>\n",
       "      <td>NaN</td>\n",
       "      <td>...</td>\n",
       "      <td>NaN</td>\n",
       "      <td>NaN</td>\n",
       "      <td>NaN</td>\n",
       "      <td>NaN</td>\n",
       "      <td>NaN</td>\n",
       "      <td>NaN</td>\n",
       "      <td>NaN</td>\n",
       "      <td>NaN</td>\n",
       "      <td>NaN</td>\n",
       "      <td>NaN</td>\n",
       "    </tr>\n",
       "    <tr>\n",
       "      <th>1</th>\n",
       "      <td>2.936665</td>\n",
       "      <td>25024.566687</td>\n",
       "      <td>0.000</td>\n",
       "      <td>0.667</td>\n",
       "      <td>212.0</td>\n",
       "      <td>5.500000</td>\n",
       "      <td>NaN</td>\n",
       "      <td>NaN</td>\n",
       "      <td>NaN</td>\n",
       "      <td>NaN</td>\n",
       "      <td>...</td>\n",
       "      <td>NaN</td>\n",
       "      <td>NaN</td>\n",
       "      <td>NaN</td>\n",
       "      <td>NaN</td>\n",
       "      <td>NaN</td>\n",
       "      <td>NaN</td>\n",
       "      <td>NaN</td>\n",
       "      <td>NaN</td>\n",
       "      <td>NaN</td>\n",
       "      <td>NaN</td>\n",
       "    </tr>\n",
       "    <tr>\n",
       "      <th>2</th>\n",
       "      <td>2.898791</td>\n",
       "      <td>24435.409268</td>\n",
       "      <td>0.000</td>\n",
       "      <td>1.727</td>\n",
       "      <td>237.0</td>\n",
       "      <td>6.333333</td>\n",
       "      <td>NaN</td>\n",
       "      <td>NaN</td>\n",
       "      <td>NaN</td>\n",
       "      <td>NaN</td>\n",
       "      <td>...</td>\n",
       "      <td>NaN</td>\n",
       "      <td>-0.037874</td>\n",
       "      <td>NaN</td>\n",
       "      <td>NaN</td>\n",
       "      <td>-0.012897</td>\n",
       "      <td>NaN</td>\n",
       "      <td>NaN</td>\n",
       "      <td>-0.023543</td>\n",
       "      <td>NaN</td>\n",
       "      <td>NaN</td>\n",
       "    </tr>\n",
       "    <tr>\n",
       "      <th>3</th>\n",
       "      <td>2.871923</td>\n",
       "      <td>24934.417517</td>\n",
       "      <td>0.417</td>\n",
       "      <td>2.750</td>\n",
       "      <td>269.0</td>\n",
       "      <td>8.538462</td>\n",
       "      <td>NaN</td>\n",
       "      <td>NaN</td>\n",
       "      <td>NaN</td>\n",
       "      <td>NaN</td>\n",
       "      <td>...</td>\n",
       "      <td>NaN</td>\n",
       "      <td>-0.064742</td>\n",
       "      <td>NaN</td>\n",
       "      <td>NaN</td>\n",
       "      <td>-0.022046</td>\n",
       "      <td>NaN</td>\n",
       "      <td>NaN</td>\n",
       "      <td>-0.003602</td>\n",
       "      <td>NaN</td>\n",
       "      <td>NaN</td>\n",
       "    </tr>\n",
       "    <tr>\n",
       "      <th>4</th>\n",
       "      <td>4.481389</td>\n",
       "      <td>38367.856477</td>\n",
       "      <td>1.091</td>\n",
       "      <td>5.364</td>\n",
       "      <td>313.0</td>\n",
       "      <td>16.500000</td>\n",
       "      <td>NaN</td>\n",
       "      <td>NaN</td>\n",
       "      <td>NaN</td>\n",
       "      <td>NaN</td>\n",
       "      <td>...</td>\n",
       "      <td>NaN</td>\n",
       "      <td>1.582598</td>\n",
       "      <td>NaN</td>\n",
       "      <td>NaN</td>\n",
       "      <td>0.545951</td>\n",
       "      <td>NaN</td>\n",
       "      <td>NaN</td>\n",
       "      <td>0.570174</td>\n",
       "      <td>NaN</td>\n",
       "      <td>NaN</td>\n",
       "    </tr>\n",
       "  </tbody>\n",
       "</table>\n",
       "<p>5 rows × 30 columns</p>\n",
       "</div>"
      ],
      "text/plain": [
       "   current_price  current_price_sats  reddit_post_48h  reddit_comment_48h  \\\n",
       "0       2.936665        25024.566687            0.000               0.750   \n",
       "1       2.936665        25024.566687            0.000               0.667   \n",
       "2       2.898791        24435.409268            0.000               1.727   \n",
       "3       2.871923        24934.417517            0.417               2.750   \n",
       "4       4.481389        38367.856477            1.091               5.364   \n",
       "\n",
       "   reddit_subscribers  reddit_active_accounts  public_interest_stats  Value  \\\n",
       "0               193.0                7.200000                    NaN    NaN   \n",
       "1               212.0                5.500000                    NaN    NaN   \n",
       "2               237.0                6.333333                    NaN    NaN   \n",
       "3               269.0                8.538462                    NaN    NaN   \n",
       "4               313.0               16.500000                    NaN    NaN   \n",
       "\n",
       "   fear_ema20  fear_change_2_days  ...  sats_change_2_weeks  \\\n",
       "0         NaN                 NaN  ...                  NaN   \n",
       "1         NaN                 NaN  ...                  NaN   \n",
       "2         NaN                 NaN  ...                  NaN   \n",
       "3         NaN                 NaN  ...                  NaN   \n",
       "4         NaN                 NaN  ...                  NaN   \n",
       "\n",
       "   price_change_2_days  price_change_1_week  price_change_2_weeks  \\\n",
       "0                  NaN                  NaN                   NaN   \n",
       "1                  NaN                  NaN                   NaN   \n",
       "2            -0.037874                  NaN                   NaN   \n",
       "3            -0.064742                  NaN                   NaN   \n",
       "4             1.582598                  NaN                   NaN   \n",
       "\n",
       "   percent_change_2_days  percent_change_1_week  percent_change_2_weeks  \\\n",
       "0                    NaN                    NaN                     NaN   \n",
       "1                    NaN                    NaN                     NaN   \n",
       "2              -0.012897                    NaN                     NaN   \n",
       "3              -0.022046                    NaN                     NaN   \n",
       "4               0.545951                    NaN                     NaN   \n",
       "\n",
       "   percent_sats_2_days  percent_sats_1_week  percent_sats_2_weeks  \n",
       "0                  NaN                  NaN                   NaN  \n",
       "1                  NaN                  NaN                   NaN  \n",
       "2            -0.023543                  NaN                   NaN  \n",
       "3            -0.003602                  NaN                   NaN  \n",
       "4             0.570174                  NaN                   NaN  \n",
       "\n",
       "[5 rows x 30 columns]"
      ]
     },
     "execution_count": 30,
     "metadata": {},
     "output_type": "execute_result"
    }
   ],
   "source": [
    "X_reduced = X.drop(columns=to_drop, axis=1)\n",
    "X_reduced.head()"
   ]
  },
  {
   "cell_type": "markdown",
   "id": "7546e707",
   "metadata": {},
   "source": [
    "### use test classifiers function to compare X_reduced with X"
   ]
  },
  {
   "cell_type": "code",
   "execution_count": 31,
   "id": "33578e7b",
   "metadata": {},
   "outputs": [],
   "source": [
    "classifiers_reduced = Utils().test_classifiers(X_reduced, y)"
   ]
  },
  {
   "cell_type": "code",
   "execution_count": 32,
   "id": "9fa7eb63",
   "metadata": {},
   "outputs": [
    {
     "data": {
      "text/html": [
       "<div>\n",
       "<style scoped>\n",
       "    .dataframe tbody tr th:only-of-type {\n",
       "        vertical-align: middle;\n",
       "    }\n",
       "\n",
       "    .dataframe tbody tr th {\n",
       "        vertical-align: top;\n",
       "    }\n",
       "\n",
       "    .dataframe thead th {\n",
       "        text-align: right;\n",
       "    }\n",
       "</style>\n",
       "<table border=\"1\" class=\"dataframe\">\n",
       "  <thead>\n",
       "    <tr style=\"text-align: right;\">\n",
       "      <th></th>\n",
       "      <th>scores</th>\n",
       "    </tr>\n",
       "  </thead>\n",
       "  <tbody>\n",
       "    <tr>\n",
       "      <th>KNeighbors</th>\n",
       "      <td>0.703374</td>\n",
       "    </tr>\n",
       "    <tr>\n",
       "      <th>Support Vector</th>\n",
       "      <td>0.707333</td>\n",
       "    </tr>\n",
       "    <tr>\n",
       "      <th>Decision Tree</th>\n",
       "      <td>0.769394</td>\n",
       "    </tr>\n",
       "    <tr>\n",
       "      <th>Random Forest</th>\n",
       "      <td>0.891758</td>\n",
       "    </tr>\n",
       "    <tr>\n",
       "      <th>Ada Boost</th>\n",
       "      <td>0.839576</td>\n",
       "    </tr>\n",
       "    <tr>\n",
       "      <th>Gradient Boost</th>\n",
       "      <td>0.893818</td>\n",
       "    </tr>\n",
       "  </tbody>\n",
       "</table>\n",
       "</div>"
      ],
      "text/plain": [
       "                  scores\n",
       "KNeighbors      0.703374\n",
       "Support Vector  0.707333\n",
       "Decision Tree   0.769394\n",
       "Random Forest   0.891758\n",
       "Ada Boost       0.839576\n",
       "Gradient Boost  0.893818"
      ]
     },
     "execution_count": 32,
     "metadata": {},
     "output_type": "execute_result"
    }
   ],
   "source": [
    "classifiers"
   ]
  },
  {
   "cell_type": "code",
   "execution_count": 33,
   "id": "cdf3765a",
   "metadata": {},
   "outputs": [
    {
     "data": {
      "text/html": [
       "<div>\n",
       "<style scoped>\n",
       "    .dataframe tbody tr th:only-of-type {\n",
       "        vertical-align: middle;\n",
       "    }\n",
       "\n",
       "    .dataframe tbody tr th {\n",
       "        vertical-align: top;\n",
       "    }\n",
       "\n",
       "    .dataframe thead th {\n",
       "        text-align: right;\n",
       "    }\n",
       "</style>\n",
       "<table border=\"1\" class=\"dataframe\">\n",
       "  <thead>\n",
       "    <tr style=\"text-align: right;\">\n",
       "      <th></th>\n",
       "      <th>scores</th>\n",
       "    </tr>\n",
       "  </thead>\n",
       "  <tbody>\n",
       "    <tr>\n",
       "      <th>KNeighbors</th>\n",
       "      <td>0.665293</td>\n",
       "    </tr>\n",
       "    <tr>\n",
       "      <th>Support Vector</th>\n",
       "      <td>0.687333</td>\n",
       "    </tr>\n",
       "    <tr>\n",
       "      <th>Decision Tree</th>\n",
       "      <td>0.773515</td>\n",
       "    </tr>\n",
       "    <tr>\n",
       "      <th>Random Forest</th>\n",
       "      <td>0.869657</td>\n",
       "    </tr>\n",
       "    <tr>\n",
       "      <th>Ada Boost</th>\n",
       "      <td>0.825556</td>\n",
       "    </tr>\n",
       "    <tr>\n",
       "      <th>Gradient Boost</th>\n",
       "      <td>0.857697</td>\n",
       "    </tr>\n",
       "  </tbody>\n",
       "</table>\n",
       "</div>"
      ],
      "text/plain": [
       "                  scores\n",
       "KNeighbors      0.665293\n",
       "Support Vector  0.687333\n",
       "Decision Tree   0.773515\n",
       "Random Forest   0.869657\n",
       "Ada Boost       0.825556\n",
       "Gradient Boost  0.857697"
      ]
     },
     "execution_count": 33,
     "metadata": {},
     "output_type": "execute_result"
    }
   ],
   "source": [
    "classifiers_reduced"
   ]
  },
  {
   "cell_type": "code",
   "execution_count": 34,
   "id": "8ac58e03",
   "metadata": {
    "scrolled": false
   },
   "outputs": [
    {
     "data": {
      "image/png": "[encoded data removed]",
      "text/plain": [
       "<Figure size 864x720 with 2 Axes>"
      ]
     },
     "metadata": {
      "needs_background": "light"
     },
     "output_type": "display_data"
    }
   ],
   "source": [
    "fix, (ax1, ax2) = plt.subplots(nrows=2, ncols=1, figsize=(12,10))\n",
    "sns.barplot(y=classifiers.index, x=classifiers['scores'], ax=ax1)\n",
    "sns.barplot(y=classifiers_reduced.index, x=classifiers_reduced['scores'], ax=ax2)\n",
    "ax1.set_xlabel('')\n",
    "ax2.set_xlabel('Score')\n",
    "ax1.set_title('Performance of out-of-box models on full dataset')\n",
    "ax2.set_title('Performance of out-of-box models on reduced dataset');"
   ]
  },
  {
   "cell_type": "markdown",
   "id": "cb223571",
   "metadata": {},
   "source": [
    "> reducing highly correlated from the dataset decreases the score on the validation set."
   ]
  },
  {
   "cell_type": "markdown",
   "id": "ad551153",
   "metadata": {},
   "source": [
    "# Add features and test performance"
   ]
  },
  {
   "cell_type": "code",
   "execution_count": 35,
   "id": "f64c941b",
   "metadata": {},
   "outputs": [],
   "source": [
    "on_chain = Dataframe().get_on_chain()"
   ]
  },
  {
   "cell_type": "code",
   "execution_count": 36,
   "id": "13b83c10",
   "metadata": {},
   "outputs": [],
   "source": [
    "on_chain['fees_per_account'] = on_chain['fees']/on_chain['active_accounts']\n",
    "on_chain.drop(columns='date', inplace=True)"
   ]
  },
  {
   "cell_type": "code",
   "execution_count": 37,
   "id": "cbc994d0",
   "metadata": {},
   "outputs": [],
   "source": [
    "X_new = X_reduced.merge(on_chain, left_index=True, right_index=True, how='left')"
   ]
  },
  {
   "cell_type": "code",
   "execution_count": 38,
   "id": "abba8279",
   "metadata": {},
   "outputs": [],
   "source": [
    "classifiers_added = Utils().test_classifiers(X_new, y)"
   ]
  },
  {
   "cell_type": "code",
   "execution_count": 39,
   "id": "6b20810a",
   "metadata": {},
   "outputs": [
    {
     "data": {
      "text/html": [
       "<div>\n",
       "<style scoped>\n",
       "    .dataframe tbody tr th:only-of-type {\n",
       "        vertical-align: middle;\n",
       "    }\n",
       "\n",
       "    .dataframe tbody tr th {\n",
       "        vertical-align: top;\n",
       "    }\n",
       "\n",
       "    .dataframe thead th {\n",
       "        text-align: right;\n",
       "    }\n",
       "</style>\n",
       "<table border=\"1\" class=\"dataframe\">\n",
       "  <thead>\n",
       "    <tr style=\"text-align: right;\">\n",
       "      <th></th>\n",
       "      <th>scores</th>\n",
       "    </tr>\n",
       "  </thead>\n",
       "  <tbody>\n",
       "    <tr>\n",
       "      <th>KNeighbors</th>\n",
       "      <td>0.733394</td>\n",
       "    </tr>\n",
       "    <tr>\n",
       "      <th>Support Vector</th>\n",
       "      <td>0.731434</td>\n",
       "    </tr>\n",
       "    <tr>\n",
       "      <th>Decision Tree</th>\n",
       "      <td>0.777475</td>\n",
       "    </tr>\n",
       "    <tr>\n",
       "      <th>Random Forest</th>\n",
       "      <td>0.861677</td>\n",
       "    </tr>\n",
       "    <tr>\n",
       "      <th>Ada Boost</th>\n",
       "      <td>0.839535</td>\n",
       "    </tr>\n",
       "    <tr>\n",
       "      <th>Gradient Boost</th>\n",
       "      <td>0.859717</td>\n",
       "    </tr>\n",
       "  </tbody>\n",
       "</table>\n",
       "</div>"
      ],
      "text/plain": [
       "                  scores\n",
       "KNeighbors      0.733394\n",
       "Support Vector  0.731434\n",
       "Decision Tree   0.777475\n",
       "Random Forest   0.861677\n",
       "Ada Boost       0.839535\n",
       "Gradient Boost  0.859717"
      ]
     },
     "execution_count": 39,
     "metadata": {},
     "output_type": "execute_result"
    }
   ],
   "source": [
    "classifiers_added"
   ]
  },
  {
   "cell_type": "markdown",
   "id": "646408d4",
   "metadata": {},
   "source": [
    "### write function to remove features until the best score is found"
   ]
  },
  {
   "cell_type": "code",
   "execution_count": 40,
   "id": "12e7c05e",
   "metadata": {},
   "outputs": [],
   "source": [
    "df2 = Dataframe().get_features(forecast_out=14)"
   ]
  },
  {
   "cell_type": "code",
   "execution_count": 41,
   "id": "bcc18acc",
   "metadata": {},
   "outputs": [],
   "source": [
    "X = df.drop(columns=['predict', 'date', 'Value_classification'])\n",
    "y = df['predict']"
   ]
  },
  {
   "cell_type": "code",
   "execution_count": 42,
   "id": "6066d631",
   "metadata": {},
   "outputs": [],
   "source": [
    "X_train_new, X_test_new, y_train_new, y_test_new = train_test_split(X_new, y, test_size=0.2, random_state=42)\n",
    "\n",
    "imp_simple = SimpleImputer()\n",
    "imp_simple.fit(X_train_new)\n",
    "X_train_new_impute = imp_simple.transform(X_train_new)\n",
    "X_test_new_impute = imp_simple.transform(X_test_new)\n",
    "\n",
    "scaler = RobustScaler().fit(X_train_new_impute)\n",
    "X_train_new_scaled = scaler.transform(X_train_new_impute)\n",
    "X_test_new_scaled = scaler.transform(X_test_new_impute)"
   ]
  },
  {
   "cell_type": "code",
   "execution_count": 43,
   "id": "a2a26262",
   "metadata": {},
   "outputs": [],
   "source": [
    "def find_best_features_gradient(X, y):\n",
    "    score = list()\n",
    "    k_record = list()\n",
    "    for i in range(1, X.shape[1]):\n",
    "        select_features = SelectKBest(score_func=mutual_info_classif, k=i)\n",
    "        select_features.fit(X, y)\n",
    "        X_reduced = select_features.transform(X)\n",
    "        gradient = GradientBoostingClassifier(random_state=42)\n",
    "        s = cross_val_score(gradient, X_reduced, y, cv=5).mean()\n",
    "        score.append(s)\n",
    "        k_record.append(i)\n",
    "    return k_record, score"
   ]
  },
  {
   "cell_type": "code",
   "execution_count": 44,
   "id": "f79eb4b8",
   "metadata": {},
   "outputs": [],
   "source": [
    "k, score = find_best_features_gradient(X_train_new_scaled, y_train_new)"
   ]
  },
  {
   "cell_type": "code",
   "execution_count": 45,
   "id": "ecfd461c",
   "metadata": {},
   "outputs": [],
   "source": [
    "def find_best_features_r_forest(X, y):\n",
    "    score = list()\n",
    "    k_record = list()\n",
    "    for i in range(1, X.shape[1]):\n",
    "        select_features = SelectKBest(score_func=mutual_info_classif, k=i)\n",
    "        select_features.fit(X, y)\n",
    "        X_reduced = select_features.transform(X)\n",
    "        random = RandomForestClassifier(random_state=42)\n",
    "        s = cross_val_score(random, X_reduced, y, cv=5).mean()\n",
    "        score.append(s)\n",
    "        k_record.append(i)\n",
    "    return k_record, score"
   ]
  },
  {
   "cell_type": "code",
   "execution_count": 46,
   "id": "9e494598",
   "metadata": {},
   "outputs": [],
   "source": [
    "k_r, score_r = find_best_features_r_forest(X_train_new_scaled, y_train_new)"
   ]
  },
  {
   "cell_type": "code",
   "execution_count": 47,
   "id": "b2f31bcd",
   "metadata": {},
   "outputs": [
    {
     "data": {
      "image/png": "[encoded data removed]",
      "text/plain": [
       "<Figure size 1008x720 with 1 Axes>"
      ]
     },
     "metadata": {
      "needs_background": "light"
     },
     "output_type": "display_data"
    }
   ],
   "source": [
    "plt.figure(figsize=(14,10))\n",
    "sns.lineplot(x=k, y=score, label='Gradient Boost')\n",
    "sns.lineplot(x=k_r, y=score_r, color='orange', label='Random Forest')\n",
    "plt.xlabel('Features Used', fontsize=12)\n",
    "plt.ylabel('Cross-Validated Score', fontsize=12)\n",
    "plt.title('Score when k features used', fontsize=14)\n",
    "plt.legend();"
   ]
  },
  {
   "cell_type": "code",
   "execution_count": 48,
   "id": "0a589a27",
   "metadata": {},
   "outputs": [
    {
     "data": {
      "text/plain": [
       "0.8857575757575757"
      ]
     },
     "execution_count": 48,
     "metadata": {},
     "output_type": "execute_result"
    }
   ],
   "source": [
    "select_features = SelectKBest(score_func=mutual_info_classif, k=1)\n",
    "select_features.fit(X_train_new_scaled, y_train_new)\n",
    "X_reduced = select_features.transform(X_train_new_scaled)\n",
    "X_test_reduced = select_features.transform(X_test_new_scaled)\n",
    "gradient = GradientBoostingClassifier(random_state=42)\n",
    "cross_val_score(gradient, X_reduced, y_train_new, cv=5).mean()"
   ]
  },
  {
   "cell_type": "code",
   "execution_count": 49,
   "id": "d18d3402",
   "metadata": {},
   "outputs": [
    {
     "data": {
      "text/plain": [
       "0.9037575757575758"
      ]
     },
     "execution_count": 49,
     "metadata": {},
     "output_type": "execute_result"
    }
   ],
   "source": [
    "select_features_r = SelectKBest(score_func=mutual_info_classif, k=7)\n",
    "select_features_r.fit(X_train_new_scaled, y_train_new)\n",
    "X_reduced_r = select_features_r.transform(X_train_new_scaled)\n",
    "X_test_reduced_r = select_features_r.transform(X_test_new_scaled)\n",
    "random = RandomForestClassifier(random_state=42)\n",
    "cross_val_score(random, X_reduced_r, y_train_new, cv=5).mean()"
   ]
  },
  {
   "cell_type": "code",
   "execution_count": 50,
   "id": "43960401",
   "metadata": {},
   "outputs": [],
   "source": [
    "grad = GradientBoostingClassifier(random_state=42).fit(X_reduced, y_train)"
   ]
  },
  {
   "cell_type": "code",
   "execution_count": 51,
   "id": "1a6f1179",
   "metadata": {},
   "outputs": [],
   "source": [
    "pred = grad.predict(X_test_reduced)"
   ]
  },
  {
   "cell_type": "code",
   "execution_count": 52,
   "id": "d563713d",
   "metadata": {},
   "outputs": [],
   "source": [
    "random.fit(X_reduced_r, y_train)\n",
    "pred_r = random.predict(X_test_reduced_r)"
   ]
  },
  {
   "cell_type": "code",
   "execution_count": 53,
   "id": "0cb76d5e",
   "metadata": {},
   "outputs": [
    {
     "data": {
      "image/png": "[encoded data removed]",
      "text/plain": [
       "<Figure size 1008x720 with 1 Axes>"
      ]
     },
     "metadata": {
      "needs_background": "light"
     },
     "output_type": "display_data"
    }
   ],
   "source": [
    "plt.figure(figsize=(14,10))\n",
    "sns.histplot(pred, label='Predicted Price')\n",
    "sns.histplot(y_test, color='r', alpha=0.2, label='Price')\n",
    "plt.xticks(ticks=[0.05, 0.95], labels=['Down', 'Up'])\n",
    "plt.xlabel('')\n",
    "plt.title('Gradient Boosting Performance',\n",
    "         fontsize=16);\n",
    "plt.legend();"
   ]
  },
  {
   "cell_type": "code",
   "execution_count": 54,
   "id": "4bb7132c",
   "metadata": {},
   "outputs": [
    {
     "data": {
      "image/png": "[encoded data removed]",
      "text/plain": [
       "<Figure size 1008x720 with 1 Axes>"
      ]
     },
     "metadata": {
      "needs_background": "light"
     },
     "output_type": "display_data"
    }
   ],
   "source": [
    "plt.figure(figsize=(14,10))\n",
    "sns.histplot(pred_r, label='Predicted Price')\n",
    "sns.histplot(y_test, color='r', alpha=0.2, label='Price')\n",
    "plt.xticks(ticks=[0.05, 0.95], labels=['Down', 'Up'])\n",
    "plt.xlabel('')\n",
    "plt.title('Random Forest Performance',\n",
    "         fontsize=16);\n",
    "plt.legend();"
   ]
  },
  {
   "cell_type": "markdown",
   "id": "e0393586",
   "metadata": {},
   "source": [
    "> We can see that our model has a tendency to over-choose 1 (price will go up)"
   ]
  },
  {
   "cell_type": "code",
   "execution_count": 55,
   "id": "2103eab1",
   "metadata": {},
   "outputs": [],
   "source": [
    "classifiers_reduced = Utils().find_best_features_gradient(X_train_new_scaled, y_train_new)"
   ]
  }
 ],
 "metadata": {
  "kernelspec": {
   "display_name": "Python 3 (ipykernel)",
   "language": "python",
   "name": "python3"
  },
  "language_info": {
   "codemirror_mode": {
    "name": "ipython",
    "version": 3
   },
   "file_extension": ".py",
   "mimetype": "text/x-python",
   "name": "python",
   "nbconvert_exporter": "python",
   "pygments_lexer": "ipython3",
   "version": "3.8.12"
  },
  "toc": {
   "base_numbering": 1,
   "nav_menu": {},
   "number_sections": false,
   "sideBar": true,
   "skip_h1_title": false,
   "title_cell": "Table of Contents",
   "title_sidebar": "Contents",
   "toc_cell": false,
   "toc_position": {},
   "toc_section_display": true,
   "toc_window_display": true
  }
 },
 "nbformat": 4,
 "nbformat_minor": 5
}
