{
 "cells": [
  {
   "cell_type": "markdown",
   "id": "5da1bda6",
   "metadata": {},
   "source": [
    "# Creating features and target"
   ]
  },
  {
   "cell_type": "markdown",
   "id": "02e41b5a",
   "metadata": {},
   "source": [
    "## import packages and DataFrame"
   ]
  },
  {
   "cell_type": "code",
   "execution_count": 1,
   "id": "689aa765",
   "metadata": {},
   "outputs": [],
   "source": [
    "from features import Dataframe\n",
    "import pandas as pd\n",
    "import seaborn as sns\n",
    "import matplotlib.pyplot as plt\n",
    "import numpy as np\n",
    "from sklearn.preprocessing import RobustScaler\n",
    "from sklearn.inspection import permutation_importance\n",
    "from sklearn.neighbors import KNeighborsClassifier\n",
    "from sklearn.tree import DecisionTreeClassifier\n",
    "from sklearn.ensemble import RandomForestClassifier, AdaBoostClassifier, GradientBoostingClassifier\n",
    "from sklearn.svm import SVC\n",
    "from sklearn.metrics import classification_report, confusion_matrix\n",
    "from sklearn.experimental import enable_halving_search_cv\n",
    "from sklearn.model_selection import train_test_split, HalvingGridSearchCV\n",
    "import warnings\n",
    "warnings.filterwarnings('ignore')"
   ]
  },
  {
   "cell_type": "code",
   "execution_count": 2,
   "id": "1e64efd6",
   "metadata": {},
   "outputs": [],
   "source": [
    "polkadot = Dataframe().get_dataframe()"
   ]
  },
  {
   "cell_type": "code",
   "execution_count": 3,
   "id": "ae6a72e0",
   "metadata": {},
   "outputs": [
    {
     "data": {
      "text/html": [
       "<div>\n",
       "<style scoped>\n",
       "    .dataframe tbody tr th:only-of-type {\n",
       "        vertical-align: middle;\n",
       "    }\n",
       "\n",
       "    .dataframe tbody tr th {\n",
       "        vertical-align: top;\n",
       "    }\n",
       "\n",
       "    .dataframe thead th {\n",
       "        text-align: right;\n",
       "    }\n",
       "</style>\n",
       "<table border=\"1\" class=\"dataframe\">\n",
       "  <thead>\n",
       "    <tr style=\"text-align: right;\">\n",
       "      <th></th>\n",
       "      <th>date</th>\n",
       "      <th>current_price</th>\n",
       "      <th>current_price_sats</th>\n",
       "      <th>market_cap</th>\n",
       "      <th>reddit_post_48h</th>\n",
       "      <th>reddit_comment_48h</th>\n",
       "      <th>reddit_subscribers</th>\n",
       "      <th>reddit_active_accounts</th>\n",
       "      <th>public_interest_stats</th>\n",
       "      <th>Value</th>\n",
       "      <th>Value_classification</th>\n",
       "    </tr>\n",
       "  </thead>\n",
       "  <tbody>\n",
       "    <tr>\n",
       "      <th>0</th>\n",
       "      <td>2020-08-23</td>\n",
       "      <td>4.481389</td>\n",
       "      <td>38367.856477</td>\n",
       "      <td>4.028277e+09</td>\n",
       "      <td>1.091</td>\n",
       "      <td>5.364</td>\n",
       "      <td>313</td>\n",
       "      <td>16.500000</td>\n",
       "      <td>NaN</td>\n",
       "      <td>76</td>\n",
       "      <td>Extreme Greed</td>\n",
       "    </tr>\n",
       "    <tr>\n",
       "      <th>1</th>\n",
       "      <td>2020-08-24</td>\n",
       "      <td>3.966083</td>\n",
       "      <td>34041.816539</td>\n",
       "      <td>3.630431e+09</td>\n",
       "      <td>0.636</td>\n",
       "      <td>3.636</td>\n",
       "      <td>368</td>\n",
       "      <td>47.500000</td>\n",
       "      <td>NaN</td>\n",
       "      <td>78</td>\n",
       "      <td>Extreme Greed</td>\n",
       "    </tr>\n",
       "    <tr>\n",
       "      <th>2</th>\n",
       "      <td>2020-08-25</td>\n",
       "      <td>4.576939</td>\n",
       "      <td>38926.351643</td>\n",
       "      <td>4.162345e+09</td>\n",
       "      <td>3.364</td>\n",
       "      <td>10.091</td>\n",
       "      <td>3466</td>\n",
       "      <td>87.250000</td>\n",
       "      <td>NaN</td>\n",
       "      <td>75</td>\n",
       "      <td>Greed</td>\n",
       "    </tr>\n",
       "    <tr>\n",
       "      <th>3</th>\n",
       "      <td>2020-08-26</td>\n",
       "      <td>5.493947</td>\n",
       "      <td>48405.452250</td>\n",
       "      <td>4.910961e+09</td>\n",
       "      <td>3.182</td>\n",
       "      <td>15.818</td>\n",
       "      <td>3585</td>\n",
       "      <td>133.166667</td>\n",
       "      <td>NaN</td>\n",
       "      <td>76</td>\n",
       "      <td>Extreme Greed</td>\n",
       "    </tr>\n",
       "    <tr>\n",
       "      <th>4</th>\n",
       "      <td>2020-08-27</td>\n",
       "      <td>6.067730</td>\n",
       "      <td>52928.412025</td>\n",
       "      <td>5.508438e+09</td>\n",
       "      <td>1.364</td>\n",
       "      <td>12.545</td>\n",
       "      <td>3753</td>\n",
       "      <td>171.583333</td>\n",
       "      <td>NaN</td>\n",
       "      <td>75</td>\n",
       "      <td>Greed</td>\n",
       "    </tr>\n",
       "  </tbody>\n",
       "</table>\n",
       "</div>"
      ],
      "text/plain": [
       "        date  current_price  current_price_sats    market_cap  \\\n",
       "0 2020-08-23       4.481389        38367.856477  4.028277e+09   \n",
       "1 2020-08-24       3.966083        34041.816539  3.630431e+09   \n",
       "2 2020-08-25       4.576939        38926.351643  4.162345e+09   \n",
       "3 2020-08-26       5.493947        48405.452250  4.910961e+09   \n",
       "4 2020-08-27       6.067730        52928.412025  5.508438e+09   \n",
       "\n",
       "   reddit_post_48h  reddit_comment_48h  reddit_subscribers  \\\n",
       "0            1.091               5.364                 313   \n",
       "1            0.636               3.636                 368   \n",
       "2            3.364              10.091                3466   \n",
       "3            3.182              15.818                3585   \n",
       "4            1.364              12.545                3753   \n",
       "\n",
       "   reddit_active_accounts  public_interest_stats  Value Value_classification  \n",
       "0               16.500000                    NaN     76        Extreme Greed  \n",
       "1               47.500000                    NaN     78        Extreme Greed  \n",
       "2               87.250000                    NaN     75                Greed  \n",
       "3              133.166667                    NaN     76        Extreme Greed  \n",
       "4              171.583333                    NaN     75                Greed  "
      ]
     },
     "execution_count": 3,
     "metadata": {},
     "output_type": "execute_result"
    }
   ],
   "source": [
    "polkadot.head()"
   ]
  },
  {
   "cell_type": "markdown",
   "id": "8e8e1a40",
   "metadata": {},
   "source": [
    "## create target"
   ]
  },
  {
   "cell_type": "markdown",
   "id": "ca52494d",
   "metadata": {},
   "source": [
    "> create price in two days as target, then convert that into 0 (price less than the day before)\n",
    "or 1 (price more than the day before)"
   ]
  },
  {
   "cell_type": "code",
   "execution_count": 4,
   "id": "1b17afd6",
   "metadata": {},
   "outputs": [],
   "source": [
    "polkadot['predict'] = polkadot['current_price'].shift(-2)"
   ]
  },
  {
   "cell_type": "code",
   "execution_count": 5,
   "id": "bc38a1ac",
   "metadata": {},
   "outputs": [],
   "source": [
    "polkadot['predict'] = pd.Series(np.where(polkadot['predict'].values < polkadot['current_price'], 0, 1),\n",
    "          polkadot.index)"
   ]
  },
  {
   "cell_type": "markdown",
   "id": "2427b0f6",
   "metadata": {},
   "source": [
    "## create new features"
   ]
  },
  {
   "cell_type": "code",
   "execution_count": 6,
   "id": "81058e62",
   "metadata": {},
   "outputs": [],
   "source": [
    "polkadot['price_ema5'] = polkadot['current_price'].ewm(span=5, adjust=False).mean()\n",
    "polkadot['price_ema20'] = polkadot['current_price'].ewm(span=20, adjust=False).mean()\n",
    "polkadot['price_ema50'] = polkadot['current_price'].ewm(span=50, adjust=False).mean()\n",
    "\n",
    "polkadot['fear_ema5'] = polkadot['Value'].ewm(span=2, adjust=False).mean()\n",
    "polkadot['fear_ema20'] = polkadot['Value'].ewm(span=20, adjust=False).mean()\n",
    "polkadot['fear_ema50'] = polkadot['Value'].ewm(span=50, adjust=False).mean()\n",
    "\n",
    "polkadot['fear_change_2_days'] = polkadot['Value'] - polkadot['Value'].shift(2)\n",
    "polkadot['fear_change_1_week'] = polkadot['Value'] - polkadot['Value'].shift(7)\n",
    "polkadot['fear_change_2_weeks'] = polkadot['Value'] - polkadot['Value'].shift(14)\n",
    "\n",
    "polkadot['reddit_post_ema5'] = polkadot['reddit_post_48h'].ewm(span=5, adjust=False).mean()\n",
    "polkadot['reddit_post_ema20'] = polkadot['reddit_post_48h'].ewm(span=20, adjust=False).mean()\n",
    "polkadot['reddit_post_ema50'] = polkadot['reddit_post_48h'].ewm(span=50, adjust=False).mean()\n",
    "\n",
    "polkadot['reddit_change_2_days'] = polkadot['reddit_post_48h'] - polkadot['reddit_post_48h'].shift(2)\n",
    "polkadot['reddit_change_1_week'] = polkadot['reddit_post_48h'] - polkadot['reddit_post_48h'].shift(7)\n",
    "polkadot['reddit_change_2_weeks'] = polkadot['reddit_post_48h'] - polkadot['reddit_post_48h'].shift(14)\n",
    "\n",
    "polkadot['sats_ema5'] = polkadot['current_price_sats'].ewm(span=5, adjust=False).mean()\n",
    "polkadot['sats_ema20'] = polkadot['current_price_sats'].ewm(span=20, adjust=False).mean()\n",
    "polkadot['sats_ema50'] = polkadot['current_price_sats'].ewm(span=50, adjust=False).mean()\n",
    "\n",
    "polkadot['sats_change_2_days'] = polkadot['current_price_sats'] - polkadot['current_price_sats'].shift(2)\n",
    "polkadot['sats_change_1_week'] = polkadot['current_price_sats'] - polkadot['current_price_sats'].shift(7)\n",
    "polkadot['sats_change_2_weeks'] = polkadot['current_price_sats'] - polkadot['current_price_sats'].shift(14)\n",
    "\n",
    "polkadot['price_change_2_days'] = polkadot['current_price'] - polkadot['current_price'].shift(2)\n",
    "polkadot['price_change_1_week'] = polkadot['current_price'] - polkadot['current_price'].shift(7)\n",
    "polkadot['price_change_2_weeks'] = polkadot['current_price'] - polkadot['current_price'].shift(14)"
   ]
  },
  {
   "cell_type": "markdown",
   "id": "60bb1478",
   "metadata": {},
   "source": [
    "### inspect and fix na values"
   ]
  },
  {
   "cell_type": "code",
   "execution_count": 7,
   "id": "d242ceb3",
   "metadata": {},
   "outputs": [
    {
     "data": {
      "text/plain": [
       "date                       0\n",
       "current_price              0\n",
       "current_price_sats         0\n",
       "market_cap                 0\n",
       "reddit_post_48h            0\n",
       "reddit_comment_48h         0\n",
       "reddit_subscribers         0\n",
       "reddit_active_accounts     0\n",
       "public_interest_stats      8\n",
       "Value                      0\n",
       "Value_classification       0\n",
       "predict                    0\n",
       "price_ema5                 0\n",
       "price_ema20                0\n",
       "price_ema50                0\n",
       "fear_ema5                  0\n",
       "fear_ema20                 0\n",
       "fear_ema50                 0\n",
       "fear_change_2_days         2\n",
       "fear_change_1_week         7\n",
       "fear_change_2_weeks       14\n",
       "reddit_post_ema5           0\n",
       "reddit_post_ema20          0\n",
       "reddit_post_ema50          0\n",
       "reddit_change_2_days       2\n",
       "reddit_change_1_week       7\n",
       "reddit_change_2_weeks     14\n",
       "sats_ema5                  0\n",
       "sats_ema20                 0\n",
       "sats_ema50                 0\n",
       "sats_change_2_days         2\n",
       "sats_change_1_week         7\n",
       "sats_change_2_weeks       14\n",
       "price_change_2_days        2\n",
       "price_change_1_week        7\n",
       "price_change_2_weeks      14\n",
       "dtype: int64"
      ]
     },
     "execution_count": 7,
     "metadata": {},
     "output_type": "execute_result"
    }
   ],
   "source": [
    "polkadot.isnull().sum()"
   ]
  },
  {
   "cell_type": "code",
   "execution_count": 8,
   "id": "99b87346",
   "metadata": {},
   "outputs": [],
   "source": [
    "polkadot[polkadot['public_interest_stats'].isnull()] = 0\n",
    "polkadot[polkadot['fear_change_2_days'].isnull()] = 0\n",
    "polkadot[polkadot['fear_change_1_week'].isnull()] = 0\n",
    "polkadot[polkadot['fear_change_2_weeks'].isnull()] = 0\n",
    "polkadot[polkadot['reddit_change_2_days'].isnull()] = 0\n",
    "polkadot[polkadot['reddit_change_1_week'].isnull()] = 0\n",
    "polkadot[polkadot['reddit_change_2_weeks'].isnull()] = 0\n",
    "polkadot[polkadot['sats_change_2_days'].isnull()] = 0\n",
    "polkadot[polkadot['sats_change_1_week'].isnull()] = 0\n",
    "polkadot[polkadot['sats_change_2_weeks'].isnull()] = 0\n",
    "polkadot[polkadot['price_change_2_days'].isnull()] = 0\n",
    "polkadot[polkadot['price_change_1_week'].isnull()] = 0\n",
    "polkadot[polkadot['price_change_2_weeks'].isnull()] = 0"
   ]
  },
  {
   "cell_type": "code",
   "execution_count": 9,
   "id": "1b290170",
   "metadata": {},
   "outputs": [
    {
     "data": {
      "text/plain": [
       "date                      0\n",
       "current_price             0\n",
       "current_price_sats        0\n",
       "market_cap                0\n",
       "reddit_post_48h           0\n",
       "reddit_comment_48h        0\n",
       "reddit_subscribers        0\n",
       "reddit_active_accounts    0\n",
       "public_interest_stats     0\n",
       "Value                     0\n",
       "Value_classification      0\n",
       "predict                   0\n",
       "price_ema5                0\n",
       "price_ema20               0\n",
       "price_ema50               0\n",
       "fear_ema5                 0\n",
       "fear_ema20                0\n",
       "fear_ema50                0\n",
       "fear_change_2_days        0\n",
       "fear_change_1_week        0\n",
       "fear_change_2_weeks       0\n",
       "reddit_post_ema5          0\n",
       "reddit_post_ema20         0\n",
       "reddit_post_ema50         0\n",
       "reddit_change_2_days      0\n",
       "reddit_change_1_week      0\n",
       "reddit_change_2_weeks     0\n",
       "sats_ema5                 0\n",
       "sats_ema20                0\n",
       "sats_ema50                0\n",
       "sats_change_2_days        0\n",
       "sats_change_1_week        0\n",
       "sats_change_2_weeks       0\n",
       "price_change_2_days       0\n",
       "price_change_1_week       0\n",
       "price_change_2_weeks      0\n",
       "dtype: int64"
      ]
     },
     "execution_count": 9,
     "metadata": {},
     "output_type": "execute_result"
    }
   ],
   "source": [
    "polkadot.isnull().sum()"
   ]
  },
  {
   "cell_type": "code",
   "execution_count": 10,
   "id": "8f307d76",
   "metadata": {},
   "outputs": [],
   "source": [
    "polkadot[polkadot['public_interest_stats'].isnull()] = 0"
   ]
  },
  {
   "cell_type": "code",
   "execution_count": 11,
   "id": "db65dd6c",
   "metadata": {},
   "outputs": [],
   "source": [
    "df = Dataframe().get_features(forecast_out=7)"
   ]
  },
  {
   "cell_type": "markdown",
   "id": "7e45a6b7",
   "metadata": {},
   "source": [
    "## find features and model"
   ]
  },
  {
   "cell_type": "markdown",
   "id": "85a9fc32",
   "metadata": {},
   "source": [
    "### create features and target"
   ]
  },
  {
   "cell_type": "code",
   "execution_count": 12,
   "id": "66ccd643",
   "metadata": {},
   "outputs": [],
   "source": [
    "X = df.drop(columns=['predict', 'date', 'Value_classification'])\n",
    "y = df['predict']"
   ]
  },
  {
   "cell_type": "markdown",
   "id": "99ce2694",
   "metadata": {},
   "source": [
    "### use RobustScaler to scale features"
   ]
  },
  {
   "cell_type": "code",
   "execution_count": 13,
   "id": "15ab694e",
   "metadata": {},
   "outputs": [],
   "source": [
    "scaler = RobustScaler().fit(X)\n",
    "X_scaled = scaler.transform(X)"
   ]
  },
  {
   "cell_type": "markdown",
   "id": "90dc9ff7",
   "metadata": {},
   "source": [
    "### use feature permutation to find most important features"
   ]
  },
  {
   "cell_type": "markdown",
   "id": "089565e5",
   "metadata": {},
   "source": [
    "> need to remove highly correlated entries"
   ]
  },
  {
   "cell_type": "code",
   "execution_count": 14,
   "id": "be3a6ba7",
   "metadata": {},
   "outputs": [],
   "source": [
    "regressor = KNeighborsClassifier().fit(X_scaled, y)\n",
    "permutation_score = permutation_importance(regressor, X_scaled, y, n_repeats=10)\n",
    "importance_df = pd.DataFrame(np.vstack((X.columns,\n",
    "                                        permutation_score.importances_mean)).T)\n",
    "importance_df.columns=['feature','score decrease']\n",
    "\n",
    "importance_df['score decrease'] = abs(importance_df['score decrease'])\n",
    "importance_df = importance_df.sort_values(by=\"score decrease\", ascending = False)"
   ]
  },
  {
   "cell_type": "code",
   "execution_count": 15,
   "id": "8a0709ed",
   "metadata": {},
   "outputs": [],
   "source": [
    "features = importance_df['feature']"
   ]
  },
  {
   "cell_type": "code",
   "execution_count": 16,
   "id": "b1c2df7e",
   "metadata": {},
   "outputs": [
    {
     "data": {
      "text/html": [
       "<div>\n",
       "<style scoped>\n",
       "    .dataframe tbody tr th:only-of-type {\n",
       "        vertical-align: middle;\n",
       "    }\n",
       "\n",
       "    .dataframe tbody tr th {\n",
       "        vertical-align: top;\n",
       "    }\n",
       "\n",
       "    .dataframe thead th {\n",
       "        text-align: right;\n",
       "    }\n",
       "</style>\n",
       "<table border=\"1\" class=\"dataframe\">\n",
       "  <thead>\n",
       "    <tr style=\"text-align: right;\">\n",
       "      <th></th>\n",
       "      <th>feature</th>\n",
       "      <th>score decrease</th>\n",
       "    </tr>\n",
       "  </thead>\n",
       "  <tbody>\n",
       "    <tr>\n",
       "      <th>15</th>\n",
       "      <td>fear_change_2_days</td>\n",
       "      <td>0.037255</td>\n",
       "    </tr>\n",
       "    <tr>\n",
       "      <th>29</th>\n",
       "      <td>sats_change_2_weeks</td>\n",
       "      <td>0.021212</td>\n",
       "    </tr>\n",
       "    <tr>\n",
       "      <th>23</th>\n",
       "      <td>reddit_change_2_weeks</td>\n",
       "      <td>0.019073</td>\n",
       "    </tr>\n",
       "    <tr>\n",
       "      <th>28</th>\n",
       "      <td>sats_change_1_week</td>\n",
       "      <td>0.018895</td>\n",
       "    </tr>\n",
       "    <tr>\n",
       "      <th>27</th>\n",
       "      <td>sats_change_2_days</td>\n",
       "      <td>0.016043</td>\n",
       "    </tr>\n",
       "  </tbody>\n",
       "</table>\n",
       "</div>"
      ],
      "text/plain": [
       "                  feature score decrease\n",
       "15     fear_change_2_days       0.037255\n",
       "29    sats_change_2_weeks       0.021212\n",
       "23  reddit_change_2_weeks       0.019073\n",
       "28     sats_change_1_week       0.018895\n",
       "27     sats_change_2_days       0.016043"
      ]
     },
     "execution_count": 16,
     "metadata": {},
     "output_type": "execute_result"
    }
   ],
   "source": [
    "importance_df.head()"
   ]
  },
  {
   "cell_type": "markdown",
   "id": "24f86e02",
   "metadata": {},
   "source": [
    "### test different classifiers"
   ]
  },
  {
   "cell_type": "code",
   "execution_count": 17,
   "id": "2e595969",
   "metadata": {},
   "outputs": [],
   "source": [
    "X_train, X_test, y_train, y_test = train_test_split(X_scaled, y, test_size=0.2, random_state=42)"
   ]
  },
  {
   "cell_type": "code",
   "execution_count": 18,
   "id": "bc63ba41",
   "metadata": {},
   "outputs": [],
   "source": [
    "k_regressor = KNeighborsClassifier().fit(X_train, y_train)\n",
    "s_model = SVC().fit(X_train, y_train)\n",
    "classifier = DecisionTreeClassifier().fit(X_train, y_train)\n",
    "random_classifier = RandomForestClassifier().fit(X_train, y_train)\n",
    "ada = AdaBoostClassifier().fit(X_train, y_train)\n",
    "gradient = GradientBoostingClassifier().fit(X_train, y_train)"
   ]
  },
  {
   "cell_type": "code",
   "execution_count": 19,
   "id": "8a5ffb9e",
   "metadata": {},
   "outputs": [],
   "source": [
    "scores = pd.DataFrame(columns=['scores'], index=['KNeighbors', 'Support Vector', 'Decision Tree',\n",
    "                                                'Random Forest', 'Ada Boost', 'Gradient Boost'], \n",
    "                      data=[k_regressor.score(X_test, y_test), s_model.score(X_test, y_test),\n",
    "                           classifier.score(X_test, y_test), random_classifier.score(X_test, y_test),\n",
    "                           ada.score(X_test, y_test), gradient.score(X_test, y_test)])"
   ]
  },
  {
   "cell_type": "code",
   "execution_count": 20,
   "id": "e2d3341c",
   "metadata": {},
   "outputs": [
    {
     "data": {
      "text/html": [
       "<div>\n",
       "<style scoped>\n",
       "    .dataframe tbody tr th:only-of-type {\n",
       "        vertical-align: middle;\n",
       "    }\n",
       "\n",
       "    .dataframe tbody tr th {\n",
       "        vertical-align: top;\n",
       "    }\n",
       "\n",
       "    .dataframe thead th {\n",
       "        text-align: right;\n",
       "    }\n",
       "</style>\n",
       "<table border=\"1\" class=\"dataframe\">\n",
       "  <thead>\n",
       "    <tr style=\"text-align: right;\">\n",
       "      <th></th>\n",
       "      <th>scores</th>\n",
       "    </tr>\n",
       "  </thead>\n",
       "  <tbody>\n",
       "    <tr>\n",
       "      <th>KNeighbors</th>\n",
       "      <td>0.646018</td>\n",
       "    </tr>\n",
       "    <tr>\n",
       "      <th>Support Vector</th>\n",
       "      <td>0.637168</td>\n",
       "    </tr>\n",
       "    <tr>\n",
       "      <th>Decision Tree</th>\n",
       "      <td>0.787611</td>\n",
       "    </tr>\n",
       "    <tr>\n",
       "      <th>Random Forest</th>\n",
       "      <td>0.840708</td>\n",
       "    </tr>\n",
       "    <tr>\n",
       "      <th>Ada Boost</th>\n",
       "      <td>0.761062</td>\n",
       "    </tr>\n",
       "    <tr>\n",
       "      <th>Gradient Boost</th>\n",
       "      <td>0.814159</td>\n",
       "    </tr>\n",
       "  </tbody>\n",
       "</table>\n",
       "</div>"
      ],
      "text/plain": [
       "                  scores\n",
       "KNeighbors      0.646018\n",
       "Support Vector  0.637168\n",
       "Decision Tree   0.787611\n",
       "Random Forest   0.840708\n",
       "Ada Boost       0.761062\n",
       "Gradient Boost  0.814159"
      ]
     },
     "execution_count": 20,
     "metadata": {},
     "output_type": "execute_result"
    }
   ],
   "source": [
    "scores"
   ]
  },
  {
   "cell_type": "code",
   "execution_count": 21,
   "id": "bb14dbe4",
   "metadata": {},
   "outputs": [
    {
     "data": {
      "image/png": "[encoded data removed]",
      "text/plain": [
       "<Figure size 864x720 with 1 Axes>"
      ]
     },
     "metadata": {
      "needs_background": "light"
     },
     "output_type": "display_data"
    }
   ],
   "source": [
    "plt.figure(figsize=(12,10))\n",
    "sns.barplot(y=scores.index, x=scores['scores'])\n",
    "plt.xlabel('Score')\n",
    "plt.title('Classifier score from 0-1');"
   ]
  },
  {
   "cell_type": "code",
   "execution_count": 22,
   "id": "5d89f134",
   "metadata": {},
   "outputs": [],
   "source": [
    "from utils import Utils"
   ]
  },
  {
   "cell_type": "code",
   "execution_count": 23,
   "id": "e2e20ca2",
   "metadata": {},
   "outputs": [],
   "source": [
    "classifiers = Utils().test_classifiers(X_scaled, y)"
   ]
  },
  {
   "cell_type": "code",
   "execution_count": 24,
   "id": "e58a7835",
   "metadata": {},
   "outputs": [
    {
     "data": {
      "text/html": [
       "<div>\n",
       "<style scoped>\n",
       "    .dataframe tbody tr th:only-of-type {\n",
       "        vertical-align: middle;\n",
       "    }\n",
       "\n",
       "    .dataframe tbody tr th {\n",
       "        vertical-align: top;\n",
       "    }\n",
       "\n",
       "    .dataframe thead th {\n",
       "        text-align: right;\n",
       "    }\n",
       "</style>\n",
       "<table border=\"1\" class=\"dataframe\">\n",
       "  <thead>\n",
       "    <tr style=\"text-align: right;\">\n",
       "      <th></th>\n",
       "      <th>scores</th>\n",
       "    </tr>\n",
       "  </thead>\n",
       "  <tbody>\n",
       "    <tr>\n",
       "      <th>KNeighbors</th>\n",
       "      <td>0.680473</td>\n",
       "    </tr>\n",
       "    <tr>\n",
       "      <th>Support Vector</th>\n",
       "      <td>0.686391</td>\n",
       "    </tr>\n",
       "    <tr>\n",
       "      <th>Decision Tree</th>\n",
       "      <td>0.769231</td>\n",
       "    </tr>\n",
       "    <tr>\n",
       "      <th>Random Forest</th>\n",
       "      <td>0.816568</td>\n",
       "    </tr>\n",
       "    <tr>\n",
       "      <th>Ada Boost</th>\n",
       "      <td>0.751479</td>\n",
       "    </tr>\n",
       "    <tr>\n",
       "      <th>Gradient Boost</th>\n",
       "      <td>0.781065</td>\n",
       "    </tr>\n",
       "  </tbody>\n",
       "</table>\n",
       "</div>"
      ],
      "text/plain": [
       "                  scores\n",
       "KNeighbors      0.680473\n",
       "Support Vector  0.686391\n",
       "Decision Tree   0.769231\n",
       "Random Forest   0.816568\n",
       "Ada Boost       0.751479\n",
       "Gradient Boost  0.781065"
      ]
     },
     "execution_count": 24,
     "metadata": {},
     "output_type": "execute_result"
    }
   ],
   "source": [
    "classifiers"
   ]
  },
  {
   "cell_type": "markdown",
   "id": "fcf6a215",
   "metadata": {},
   "source": [
    "> Let's experiment more with RandomForestClassifier to see if we can improve results"
   ]
  },
  {
   "cell_type": "markdown",
   "id": "bef0437b",
   "metadata": {},
   "source": [
    "# Random Forest Classifier"
   ]
  },
  {
   "cell_type": "markdown",
   "id": "7af199f2",
   "metadata": {},
   "source": [
    "### use HalvingGridSearchCV to find optimal parameters"
   ]
  },
  {
   "cell_type": "code",
   "execution_count": 25,
   "id": "8890987f",
   "metadata": {},
   "outputs": [],
   "source": [
    "clf_test = RandomForestClassifier(random_state=42)\n"
   ]
  },
  {
   "cell_type": "code",
   "execution_count": 26,
   "id": "44acc2c0",
   "metadata": {},
   "outputs": [],
   "source": [
    "param_distributions = {\"max_depth\": [None, 5, 10, 20, 40],\n",
    "                      'max_features': ['auto', 'sqrt', 'log2'],\n",
    "                      'criterion':['gini', 'entropy']}"
   ]
  },
  {
   "cell_type": "code",
   "execution_count": 27,
   "id": "c91d003c",
   "metadata": {},
   "outputs": [],
   "source": [
    "hrs_cv = HalvingGridSearchCV(estimator=clf_test, param_grid=param_distributions, random_state=42).fit(X_test, y_test)"
   ]
  },
  {
   "cell_type": "code",
   "execution_count": 28,
   "id": "9ff8c440",
   "metadata": {},
   "outputs": [
    {
     "data": {
      "text/plain": [
       "{'criterion': 'entropy', 'max_depth': 10, 'max_features': 'sqrt'}"
      ]
     },
     "execution_count": 28,
     "metadata": {},
     "output_type": "execute_result"
    }
   ],
   "source": [
    "hrs_cv.best_params_"
   ]
  },
  {
   "cell_type": "code",
   "execution_count": 29,
   "id": "0d1cc28a",
   "metadata": {},
   "outputs": [],
   "source": [
    "max_features=hrs_cv.best_params_['max_features']\n",
    "max_depth=hrs_cv.best_params_['max_depth']\n",
    "criterion=hrs_cv.best_params_['criterion']"
   ]
  },
  {
   "cell_type": "code",
   "execution_count": 30,
   "id": "1d1beb67",
   "metadata": {},
   "outputs": [],
   "source": [
    "clf = RandomForestClassifier(random_state=42, max_features=max_features,\n",
    "                            max_depth=max_depth, criterion=criterion).fit(X_train, y_train)"
   ]
  },
  {
   "cell_type": "code",
   "execution_count": 31,
   "id": "5c0ae368",
   "metadata": {},
   "outputs": [
    {
     "data": {
      "text/plain": [
       "0.7964601769911505"
      ]
     },
     "execution_count": 31,
     "metadata": {},
     "output_type": "execute_result"
    }
   ],
   "source": [
    "clf.score(X_test, y_test)"
   ]
  },
  {
   "cell_type": "markdown",
   "id": "592d3e14",
   "metadata": {},
   "source": [
    "> fine-tuning parameters provided little difference in the score.\n",
    "> attempt fine-tuning Gradient-Boosting to see if score can be improved"
   ]
  },
  {
   "cell_type": "markdown",
   "id": "db1ae39d",
   "metadata": {},
   "source": [
    "# Gradient Boosting"
   ]
  },
  {
   "cell_type": "markdown",
   "id": "1b027667",
   "metadata": {},
   "source": [
    "> base score of GradientBoostingClassifier was 0.772727"
   ]
  },
  {
   "cell_type": "code",
   "execution_count": 32,
   "id": "9afee0ae",
   "metadata": {},
   "outputs": [],
   "source": [
    "gb_test = GradientBoostingClassifier(random_state=42)"
   ]
  },
  {
   "cell_type": "code",
   "execution_count": 33,
   "id": "f9462afd",
   "metadata": {},
   "outputs": [],
   "source": [
    "param_grid = {'loss': ['deviance', 'exponential'],\n",
    "             'learning_rate': [0.05, 0.1, 0.2, 0.4, 0.6],\n",
    "              'criterion': ['friedman_mse', 'squared_error'],\n",
    "              'max_features': ['auto', 'sqrt', 'log2', 0.13]}\n",
    "              "
   ]
  },
  {
   "cell_type": "code",
   "execution_count": 34,
   "id": "734e2ba7",
   "metadata": {},
   "outputs": [],
   "source": [
    "hrs_gb = HalvingGridSearchCV(estimator=gb_test, param_grid=param_grid, random_state=42).fit(X_test, y_test)"
   ]
  },
  {
   "cell_type": "code",
   "execution_count": 35,
   "id": "d10af981",
   "metadata": {},
   "outputs": [],
   "source": [
    "max_features=hrs_gb.best_params_['max_features']\n",
    "loss=hrs_gb.best_params_['loss']\n",
    "criterion=hrs_gb.best_params_['criterion']\n",
    "learning_rate=hrs_gb.best_params_['learning_rate']"
   ]
  },
  {
   "cell_type": "code",
   "execution_count": 36,
   "id": "7fd7b5bc",
   "metadata": {},
   "outputs": [],
   "source": [
    "gb = GradientBoostingClassifier(random_state=42, max_features=max_features, loss=loss, \n",
    "                                criterion=criterion, learning_rate=learning_rate).fit(X_train, y_train)"
   ]
  },
  {
   "cell_type": "code",
   "execution_count": 37,
   "id": "d790f20e",
   "metadata": {},
   "outputs": [
    {
     "data": {
      "text/plain": [
       "0.7699115044247787"
      ]
     },
     "execution_count": 37,
     "metadata": {},
     "output_type": "execute_result"
    }
   ],
   "source": [
    "gb.score(X_test, y_test)"
   ]
  },
  {
   "cell_type": "markdown",
   "id": "d1a14769",
   "metadata": {},
   "source": [
    "# Analyse effectiveness of models"
   ]
  },
  {
   "cell_type": "markdown",
   "id": "c8cc5fb0",
   "metadata": {},
   "source": [
    "### check distribution of target"
   ]
  },
  {
   "cell_type": "code",
   "execution_count": 38,
   "id": "425ef5bd",
   "metadata": {
    "scrolled": false
   },
   "outputs": [
    {
     "data": {
      "image/png": "[encoded data removed]",
      "text/plain": [
       "<Figure size 1008x720 with 1 Axes>"
      ]
     },
     "metadata": {
      "needs_background": "light"
     },
     "output_type": "display_data"
    }
   ],
   "source": [
    "plt.figure(figsize=(14,10))\n",
    "sns.histplot(y)\n",
    "plt.xticks(ticks=[0.05, 0.95], labels=['Down', 'Up'])\n",
    "plt.xlabel('')\n",
    "plt.title('Counts of whether price went up or down',\n",
    "         fontsize=16);"
   ]
  },
  {
   "cell_type": "code",
   "execution_count": 39,
   "id": "a729af0e",
   "metadata": {},
   "outputs": [],
   "source": [
    "y_test_pred = clf.predict(X_test)"
   ]
  },
  {
   "cell_type": "code",
   "execution_count": 40,
   "id": "38d5a05a",
   "metadata": {},
   "outputs": [],
   "source": [
    "y_train_pred = clf.predict(X_train)"
   ]
  },
  {
   "cell_type": "code",
   "execution_count": 41,
   "id": "e1470c11",
   "metadata": {},
   "outputs": [],
   "source": [
    "y_total_pred = clf.predict(X_scaled)"
   ]
  },
  {
   "cell_type": "markdown",
   "id": "3f90ed8b",
   "metadata": {},
   "source": [
    "### classification report for training set"
   ]
  },
  {
   "cell_type": "code",
   "execution_count": 42,
   "id": "3bf81972",
   "metadata": {},
   "outputs": [
    {
     "name": "stdout",
     "output_type": "stream",
     "text": [
      "              precision    recall  f1-score   support\n",
      "\n",
      "           0       1.00      1.00      1.00       213\n",
      "           1       1.00      1.00      1.00       235\n",
      "\n",
      "    accuracy                           1.00       448\n",
      "   macro avg       1.00      1.00      1.00       448\n",
      "weighted avg       1.00      1.00      1.00       448\n",
      "\n"
     ]
    }
   ],
   "source": [
    "print(classification_report(y_train, y_train_pred))"
   ]
  },
  {
   "cell_type": "markdown",
   "id": "e3c86501",
   "metadata": {},
   "source": [
    "### classification report for entire set"
   ]
  },
  {
   "cell_type": "code",
   "execution_count": 43,
   "id": "00d079df",
   "metadata": {},
   "outputs": [
    {
     "name": "stdout",
     "output_type": "stream",
     "text": [
      "              precision    recall  f1-score   support\n",
      "\n",
      "           0       0.95      0.96      0.96       258\n",
      "           1       0.97      0.96      0.96       303\n",
      "\n",
      "    accuracy                           0.96       561\n",
      "   macro avg       0.96      0.96      0.96       561\n",
      "weighted avg       0.96      0.96      0.96       561\n",
      "\n"
     ]
    }
   ],
   "source": [
    "print(classification_report(y, y_total_pred))"
   ]
  },
  {
   "cell_type": "markdown",
   "id": "8ac73ca0",
   "metadata": {},
   "source": [
    "### classification report for test set"
   ]
  },
  {
   "cell_type": "code",
   "execution_count": 44,
   "id": "5f9d5d48",
   "metadata": {},
   "outputs": [
    {
     "name": "stdout",
     "output_type": "stream",
     "text": [
      "              precision    recall  f1-score   support\n",
      "\n",
      "           0       0.73      0.78      0.75        45\n",
      "           1       0.85      0.81      0.83        68\n",
      "\n",
      "    accuracy                           0.80       113\n",
      "   macro avg       0.79      0.79      0.79       113\n",
      "weighted avg       0.80      0.80      0.80       113\n",
      "\n"
     ]
    }
   ],
   "source": [
    "print(classification_report(y_test, y_test_pred))"
   ]
  },
  {
   "cell_type": "markdown",
   "id": "65fb6144",
   "metadata": {},
   "source": [
    "> The recall and precision balance is useful for me, personally, as it leans towards being riskier"
   ]
  },
  {
   "cell_type": "markdown",
   "id": "ad551153",
   "metadata": {},
   "source": [
    "# Add features and test performance"
   ]
  },
  {
   "cell_type": "markdown",
   "id": "c9e459e7",
   "metadata": {},
   "source": [
    "# Remove features and test performance"
   ]
  },
  {
   "cell_type": "markdown",
   "id": "646408d4",
   "metadata": {},
   "source": [
    "### write function to remove features until the best score is found"
   ]
  },
  {
   "cell_type": "code",
   "execution_count": 45,
   "id": "427d3655",
   "metadata": {},
   "outputs": [],
   "source": [
    "def remove_features(X, y, features):\n",
    "    scores = list()\n",
    "    while len(X.columns) > 1:\n",
    "        scaler = RobustScaler().fit(X)\n",
    "        X_scaled = scaler.transform(X)\n",
    "        X_train, X_test, y_train, y_test = train_test_split(X_scaled, y, test_size=0.2, random_state=42)\n",
    "        clf = RandomForestClassifier(random_state=42, max_features='sqrt',\n",
    "                            max_depth=40, criterion='entropy').fit(X_train, y_train)\n",
    "        scores.append([len(X.columns), clf.score(X_test, y_test)])\n",
    "        X = X.drop(columns=features.iloc[-1])\n",
    "        features = features.iloc[:-1]\n",
    "    scores = np.array(scores)\n",
    "    idx = scores[:, 1].argmax()\n",
    "    return scores"
   ]
  },
  {
   "cell_type": "code",
   "execution_count": 46,
   "id": "502175fe",
   "metadata": {},
   "outputs": [],
   "source": [
    "best_features = remove_features(X, y, features)"
   ]
  },
  {
   "cell_type": "code",
   "execution_count": 47,
   "id": "4df4f118",
   "metadata": {},
   "outputs": [],
   "source": [
    "idx = best_features[:, 1].argmax()"
   ]
  },
  {
   "cell_type": "code",
   "execution_count": 48,
   "id": "55a8d476",
   "metadata": {},
   "outputs": [],
   "source": [
    "f = list(features[:idx])"
   ]
  },
  {
   "cell_type": "code",
   "execution_count": 49,
   "id": "87492cd1",
   "metadata": {},
   "outputs": [],
   "source": [
    "X = X[f]"
   ]
  },
  {
   "cell_type": "code",
   "execution_count": 50,
   "id": "c053ac4b",
   "metadata": {},
   "outputs": [],
   "source": [
    "scaler = RobustScaler().fit(X)\n",
    "X_scaled = scaler.transform(X)\n",
    "X_train, X_test, y_train, y_test = train_test_split(X_scaled, y, test_size=0.2, random_state=42)\n",
    "clf = RandomForestClassifier(random_state=42, max_features='sqrt',\n",
    "                             max_depth=40, criterion='entropy').fit(X_train, y_train)"
   ]
  },
  {
   "cell_type": "code",
   "execution_count": 51,
   "id": "43960401",
   "metadata": {},
   "outputs": [],
   "source": [
    "pred = clf.predict(X_test)"
   ]
  },
  {
   "cell_type": "code",
   "execution_count": 52,
   "id": "0cb76d5e",
   "metadata": {},
   "outputs": [
    {
     "data": {
      "image/png": "[encoded data removed]",
      "text/plain": [
       "<Figure size 1008x720 with 1 Axes>"
      ]
     },
     "metadata": {
      "needs_background": "light"
     },
     "output_type": "display_data"
    }
   ],
   "source": [
    "plt.figure(figsize=(14,10))\n",
    "sns.histplot(pred, label='Predicted Price')\n",
    "sns.histplot(y_test, color='r', alpha=0.2, label='Price')\n",
    "plt.xticks(ticks=[0.05, 0.95], labels=['Down', 'Up'])\n",
    "plt.xlabel('')\n",
    "plt.title('Counts of whether price went up or down',\n",
    "         fontsize=16);\n",
    "plt.legend();"
   ]
  },
  {
   "cell_type": "markdown",
   "id": "e0393586",
   "metadata": {},
   "source": [
    "> We can see that our model has a tendency to over-choose 0 (price will go down)"
   ]
  }
 ],
 "metadata": {
  "kernelspec": {
   "display_name": "Python 3 (ipykernel)",
   "language": "python",
   "name": "python3"
  },
  "language_info": {
   "codemirror_mode": {
    "name": "ipython",
    "version": 3
   },
   "file_extension": ".py",
   "mimetype": "text/x-python",
   "name": "python",
   "nbconvert_exporter": "python",
   "pygments_lexer": "ipython3",
   "version": "3.8.12"
  },
  "toc": {
   "base_numbering": 1,
   "nav_menu": {},
   "number_sections": false,
   "sideBar": true,
   "skip_h1_title": false,
   "title_cell": "Table of Contents",
   "title_sidebar": "Contents",
   "toc_cell": false,
   "toc_position": {},
   "toc_section_display": true,
   "toc_window_display": true
  }
 },
 "nbformat": 4,
 "nbformat_minor": 5
}
