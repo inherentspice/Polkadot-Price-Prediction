{
 "cells": [
  {
   "cell_type": "markdown",
   "id": "5da1bda6",
   "metadata": {},
   "source": [
    "# Creating features and target"
   ]
  },
  {
   "cell_type": "markdown",
   "id": "02e41b5a",
   "metadata": {},
   "source": [
    "## import packages and DataFrame"
   ]
  },
  {
   "cell_type": "code",
   "execution_count": 28,
   "id": "689aa765",
   "metadata": {},
   "outputs": [],
   "source": [
    "from features import Dataframe\n",
    "import pandas as pd\n",
    "import seaborn as sns\n",
    "import matplotlib.pyplot as plt\n",
    "import numpy as np\n",
    "from sklearn.preprocessing import RobustScaler"
   ]
  },
  {
   "cell_type": "code",
   "execution_count": 2,
   "id": "1e64efd6",
   "metadata": {},
   "outputs": [],
   "source": [
    "polkadot = Dataframe().get_dataframe()"
   ]
  },
  {
   "cell_type": "code",
   "execution_count": 3,
   "id": "ae6a72e0",
   "metadata": {},
   "outputs": [
    {
     "data": {
      "text/html": [
       "<div>\n",
       "<style scoped>\n",
       "    .dataframe tbody tr th:only-of-type {\n",
       "        vertical-align: middle;\n",
       "    }\n",
       "\n",
       "    .dataframe tbody tr th {\n",
       "        vertical-align: top;\n",
       "    }\n",
       "\n",
       "    .dataframe thead th {\n",
       "        text-align: right;\n",
       "    }\n",
       "</style>\n",
       "<table border=\"1\" class=\"dataframe\">\n",
       "  <thead>\n",
       "    <tr style=\"text-align: right;\">\n",
       "      <th></th>\n",
       "      <th>date</th>\n",
       "      <th>current_price</th>\n",
       "      <th>current_price_sats</th>\n",
       "      <th>market_cap</th>\n",
       "      <th>reddit_post_48h</th>\n",
       "      <th>reddit_comment_48h</th>\n",
       "      <th>reddit_subscribers</th>\n",
       "      <th>reddit_active_accounts</th>\n",
       "      <th>public_interest_stats</th>\n",
       "      <th>Value</th>\n",
       "      <th>Value_classification</th>\n",
       "    </tr>\n",
       "  </thead>\n",
       "  <tbody>\n",
       "    <tr>\n",
       "      <th>0</th>\n",
       "      <td>2020-08-19</td>\n",
       "      <td>2.936665</td>\n",
       "      <td>25024.566687</td>\n",
       "      <td>0.000000e+00</td>\n",
       "      <td>0.000</td>\n",
       "      <td>0.750</td>\n",
       "      <td>193</td>\n",
       "      <td>7.200000</td>\n",
       "      <td>NaN</td>\n",
       "      <td>80</td>\n",
       "      <td>Extreme Greed</td>\n",
       "    </tr>\n",
       "    <tr>\n",
       "      <th>1</th>\n",
       "      <td>2020-08-20</td>\n",
       "      <td>2.936665</td>\n",
       "      <td>25024.566687</td>\n",
       "      <td>0.000000e+00</td>\n",
       "      <td>0.000</td>\n",
       "      <td>0.667</td>\n",
       "      <td>212</td>\n",
       "      <td>5.500000</td>\n",
       "      <td>NaN</td>\n",
       "      <td>75</td>\n",
       "      <td>Greed</td>\n",
       "    </tr>\n",
       "    <tr>\n",
       "      <th>2</th>\n",
       "      <td>2020-08-21</td>\n",
       "      <td>2.898791</td>\n",
       "      <td>24435.409268</td>\n",
       "      <td>0.000000e+00</td>\n",
       "      <td>0.000</td>\n",
       "      <td>1.727</td>\n",
       "      <td>237</td>\n",
       "      <td>6.333333</td>\n",
       "      <td>NaN</td>\n",
       "      <td>81</td>\n",
       "      <td>Extreme Greed</td>\n",
       "    </tr>\n",
       "    <tr>\n",
       "      <th>3</th>\n",
       "      <td>2020-08-22</td>\n",
       "      <td>2.871923</td>\n",
       "      <td>24934.417517</td>\n",
       "      <td>0.000000e+00</td>\n",
       "      <td>0.417</td>\n",
       "      <td>2.750</td>\n",
       "      <td>269</td>\n",
       "      <td>8.538462</td>\n",
       "      <td>NaN</td>\n",
       "      <td>78</td>\n",
       "      <td>Extreme Greed</td>\n",
       "    </tr>\n",
       "    <tr>\n",
       "      <th>4</th>\n",
       "      <td>2020-08-23</td>\n",
       "      <td>4.481389</td>\n",
       "      <td>38367.856477</td>\n",
       "      <td>4.028277e+09</td>\n",
       "      <td>1.091</td>\n",
       "      <td>5.364</td>\n",
       "      <td>313</td>\n",
       "      <td>16.500000</td>\n",
       "      <td>NaN</td>\n",
       "      <td>76</td>\n",
       "      <td>Extreme Greed</td>\n",
       "    </tr>\n",
       "  </tbody>\n",
       "</table>\n",
       "</div>"
      ],
      "text/plain": [
       "        date  current_price  current_price_sats    market_cap  \\\n",
       "0 2020-08-19       2.936665        25024.566687  0.000000e+00   \n",
       "1 2020-08-20       2.936665        25024.566687  0.000000e+00   \n",
       "2 2020-08-21       2.898791        24435.409268  0.000000e+00   \n",
       "3 2020-08-22       2.871923        24934.417517  0.000000e+00   \n",
       "4 2020-08-23       4.481389        38367.856477  4.028277e+09   \n",
       "\n",
       "   reddit_post_48h  reddit_comment_48h  reddit_subscribers  \\\n",
       "0            0.000               0.750                 193   \n",
       "1            0.000               0.667                 212   \n",
       "2            0.000               1.727                 237   \n",
       "3            0.417               2.750                 269   \n",
       "4            1.091               5.364                 313   \n",
       "\n",
       "   reddit_active_accounts  public_interest_stats  Value Value_classification  \n",
       "0                7.200000                    NaN     80        Extreme Greed  \n",
       "1                5.500000                    NaN     75                Greed  \n",
       "2                6.333333                    NaN     81        Extreme Greed  \n",
       "3                8.538462                    NaN     78        Extreme Greed  \n",
       "4               16.500000                    NaN     76        Extreme Greed  "
      ]
     },
     "execution_count": 3,
     "metadata": {},
     "output_type": "execute_result"
    }
   ],
   "source": [
    "polkadot.head()"
   ]
  },
  {
   "cell_type": "markdown",
   "id": "8e8e1a40",
   "metadata": {},
   "source": [
    "## create target"
   ]
  },
  {
   "cell_type": "markdown",
   "id": "ca52494d",
   "metadata": {},
   "source": [
    "> create price in two days as target, then convert that into 0 (price less than the day before)\n",
    "or 1 (price more than the day before)"
   ]
  },
  {
   "cell_type": "code",
   "execution_count": 4,
   "id": "1b17afd6",
   "metadata": {},
   "outputs": [],
   "source": [
    "polkadot['predict'] = polkadot['current_price'].shift(-2)"
   ]
  },
  {
   "cell_type": "code",
   "execution_count": 5,
   "id": "bc38a1ac",
   "metadata": {},
   "outputs": [],
   "source": [
    "polkadot['predict'] = pd.Series(np.where(polkadot['predict'].values < polkadot['current_price'], 0, 1),\n",
    "          polkadot.index)"
   ]
  },
  {
   "cell_type": "markdown",
   "id": "2427b0f6",
   "metadata": {},
   "source": [
    "## create new features"
   ]
  },
  {
   "cell_type": "code",
   "execution_count": 6,
   "id": "81058e62",
   "metadata": {},
   "outputs": [],
   "source": [
    "polkadot['price_ema5'] = polkadot['current_price'].ewm(span=5, adjust=False).mean()\n",
    "polkadot['price_ema20'] = polkadot['current_price'].ewm(span=20, adjust=False).mean()\n",
    "polkadot['price_ema50'] = polkadot['current_price'].ewm(span=50, adjust=False).mean()\n",
    "\n",
    "polkadot['fear_ema5'] = polkadot['Value'].ewm(span=2, adjust=False).mean()\n",
    "polkadot['fear_ema20'] = polkadot['Value'].ewm(span=20, adjust=False).mean()\n",
    "polkadot['fear_ema50'] = polkadot['Value'].ewm(span=50, adjust=False).mean()\n",
    "\n",
    "polkadot['fear_change_2_days'] = polkadot['Value'] - polkadot['Value'].shift(2)\n",
    "polkadot['fear_change_1_week'] = polkadot['Value'] - polkadot['Value'].shift(7)\n",
    "polkadot['fear_change_2_weeks'] = polkadot['Value'] - polkadot['Value'].shift(14)\n",
    "\n",
    "polkadot['reddit_post_ema5'] = polkadot['reddit_post_48h'].ewm(span=5, adjust=False).mean()\n",
    "polkadot['reddit_post_ema20'] = polkadot['reddit_post_48h'].ewm(span=20, adjust=False).mean()\n",
    "polkadot['reddit_post_ema50'] = polkadot['reddit_post_48h'].ewm(span=50, adjust=False).mean()\n",
    "\n",
    "polkadot['reddit_change_2_days'] = polkadot['reddit_post_48h'] - polkadot['reddit_post_48h'].shift(2)\n",
    "polkadot['reddit_change_1_week'] = polkadot['reddit_post_48h'] - polkadot['reddit_post_48h'].shift(7)\n",
    "polkadot['reddit_change_2_weeks'] = polkadot['reddit_post_48h'] - polkadot['reddit_post_48h'].shift(14)\n",
    "\n",
    "polkadot['sats_ema5'] = polkadot['current_price_sats'].ewm(span=5, adjust=False).mean()\n",
    "polkadot['sats_ema20'] = polkadot['current_price_sats'].ewm(span=20, adjust=False).mean()\n",
    "polkadot['sats_ema50'] = polkadot['current_price_sats'].ewm(span=50, adjust=False).mean()\n",
    "\n",
    "polkadot['sats_change_2_days'] = polkadot['current_price_sats'] - polkadot['current_price_sats'].shift(2)\n",
    "polkadot['sats_change_1_week'] = polkadot['current_price_sats'] - polkadot['current_price_sats'].shift(7)\n",
    "polkadot['sats_change_2_weeks'] = polkadot['current_price_sats'] - polkadot['current_price_sats'].shift(14)\n",
    "\n",
    "polkadot['price_change_2_days'] = polkadot['current_price'] - polkadot['current_price'].shift(2)\n",
    "polkadot['price_change_1_week'] = polkadot['current_price'] - polkadot['current_price'].shift(7)\n",
    "polkadot['price_change_2_weeks'] = polkadot['current_price'] - polkadot['current_price'].shift(14)"
   ]
  },
  {
   "cell_type": "code",
   "execution_count": 7,
   "id": "d242ceb3",
   "metadata": {},
   "outputs": [],
   "source": [
    "polkadot.dropna(inplace=True)"
   ]
  },
  {
   "cell_type": "code",
   "execution_count": 9,
   "id": "db65dd6c",
   "metadata": {},
   "outputs": [],
   "source": [
    "df = Dataframe().get_features_targets()"
   ]
  },
  {
   "cell_type": "markdown",
   "id": "7e45a6b7",
   "metadata": {},
   "source": [
    "## use RobustScaler to scale features"
   ]
  },
  {
   "cell_type": "markdown",
   "id": "5f91aa11",
   "metadata": {},
   "source": [
    "### create features and target"
   ]
  },
  {
   "cell_type": "code",
   "execution_count": 33,
   "id": "6975029e",
   "metadata": {},
   "outputs": [],
   "source": [
    "X = np.array(df.drop(columns=['predict', 'date', 'Value_classification']))\n",
    "y = np.array(df['predict'])"
   ]
  },
  {
   "cell_type": "markdown",
   "id": "ab24066c",
   "metadata": {},
   "source": [
    "### scale X"
   ]
  },
  {
   "cell_type": "code",
   "execution_count": 34,
   "id": "0328540d",
   "metadata": {},
   "outputs": [],
   "source": [
    "scaler = RobustScaler().fit(X)\n",
    "X_scaled = scaler.transform(X)"
   ]
  }
 ],
 "metadata": {
  "kernelspec": {
   "display_name": "Python 3 (ipykernel)",
   "language": "python",
   "name": "python3"
  },
  "language_info": {
   "codemirror_mode": {
    "name": "ipython",
    "version": 3
   },
   "file_extension": ".py",
   "mimetype": "text/x-python",
   "name": "python",
   "nbconvert_exporter": "python",
   "pygments_lexer": "ipython3",
   "version": "3.8.12"
  },
  "toc": {
   "base_numbering": 1,
   "nav_menu": {},
   "number_sections": false,
   "sideBar": true,
   "skip_h1_title": false,
   "title_cell": "Table of Contents",
   "title_sidebar": "Contents",
   "toc_cell": false,
   "toc_position": {},
   "toc_section_display": true,
   "toc_window_display": true
  }
 },
 "nbformat": 4,
 "nbformat_minor": 5
}
