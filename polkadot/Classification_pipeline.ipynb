{
 "cells": [
  {
   "cell_type": "markdown",
   "id": "3669ad47",
   "metadata": {},
   "source": [
    "# import libraries and data"
   ]
  },
  {
   "cell_type": "code",
   "execution_count": 1,
   "id": "18bcda0d",
   "metadata": {},
   "outputs": [],
   "source": [
    "from features import Dataframe\n",
    "from utils import *\n",
    "from sklearn.pipeline import Pipeline\n",
    "from sklearn.feature_selection import SelectKBest, mutual_info_classif\n",
    "from sklearn.model_selection import train_test_split, cross_val_score, GridSearchCV\n",
    "from sklearn.preprocessing import RobustScaler\n",
    "from sklearn.impute import SimpleImputer\n",
    "from sklearn.ensemble import RandomForestClassifier, GradientBoostingClassifier\n",
    "import pandas as pd\n",
    "import numpy as np"
   ]
  },
  {
   "cell_type": "markdown",
   "id": "546eedf5",
   "metadata": {},
   "source": [
    "## create features and targets"
   ]
  },
  {
   "cell_type": "code",
   "execution_count": 2,
   "id": "617d864b",
   "metadata": {},
   "outputs": [],
   "source": [
    "df = Dataframe().get_features()"
   ]
  },
  {
   "cell_type": "code",
   "execution_count": 3,
   "id": "247ca7a7",
   "metadata": {},
   "outputs": [],
   "source": [
    "X = df.drop(columns=['predict', 'date', 'Value_classification'])\n",
    "y = df['predict']"
   ]
  },
  {
   "cell_type": "markdown",
   "id": "5098688b",
   "metadata": {},
   "source": [
    "## create x data that has no target"
   ]
  },
  {
   "cell_type": "code",
   "execution_count": 4,
   "id": "4cb762ba",
   "metadata": {},
   "outputs": [],
   "source": [
    "new_X = Dataframe().get_x_to_predict()"
   ]
  },
  {
   "cell_type": "code",
   "execution_count": 5,
   "id": "435e83de",
   "metadata": {},
   "outputs": [
    {
     "data": {
      "text/html": [
       "<div>\n",
       "<style scoped>\n",
       "    .dataframe tbody tr th:only-of-type {\n",
       "        vertical-align: middle;\n",
       "    }\n",
       "\n",
       "    .dataframe tbody tr th {\n",
       "        vertical-align: top;\n",
       "    }\n",
       "\n",
       "    .dataframe thead th {\n",
       "        text-align: right;\n",
       "    }\n",
       "</style>\n",
       "<table border=\"1\" class=\"dataframe\">\n",
       "  <thead>\n",
       "    <tr style=\"text-align: right;\">\n",
       "      <th></th>\n",
       "      <th>date</th>\n",
       "      <th>current_price</th>\n",
       "      <th>current_price_sats</th>\n",
       "      <th>market_cap</th>\n",
       "      <th>reddit_post_48h</th>\n",
       "      <th>reddit_comment_48h</th>\n",
       "      <th>reddit_subscribers</th>\n",
       "      <th>reddit_active_accounts</th>\n",
       "      <th>public_interest_stats</th>\n",
       "      <th>Value</th>\n",
       "      <th>...</th>\n",
       "      <th>sats_change_2_weeks</th>\n",
       "      <th>price_change_2_days</th>\n",
       "      <th>price_change_1_week</th>\n",
       "      <th>price_change_2_weeks</th>\n",
       "      <th>percent_change_2_days</th>\n",
       "      <th>percent_change_1_week</th>\n",
       "      <th>percent_change_2_weeks</th>\n",
       "      <th>percent_sats_2_days</th>\n",
       "      <th>percent_sats_1_week</th>\n",
       "      <th>percent_sats_2_weeks</th>\n",
       "    </tr>\n",
       "  </thead>\n",
       "  <tbody>\n",
       "    <tr>\n",
       "      <th>624</th>\n",
       "      <td>2022-05-05</td>\n",
       "      <td>16.292368</td>\n",
       "      <td>41043.849063</td>\n",
       "      <td>1.808681e+10</td>\n",
       "      <td>1.000</td>\n",
       "      <td>13.111</td>\n",
       "      <td>39880.0</td>\n",
       "      <td>65.300000</td>\n",
       "      <td>38454.0</td>\n",
       "      <td>27.0</td>\n",
       "      <td>...</td>\n",
       "      <td>-5075.092515</td>\n",
       "      <td>1.299615</td>\n",
       "      <td>-0.645908</td>\n",
       "      <td>-2.796100</td>\n",
       "      <td>0.086683</td>\n",
       "      <td>-0.038133</td>\n",
       "      <td>-0.146481</td>\n",
       "      <td>0.055773</td>\n",
       "      <td>-0.049306</td>\n",
       "      <td>-0.110044</td>\n",
       "    </tr>\n",
       "    <tr>\n",
       "      <th>625</th>\n",
       "      <td>2022-05-06</td>\n",
       "      <td>14.598846</td>\n",
       "      <td>39868.599811</td>\n",
       "      <td>1.613979e+10</td>\n",
       "      <td>2.500</td>\n",
       "      <td>14.500</td>\n",
       "      <td>39883.0</td>\n",
       "      <td>52.428571</td>\n",
       "      <td>38454.0</td>\n",
       "      <td>22.0</td>\n",
       "      <td>...</td>\n",
       "      <td>-5029.040150</td>\n",
       "      <td>-0.128516</td>\n",
       "      <td>-2.384108</td>\n",
       "      <td>-3.585874</td>\n",
       "      <td>-0.008726</td>\n",
       "      <td>-0.140382</td>\n",
       "      <td>-0.197192</td>\n",
       "      <td>0.022216</td>\n",
       "      <td>-0.067011</td>\n",
       "      <td>-0.112011</td>\n",
       "    </tr>\n",
       "    <tr>\n",
       "      <th>626</th>\n",
       "      <td>2022-05-07</td>\n",
       "      <td>14.355718</td>\n",
       "      <td>39757.183449</td>\n",
       "      <td>1.590217e+10</td>\n",
       "      <td>1.364</td>\n",
       "      <td>6.273</td>\n",
       "      <td>39881.0</td>\n",
       "      <td>58.583333</td>\n",
       "      <td>38454.0</td>\n",
       "      <td>23.0</td>\n",
       "      <td>...</td>\n",
       "      <td>-6299.140105</td>\n",
       "      <td>-1.936650</td>\n",
       "      <td>-1.818523</td>\n",
       "      <td>-3.962852</td>\n",
       "      <td>-0.118869</td>\n",
       "      <td>-0.112433</td>\n",
       "      <td>-0.216330</td>\n",
       "      <td>-0.031349</td>\n",
       "      <td>-0.050062</td>\n",
       "      <td>-0.136770</td>\n",
       "    </tr>\n",
       "    <tr>\n",
       "      <th>627</th>\n",
       "      <td>2022-05-08</td>\n",
       "      <td>13.800377</td>\n",
       "      <td>38810.570189</td>\n",
       "      <td>1.534235e+10</td>\n",
       "      <td>0.846</td>\n",
       "      <td>6.154</td>\n",
       "      <td>39879.0</td>\n",
       "      <td>59.857143</td>\n",
       "      <td>38454.0</td>\n",
       "      <td>18.0</td>\n",
       "      <td>...</td>\n",
       "      <td>-8614.010277</td>\n",
       "      <td>-0.798469</td>\n",
       "      <td>-0.769511</td>\n",
       "      <td>-4.940943</td>\n",
       "      <td>-0.054694</td>\n",
       "      <td>-0.052815</td>\n",
       "      <td>-0.263639</td>\n",
       "      <td>-0.026538</td>\n",
       "      <td>0.005946</td>\n",
       "      <td>-0.181636</td>\n",
       "    </tr>\n",
       "    <tr>\n",
       "      <th>628</th>\n",
       "      <td>2022-05-09</td>\n",
       "      <td>13.229361</td>\n",
       "      <td>38851.622851</td>\n",
       "      <td>1.469313e+10</td>\n",
       "      <td>0.600</td>\n",
       "      <td>5.100</td>\n",
       "      <td>39889.0</td>\n",
       "      <td>60.363636</td>\n",
       "      <td>38454.0</td>\n",
       "      <td>11.0</td>\n",
       "      <td>...</td>\n",
       "      <td>-7147.612935</td>\n",
       "      <td>-1.126357</td>\n",
       "      <td>-2.189413</td>\n",
       "      <td>-4.931293</td>\n",
       "      <td>-0.078460</td>\n",
       "      <td>-0.141997</td>\n",
       "      <td>-0.271537</td>\n",
       "      <td>-0.022777</td>\n",
       "      <td>-0.030164</td>\n",
       "      <td>-0.155385</td>\n",
       "    </tr>\n",
       "  </tbody>\n",
       "</table>\n",
       "<p>5 rows × 44 columns</p>\n",
       "</div>"
      ],
      "text/plain": [
       "          date  current_price  current_price_sats    market_cap  \\\n",
       "624 2022-05-05      16.292368        41043.849063  1.808681e+10   \n",
       "625 2022-05-06      14.598846        39868.599811  1.613979e+10   \n",
       "626 2022-05-07      14.355718        39757.183449  1.590217e+10   \n",
       "627 2022-05-08      13.800377        38810.570189  1.534235e+10   \n",
       "628 2022-05-09      13.229361        38851.622851  1.469313e+10   \n",
       "\n",
       "     reddit_post_48h  reddit_comment_48h  reddit_subscribers  \\\n",
       "624            1.000              13.111             39880.0   \n",
       "625            2.500              14.500             39883.0   \n",
       "626            1.364               6.273             39881.0   \n",
       "627            0.846               6.154             39879.0   \n",
       "628            0.600               5.100             39889.0   \n",
       "\n",
       "     reddit_active_accounts  public_interest_stats  Value  ...  \\\n",
       "624               65.300000                38454.0   27.0  ...   \n",
       "625               52.428571                38454.0   22.0  ...   \n",
       "626               58.583333                38454.0   23.0  ...   \n",
       "627               59.857143                38454.0   18.0  ...   \n",
       "628               60.363636                38454.0   11.0  ...   \n",
       "\n",
       "    sats_change_2_weeks  price_change_2_days  price_change_1_week  \\\n",
       "624        -5075.092515             1.299615            -0.645908   \n",
       "625        -5029.040150            -0.128516            -2.384108   \n",
       "626        -6299.140105            -1.936650            -1.818523   \n",
       "627        -8614.010277            -0.798469            -0.769511   \n",
       "628        -7147.612935            -1.126357            -2.189413   \n",
       "\n",
       "     price_change_2_weeks  percent_change_2_days  percent_change_1_week  \\\n",
       "624             -2.796100               0.086683              -0.038133   \n",
       "625             -3.585874              -0.008726              -0.140382   \n",
       "626             -3.962852              -0.118869              -0.112433   \n",
       "627             -4.940943              -0.054694              -0.052815   \n",
       "628             -4.931293              -0.078460              -0.141997   \n",
       "\n",
       "     percent_change_2_weeks  percent_sats_2_days  percent_sats_1_week  \\\n",
       "624               -0.146481             0.055773            -0.049306   \n",
       "625               -0.197192             0.022216            -0.067011   \n",
       "626               -0.216330            -0.031349            -0.050062   \n",
       "627               -0.263639            -0.026538             0.005946   \n",
       "628               -0.271537            -0.022777            -0.030164   \n",
       "\n",
       "     percent_sats_2_weeks  \n",
       "624             -0.110044  \n",
       "625             -0.112011  \n",
       "626             -0.136770  \n",
       "627             -0.181636  \n",
       "628             -0.155385  \n",
       "\n",
       "[5 rows x 44 columns]"
      ]
     },
     "execution_count": 5,
     "metadata": {},
     "output_type": "execute_result"
    }
   ],
   "source": [
    "new_X.head()"
   ]
  },
  {
   "cell_type": "code",
   "execution_count": 28,
   "id": "69cbfd1c",
   "metadata": {},
   "outputs": [
    {
     "data": {
      "text/plain": [
       "Index(['date', 'current_price', 'current_price_sats', 'market_cap',\n",
       "       'reddit_post_48h', 'reddit_comment_48h', 'reddit_subscribers',\n",
       "       'reddit_active_accounts', 'public_interest_stats', 'Value',\n",
       "       'Value_classification', 'new_accounts', 'active_accounts', 'fees',\n",
       "       'price_ema5', 'price_ema20', 'price_ema50', 'fear_ema5', 'fear_ema20',\n",
       "       'fear_ema50', 'fear_change_2_days', 'fear_change_1_week',\n",
       "       'fear_change_2_weeks', 'reddit_post_ema5', 'reddit_post_ema20',\n",
       "       'reddit_post_ema50', 'reddit_change_2_days', 'reddit_change_1_week',\n",
       "       'reddit_change_2_weeks', 'sats_ema5', 'sats_ema20', 'sats_ema50',\n",
       "       'sats_change_2_days', 'sats_change_1_week', 'sats_change_2_weeks',\n",
       "       'price_change_2_days', 'price_change_1_week', 'price_change_2_weeks',\n",
       "       'percent_change_2_days', 'percent_change_1_week',\n",
       "       'percent_change_2_weeks', 'percent_sats_2_days', 'percent_sats_1_week',\n",
       "       'percent_sats_2_weeks'],\n",
       "      dtype='object')"
      ]
     },
     "execution_count": 28,
     "metadata": {},
     "output_type": "execute_result"
    }
   ],
   "source": [
    "new_X.columns"
   ]
  },
  {
   "cell_type": "markdown",
   "id": "a7b965f0",
   "metadata": {},
   "source": [
    "# create Pipelines"
   ]
  },
  {
   "cell_type": "markdown",
   "id": "9836e29e",
   "metadata": {},
   "source": [
    "## determine initial value for k in SelectKBest"
   ]
  },
  {
   "cell_type": "code",
   "execution_count": 6,
   "id": "699d62ef",
   "metadata": {},
   "outputs": [],
   "source": [
    "scaling_pipeline = Pipeline([\n",
    "    ('imputer', SimpleImputer()),\n",
    "    ('scaler', RobustScaler())])"
   ]
  },
  {
   "cell_type": "code",
   "execution_count": 7,
   "id": "fa4f4e5f",
   "metadata": {},
   "outputs": [],
   "source": [
    "X_train, X_test, y_train, y_test = train_test_split(X, y, test_size=0.2, random_state=42)\n",
    "Xk_train = scaling_pipeline.fit_transform(X_train)"
   ]
  },
  {
   "cell_type": "code",
   "execution_count": 8,
   "id": "64f34394",
   "metadata": {},
   "outputs": [],
   "source": [
    "grad_k, grad_score = Utils().find_best_features_gradient(Xk_train, y_train)\n",
    "rand_k, rand_score = Utils().find_best_features_r_forest(Xk_train, y_train)"
   ]
  },
  {
   "cell_type": "code",
   "execution_count": 9,
   "id": "a93be73d",
   "metadata": {},
   "outputs": [],
   "source": [
    "initial_grad_k = grad_k[np.argmax(grad_score)]\n",
    "initial_rand_k = rand_k[np.argmax(rand_score)]"
   ]
  },
  {
   "cell_type": "code",
   "execution_count": 10,
   "id": "0898c2ae",
   "metadata": {},
   "outputs": [
    {
     "data": {
      "text/plain": [
       "'The initial value for k in the Gradient Boosting pipeline will be: 7'"
      ]
     },
     "metadata": {},
     "output_type": "display_data"
    },
    {
     "data": {
      "text/plain": [
       "'The initial value for k in the Random Forest pipeline will be: 13'"
      ]
     },
     "metadata": {},
     "output_type": "display_data"
    }
   ],
   "source": [
    "display(f\"The initial value for k in the Gradient Boosting pipeline will be: {initial_grad_k}\")\n",
    "display(f\"The initial value for k in the Random Forest pipeline will be: {initial_rand_k}\")"
   ]
  },
  {
   "cell_type": "markdown",
   "id": "31d43cce",
   "metadata": {},
   "source": [
    "## create pipeline for Gradient Boosting Classifier"
   ]
  },
  {
   "cell_type": "code",
   "execution_count": 11,
   "id": "16a913ec",
   "metadata": {},
   "outputs": [],
   "source": [
    "gradient_pipe = Pipeline([('imputer', SimpleImputer()),\n",
    "                ('scaler', RobustScaler()), \n",
    "                ('feature_select', SelectKBest(score_func=mutual_info_classif, k=7)),\n",
    "                ('clf_grad', GradientBoostingClassifier(learning_rate=0.1, loss='log_loss',\n",
    "                                                       max_depth=10, min_samples_leaf=5))])"
   ]
  },
  {
   "cell_type": "markdown",
   "id": "528eb7c8",
   "metadata": {},
   "source": [
    "## create pipeline for Random Forest Classifier"
   ]
  },
  {
   "cell_type": "code",
   "execution_count": 12,
   "id": "77ac9283",
   "metadata": {},
   "outputs": [],
   "source": [
    "random_pipe = Pipeline([('imputer', SimpleImputer(strategy='median')),\n",
    "                ('scaler', RobustScaler()), \n",
    "                ('feature_select', SelectKBest(score_func=mutual_info_classif, k=13)),\n",
    "                ('clf_rand', RandomForestClassifier(criterion='log_loss',\n",
    "                                                   max_depth=10, min_samples_split=3))])"
   ]
  },
  {
   "cell_type": "markdown",
   "id": "dbedf6ff",
   "metadata": {},
   "source": [
    "## calculate initial cross-validation scores"
   ]
  },
  {
   "cell_type": "code",
   "execution_count": 13,
   "id": "7725ece5",
   "metadata": {},
   "outputs": [],
   "source": [
    "grad_initial_score = cross_val_score(gradient_pipe, X_train, y_train, cv=5).mean()\n",
    "rand_initial_score = cross_val_score(random_pipe, X_train, y_train, cv=5).mean()"
   ]
  },
  {
   "cell_type": "code",
   "execution_count": 14,
   "id": "223c5bc0",
   "metadata": {},
   "outputs": [
    {
     "data": {
      "text/plain": [
       "'The initial score for the Gradient Boosting Pipeline is 0.8877171717171717.'"
      ]
     },
     "metadata": {},
     "output_type": "display_data"
    },
    {
     "data": {
      "text/plain": [
       "'The initial score for the Random Forest Pipeline is 0.8997575757575758.'"
      ]
     },
     "metadata": {},
     "output_type": "display_data"
    }
   ],
   "source": [
    "display(f\"The initial score for the Gradient Boosting Pipeline is {grad_initial_score}.\")\n",
    "display(f\"The initial score for the Random Forest Pipeline is {rand_initial_score}.\")"
   ]
  },
  {
   "cell_type": "markdown",
   "id": "2d962686",
   "metadata": {},
   "source": [
    "# Grid-Search to find the best parameters for each pipeline"
   ]
  },
  {
   "cell_type": "markdown",
   "id": "cb0badb5",
   "metadata": {},
   "source": [
    "## Grid-Search for Gradient Boosting Classifier"
   ]
  },
  {
   "cell_type": "code",
   "execution_count": 15,
   "id": "7218a594",
   "metadata": {},
   "outputs": [],
   "source": [
    "param_grid = {'imputer__strategy':['mean', 'median', 'most_frequent'],\n",
    "             'clf_grad__learning_rate': [0.1, 0.15, 0.2, 0.3],\n",
    "             'clf_grad__loss': ['log_loss', 'exponential'],\n",
    "             'clf_grad__max_depth': [3, 10, 20, 50, 100],\n",
    "              'clf_grad__min_samples_leaf': [1, 3, 5, 8, 10]}\n",
    "\n"
   ]
  },
  {
   "cell_type": "code",
   "execution_count": 16,
   "id": "b3c11c7d",
   "metadata": {},
   "outputs": [],
   "source": [
    "search = GridSearchCV(gradient_pipe, param_grid=param_grid, cv=5, n_jobs=-1)"
   ]
  },
  {
   "cell_type": "code",
   "execution_count": 17,
   "id": "fda93b33",
   "metadata": {},
   "outputs": [
    {
     "data": {
      "text/html": [
       "<style>#sk-container-id-1 {color: black;background-color: white;}#sk-container-id-1 pre{padding: 0;}#sk-container-id-1 div.sk-toggleable {background-color: white;}#sk-container-id-1 label.sk-toggleable__label {cursor: pointer;display: block;width: 100%;margin-bottom: 0;padding: 0.3em;box-sizing: border-box;text-align: center;}#sk-container-id-1 label.sk-toggleable__label-arrow:before {content: \"▸\";float: left;margin-right: 0.25em;color: #696969;}#sk-container-id-1 label.sk-toggleable__label-arrow:hover:before {color: black;}#sk-container-id-1 div.sk-estimator:hover label.sk-toggleable__label-arrow:before {color: black;}#sk-container-id-1 div.sk-toggleable__content {max-height: 0;max-width: 0;overflow: hidden;text-align: left;background-color: #f0f8ff;}#sk-container-id-1 div.sk-toggleable__content pre {margin: 0.2em;color: black;border-radius: 0.25em;background-color: #f0f8ff;}#sk-container-id-1 input.sk-toggleable__control:checked~div.sk-toggleable__content {max-height: 200px;max-width: 100%;overflow: auto;}#sk-container-id-1 input.sk-toggleable__control:checked~label.sk-toggleable__label-arrow:before {content: \"▾\";}#sk-container-id-1 div.sk-estimator input.sk-toggleable__control:checked~label.sk-toggleable__label {background-color: #d4ebff;}#sk-container-id-1 div.sk-label input.sk-toggleable__control:checked~label.sk-toggleable__label {background-color: #d4ebff;}#sk-container-id-1 input.sk-hidden--visually {border: 0;clip: rect(1px 1px 1px 1px);clip: rect(1px, 1px, 1px, 1px);height: 1px;margin: -1px;overflow: hidden;padding: 0;position: absolute;width: 1px;}#sk-container-id-1 div.sk-estimator {font-family: monospace;background-color: #f0f8ff;border: 1px dotted black;border-radius: 0.25em;box-sizing: border-box;margin-bottom: 0.5em;}#sk-container-id-1 div.sk-estimator:hover {background-color: #d4ebff;}#sk-container-id-1 div.sk-parallel-item::after {content: \"\";width: 100%;border-bottom: 1px solid gray;flex-grow: 1;}#sk-container-id-1 div.sk-label:hover label.sk-toggleable__label {background-color: #d4ebff;}#sk-container-id-1 div.sk-serial::before {content: \"\";position: absolute;border-left: 1px solid gray;box-sizing: border-box;top: 0;bottom: 0;left: 50%;z-index: 0;}#sk-container-id-1 div.sk-serial {display: flex;flex-direction: column;align-items: center;background-color: white;padding-right: 0.2em;padding-left: 0.2em;position: relative;}#sk-container-id-1 div.sk-item {position: relative;z-index: 1;}#sk-container-id-1 div.sk-parallel {display: flex;align-items: stretch;justify-content: center;background-color: white;position: relative;}#sk-container-id-1 div.sk-item::before, #sk-container-id-1 div.sk-parallel-item::before {content: \"\";position: absolute;border-left: 1px solid gray;box-sizing: border-box;top: 0;bottom: 0;left: 50%;z-index: -1;}#sk-container-id-1 div.sk-parallel-item {display: flex;flex-direction: column;z-index: 1;position: relative;background-color: white;}#sk-container-id-1 div.sk-parallel-item:first-child::after {align-self: flex-end;width: 50%;}#sk-container-id-1 div.sk-parallel-item:last-child::after {align-self: flex-start;width: 50%;}#sk-container-id-1 div.sk-parallel-item:only-child::after {width: 0;}#sk-container-id-1 div.sk-dashed-wrapped {border: 1px dashed gray;margin: 0 0.4em 0.5em 0.4em;box-sizing: border-box;padding-bottom: 0.4em;background-color: white;}#sk-container-id-1 div.sk-label label {font-family: monospace;font-weight: bold;display: inline-block;line-height: 1.2em;}#sk-container-id-1 div.sk-label-container {text-align: center;}#sk-container-id-1 div.sk-container {/* jupyter's `normalize.less` sets `[hidden] { display: none; }` but bootstrap.min.css set `[hidden] { display: none !important; }` so we also need the `!important` here to be able to override the default hidden behavior on the sphinx rendered scikit-learn.org. See: https://github.com/scikit-learn/scikit-learn/issues/21755 */display: inline-block !important;position: relative;}#sk-container-id-1 div.sk-text-repr-fallback {display: none;}</style><div id=\"sk-container-id-1\" class=\"sk-top-container\"><div class=\"sk-text-repr-fallback\"><pre>GridSearchCV(cv=5,\n",
       "             estimator=Pipeline(steps=[(&#x27;imputer&#x27;, SimpleImputer()),\n",
       "                                       (&#x27;scaler&#x27;, RobustScaler()),\n",
       "                                       (&#x27;feature_select&#x27;,\n",
       "                                        SelectKBest(k=7,\n",
       "                                                    score_func=&lt;function mutual_info_classif at 0x7feb482830d0&gt;)),\n",
       "                                       (&#x27;clf_grad&#x27;,\n",
       "                                        GradientBoostingClassifier(max_depth=10,\n",
       "                                                                   min_samples_leaf=5))]),\n",
       "             n_jobs=-1,\n",
       "             param_grid={&#x27;clf_grad__learning_rate&#x27;: [0.1, 0.15, 0.2, 0.3],\n",
       "                         &#x27;clf_grad__loss&#x27;: [&#x27;log_loss&#x27;, &#x27;exponential&#x27;],\n",
       "                         &#x27;clf_grad__max_depth&#x27;: [3, 10, 20, 50, 100],\n",
       "                         &#x27;clf_grad__min_samples_leaf&#x27;: [1, 3, 5, 8, 10],\n",
       "                         &#x27;imputer__strategy&#x27;: [&#x27;mean&#x27;, &#x27;median&#x27;,\n",
       "                                               &#x27;most_frequent&#x27;]})</pre><b>In a Jupyter environment, please rerun this cell to show the HTML representation or trust the notebook. <br />On GitHub, the HTML representation is unable to render, please try loading this page with nbviewer.org.</b></div><div class=\"sk-container\" hidden><div class=\"sk-item sk-dashed-wrapped\"><div class=\"sk-label-container\"><div class=\"sk-label sk-toggleable\"><input class=\"sk-toggleable__control sk-hidden--visually\" id=\"sk-estimator-id-1\" type=\"checkbox\" ><label for=\"sk-estimator-id-1\" class=\"sk-toggleable__label sk-toggleable__label-arrow\">GridSearchCV</label><div class=\"sk-toggleable__content\"><pre>GridSearchCV(cv=5,\n",
       "             estimator=Pipeline(steps=[(&#x27;imputer&#x27;, SimpleImputer()),\n",
       "                                       (&#x27;scaler&#x27;, RobustScaler()),\n",
       "                                       (&#x27;feature_select&#x27;,\n",
       "                                        SelectKBest(k=7,\n",
       "                                                    score_func=&lt;function mutual_info_classif at 0x7feb482830d0&gt;)),\n",
       "                                       (&#x27;clf_grad&#x27;,\n",
       "                                        GradientBoostingClassifier(max_depth=10,\n",
       "                                                                   min_samples_leaf=5))]),\n",
       "             n_jobs=-1,\n",
       "             param_grid={&#x27;clf_grad__learning_rate&#x27;: [0.1, 0.15, 0.2, 0.3],\n",
       "                         &#x27;clf_grad__loss&#x27;: [&#x27;log_loss&#x27;, &#x27;exponential&#x27;],\n",
       "                         &#x27;clf_grad__max_depth&#x27;: [3, 10, 20, 50, 100],\n",
       "                         &#x27;clf_grad__min_samples_leaf&#x27;: [1, 3, 5, 8, 10],\n",
       "                         &#x27;imputer__strategy&#x27;: [&#x27;mean&#x27;, &#x27;median&#x27;,\n",
       "                                               &#x27;most_frequent&#x27;]})</pre></div></div></div><div class=\"sk-parallel\"><div class=\"sk-parallel-item\"><div class=\"sk-item\"><div class=\"sk-label-container\"><div class=\"sk-label sk-toggleable\"><input class=\"sk-toggleable__control sk-hidden--visually\" id=\"sk-estimator-id-2\" type=\"checkbox\" ><label for=\"sk-estimator-id-2\" class=\"sk-toggleable__label sk-toggleable__label-arrow\">estimator: Pipeline</label><div class=\"sk-toggleable__content\"><pre>Pipeline(steps=[(&#x27;imputer&#x27;, SimpleImputer()), (&#x27;scaler&#x27;, RobustScaler()),\n",
       "                (&#x27;feature_select&#x27;,\n",
       "                 SelectKBest(k=7,\n",
       "                             score_func=&lt;function mutual_info_classif at 0x7feb482830d0&gt;)),\n",
       "                (&#x27;clf_grad&#x27;,\n",
       "                 GradientBoostingClassifier(max_depth=10, min_samples_leaf=5))])</pre></div></div></div><div class=\"sk-serial\"><div class=\"sk-item\"><div class=\"sk-serial\"><div class=\"sk-item\"><div class=\"sk-estimator sk-toggleable\"><input class=\"sk-toggleable__control sk-hidden--visually\" id=\"sk-estimator-id-3\" type=\"checkbox\" ><label for=\"sk-estimator-id-3\" class=\"sk-toggleable__label sk-toggleable__label-arrow\">SimpleImputer</label><div class=\"sk-toggleable__content\"><pre>SimpleImputer()</pre></div></div></div><div class=\"sk-item\"><div class=\"sk-estimator sk-toggleable\"><input class=\"sk-toggleable__control sk-hidden--visually\" id=\"sk-estimator-id-4\" type=\"checkbox\" ><label for=\"sk-estimator-id-4\" class=\"sk-toggleable__label sk-toggleable__label-arrow\">RobustScaler</label><div class=\"sk-toggleable__content\"><pre>RobustScaler()</pre></div></div></div><div class=\"sk-item\"><div class=\"sk-estimator sk-toggleable\"><input class=\"sk-toggleable__control sk-hidden--visually\" id=\"sk-estimator-id-5\" type=\"checkbox\" ><label for=\"sk-estimator-id-5\" class=\"sk-toggleable__label sk-toggleable__label-arrow\">SelectKBest</label><div class=\"sk-toggleable__content\"><pre>SelectKBest(k=7, score_func=&lt;function mutual_info_classif at 0x7feb482830d0&gt;)</pre></div></div></div><div class=\"sk-item\"><div class=\"sk-estimator sk-toggleable\"><input class=\"sk-toggleable__control sk-hidden--visually\" id=\"sk-estimator-id-6\" type=\"checkbox\" ><label for=\"sk-estimator-id-6\" class=\"sk-toggleable__label sk-toggleable__label-arrow\">GradientBoostingClassifier</label><div class=\"sk-toggleable__content\"><pre>GradientBoostingClassifier(max_depth=10, min_samples_leaf=5)</pre></div></div></div></div></div></div></div></div></div></div></div></div>"
      ],
      "text/plain": [
       "GridSearchCV(cv=5,\n",
       "             estimator=Pipeline(steps=[('imputer', SimpleImputer()),\n",
       "                                       ('scaler', RobustScaler()),\n",
       "                                       ('feature_select',\n",
       "                                        SelectKBest(k=7,\n",
       "                                                    score_func=<function mutual_info_classif at 0x7feb482830d0>)),\n",
       "                                       ('clf_grad',\n",
       "                                        GradientBoostingClassifier(max_depth=10,\n",
       "                                                                   min_samples_leaf=5))]),\n",
       "             n_jobs=-1,\n",
       "             param_grid={'clf_grad__learning_rate': [0.1, 0.15, 0.2, 0.3],\n",
       "                         'clf_grad__loss': ['log_loss', 'exponential'],\n",
       "                         'clf_grad__max_depth': [3, 10, 20, 50, 100],\n",
       "                         'clf_grad__min_samples_leaf': [1, 3, 5, 8, 10],\n",
       "                         'imputer__strategy': ['mean', 'median',\n",
       "                                               'most_frequent']})"
      ]
     },
     "execution_count": 17,
     "metadata": {},
     "output_type": "execute_result"
    }
   ],
   "source": [
    "search.fit(X_train, y_train)"
   ]
  },
  {
   "cell_type": "code",
   "execution_count": 18,
   "id": "e626bf26",
   "metadata": {},
   "outputs": [
    {
     "data": {
      "text/plain": [
       "{'clf_grad__learning_rate': 0.15,\n",
       " 'clf_grad__loss': 'log_loss',\n",
       " 'clf_grad__max_depth': 10,\n",
       " 'clf_grad__min_samples_leaf': 3,\n",
       " 'imputer__strategy': 'mean'}"
      ]
     },
     "execution_count": 18,
     "metadata": {},
     "output_type": "execute_result"
    }
   ],
   "source": [
    "search.best_params_"
   ]
  },
  {
   "cell_type": "code",
   "execution_count": 19,
   "id": "9f49f04c",
   "metadata": {},
   "outputs": [
    {
     "data": {
      "text/plain": [
       "0.9057777777777778"
      ]
     },
     "execution_count": 19,
     "metadata": {},
     "output_type": "execute_result"
    }
   ],
   "source": [
    "search.best_score_"
   ]
  },
  {
   "cell_type": "markdown",
   "id": "f6f21b76",
   "metadata": {},
   "source": [
    "At this stage, the best parameters for the Gradient Boosting Classifier are:\n",
    "\n",
    "> 'learning_rate': 0.15,\n",
    "\n",
    "> 'loss': 'log_loss',\n",
    " \n",
    "> 'max_depth': 20,\n",
    " \n",
    "> 'min_samples_leaf': 5\n",
    "\n",
    "> 'strategy': 'median'\n",
    "\n",
    "The best score is:\n",
    "> 0.9017979797979798\n"
   ]
  },
  {
   "cell_type": "markdown",
   "id": "f7245f5d",
   "metadata": {},
   "source": [
    "## Grid-Search for Random Forest Classifier"
   ]
  },
  {
   "cell_type": "code",
   "execution_count": 20,
   "id": "380b39db",
   "metadata": {},
   "outputs": [],
   "source": [
    "param_grid_rand = {'imputer__strategy':['mean', 'median', 'most_frequent'],\n",
    "             'clf_rand__criterion': ['gini', 'entropy', 'log_loss'],\n",
    "             'clf_rand__max_depth': [3, 10, 20, 50, 100],\n",
    "              'clf_rand__min_samples_split': [1, 3, 5, 8, 10]}"
   ]
  },
  {
   "cell_type": "code",
   "execution_count": 21,
   "id": "514b038c",
   "metadata": {},
   "outputs": [],
   "source": [
    "search_rand = GridSearchCV(random_pipe, param_grid=param_grid_rand, cv=5, n_jobs=-1)"
   ]
  },
  {
   "cell_type": "code",
   "execution_count": 22,
   "id": "3b562d81",
   "metadata": {},
   "outputs": [
    {
     "name": "stderr",
     "output_type": "stream",
     "text": [
      "/home/inherentspice/.pyenv/versions/3.8.12/envs/lewagon/lib/python3.8/site-packages/sklearn/model_selection/_validation.py:378: FitFailedWarning: \n",
      "225 fits failed out of a total of 1125.\n",
      "The score on these train-test partitions for these parameters will be set to nan.\n",
      "If these failures are not expected, you can try to debug them by setting error_score='raise'.\n",
      "\n",
      "Below are more details about the failures:\n",
      "--------------------------------------------------------------------------------\n",
      "225 fits failed with the following error:\n",
      "Traceback (most recent call last):\n",
      "  File \"/home/inherentspice/.pyenv/versions/3.8.12/envs/lewagon/lib/python3.8/site-packages/sklearn/model_selection/_validation.py\", line 686, in _fit_and_score\n",
      "    estimator.fit(X_train, y_train, **fit_params)\n",
      "  File \"/home/inherentspice/.pyenv/versions/3.8.12/envs/lewagon/lib/python3.8/site-packages/sklearn/pipeline.py\", line 382, in fit\n",
      "    self._final_estimator.fit(Xt, y, **fit_params_last_step)\n",
      "  File \"/home/inherentspice/.pyenv/versions/3.8.12/envs/lewagon/lib/python3.8/site-packages/sklearn/ensemble/_forest.py\", line 476, in fit\n",
      "    trees = Parallel(\n",
      "  File \"/home/inherentspice/.pyenv/versions/3.8.12/envs/lewagon/lib/python3.8/site-packages/joblib/parallel.py\", line 1041, in __call__\n",
      "    if self.dispatch_one_batch(iterator):\n",
      "  File \"/home/inherentspice/.pyenv/versions/3.8.12/envs/lewagon/lib/python3.8/site-packages/joblib/parallel.py\", line 859, in dispatch_one_batch\n",
      "    self._dispatch(tasks)\n",
      "  File \"/home/inherentspice/.pyenv/versions/3.8.12/envs/lewagon/lib/python3.8/site-packages/joblib/parallel.py\", line 777, in _dispatch\n",
      "    job = self._backend.apply_async(batch, callback=cb)\n",
      "  File \"/home/inherentspice/.pyenv/versions/3.8.12/envs/lewagon/lib/python3.8/site-packages/joblib/_parallel_backends.py\", line 208, in apply_async\n",
      "    result = ImmediateResult(func)\n",
      "  File \"/home/inherentspice/.pyenv/versions/3.8.12/envs/lewagon/lib/python3.8/site-packages/joblib/_parallel_backends.py\", line 572, in __init__\n",
      "    self.results = batch()\n",
      "  File \"/home/inherentspice/.pyenv/versions/3.8.12/envs/lewagon/lib/python3.8/site-packages/joblib/parallel.py\", line 262, in __call__\n",
      "    return [func(*args, **kwargs)\n",
      "  File \"/home/inherentspice/.pyenv/versions/3.8.12/envs/lewagon/lib/python3.8/site-packages/joblib/parallel.py\", line 262, in <listcomp>\n",
      "    return [func(*args, **kwargs)\n",
      "  File \"/home/inherentspice/.pyenv/versions/3.8.12/envs/lewagon/lib/python3.8/site-packages/sklearn/utils/fixes.py\", line 117, in __call__\n",
      "    return self.function(*args, **kwargs)\n",
      "  File \"/home/inherentspice/.pyenv/versions/3.8.12/envs/lewagon/lib/python3.8/site-packages/sklearn/ensemble/_forest.py\", line 189, in _parallel_build_trees\n",
      "    tree.fit(X, y, sample_weight=curr_sample_weight, check_input=False)\n",
      "  File \"/home/inherentspice/.pyenv/versions/3.8.12/envs/lewagon/lib/python3.8/site-packages/sklearn/tree/_classes.py\", line 969, in fit\n",
      "    super().fit(\n",
      "  File \"/home/inherentspice/.pyenv/versions/3.8.12/envs/lewagon/lib/python3.8/site-packages/sklearn/tree/_classes.py\", line 265, in fit\n",
      "    check_scalar(\n",
      "  File \"/home/inherentspice/.pyenv/versions/3.8.12/envs/lewagon/lib/python3.8/site-packages/sklearn/utils/validation.py\", line 1476, in check_scalar\n",
      "    raise ValueError(\n",
      "ValueError: min_samples_split == 1, must be >= 2.\n",
      "\n",
      "  warnings.warn(some_fits_failed_message, FitFailedWarning)\n",
      "/home/inherentspice/.pyenv/versions/3.8.12/envs/lewagon/lib/python3.8/site-packages/sklearn/model_selection/_search.py:953: UserWarning: One or more of the test scores are non-finite: [       nan        nan        nan 0.79163636 0.76961616 0.77963636\n",
      " 0.76761616 0.76365657 0.76961616 0.79163636 0.78363636 0.76959596\n",
      " 0.79761616 0.78163636 0.78763636        nan        nan        nan\n",
      " 0.90175758 0.90375758 0.90175758 0.90375758 0.89977778 0.90975758\n",
      " 0.90573737 0.90775758 0.90775758 0.89775758 0.90175758 0.90377778\n",
      "        nan        nan        nan 0.89575758 0.89975758 0.90175758\n",
      " 0.90977778 0.90175758 0.90975758 0.90777778 0.90377778 0.90375758\n",
      " 0.90375758 0.90573737 0.89575758        nan        nan        nan\n",
      " 0.90175758 0.90977778 0.89775758 0.90175758 0.90175758 0.89975758\n",
      " 0.90175758 0.89975758 0.90575758 0.89575758 0.90173737 0.90575758\n",
      "        nan        nan        nan 0.89773737 0.90177778 0.89775758\n",
      " 0.90575758 0.90575758 0.90375758 0.89575758 0.90375758 0.91175758\n",
      " 0.90375758 0.90173737 0.89575758        nan        nan        nan\n",
      " 0.78363636 0.75363636 0.76361616 0.74763636 0.76555556 0.76357576\n",
      " 0.75961616 0.74961616 0.76561616 0.77559596 0.74559596 0.75159596\n",
      "        nan        nan        nan 0.90975758 0.90375758 0.89977778\n",
      " 0.90375758 0.90575758 0.90573737 0.90573737 0.90375758 0.89373737\n",
      " 0.90375758 0.89973737 0.89973737        nan        nan        nan\n",
      " 0.90575758 0.90575758 0.90177778 0.90973737 0.90575758 0.90775758\n",
      " 0.90575758 0.90775758 0.90375758 0.89775758 0.91175758 0.90775758\n",
      "        nan        nan        nan 0.90175758 0.89973737 0.89975758\n",
      " 0.90575758 0.90175758 0.90175758 0.90175758 0.90375758 0.90175758\n",
      " 0.90775758 0.89975758 0.90775758        nan        nan        nan\n",
      " 0.90377778 0.90375758 0.89975758 0.90973737 0.90175758 0.90577778\n",
      " 0.90373737 0.90575758 0.89975758 0.91173737 0.90375758 0.90773737\n",
      "        nan        nan        nan 0.75359596 0.77159596 0.74161616\n",
      " 0.78963636 0.76959596 0.74759596 0.75961616 0.74963636 0.74761616\n",
      " 0.76961616 0.75159596 0.75959596        nan        nan        nan\n",
      " 0.90575758 0.89975758 0.90575758 0.90777778 0.90575758 0.90975758\n",
      " 0.90575758 0.89975758 0.90375758 0.90573737 0.89775758 0.89975758\n",
      "        nan        nan        nan 0.90175758 0.90375758 0.90375758\n",
      " 0.90775758 0.90575758 0.89975758 0.90575758 0.90775758 0.89975758\n",
      " 0.90373737 0.90775758 0.90575758        nan        nan        nan\n",
      " 0.90175758 0.90175758 0.90175758 0.90975758 0.90375758 0.89975758\n",
      " 0.90575758 0.89975758 0.90775758 0.90175758 0.89575758 0.89775758\n",
      "        nan        nan        nan 0.90175758 0.90175758 0.90175758\n",
      " 0.91175758 0.89777778 0.89975758 0.90575758 0.90575758 0.90575758\n",
      " 0.90175758 0.90173737 0.90975758]\n",
      "  warnings.warn(\n"
     ]
    },
    {
     "data": {
      "text/html": [
       "<style>#sk-container-id-2 {color: black;background-color: white;}#sk-container-id-2 pre{padding: 0;}#sk-container-id-2 div.sk-toggleable {background-color: white;}#sk-container-id-2 label.sk-toggleable__label {cursor: pointer;display: block;width: 100%;margin-bottom: 0;padding: 0.3em;box-sizing: border-box;text-align: center;}#sk-container-id-2 label.sk-toggleable__label-arrow:before {content: \"▸\";float: left;margin-right: 0.25em;color: #696969;}#sk-container-id-2 label.sk-toggleable__label-arrow:hover:before {color: black;}#sk-container-id-2 div.sk-estimator:hover label.sk-toggleable__label-arrow:before {color: black;}#sk-container-id-2 div.sk-toggleable__content {max-height: 0;max-width: 0;overflow: hidden;text-align: left;background-color: #f0f8ff;}#sk-container-id-2 div.sk-toggleable__content pre {margin: 0.2em;color: black;border-radius: 0.25em;background-color: #f0f8ff;}#sk-container-id-2 input.sk-toggleable__control:checked~div.sk-toggleable__content {max-height: 200px;max-width: 100%;overflow: auto;}#sk-container-id-2 input.sk-toggleable__control:checked~label.sk-toggleable__label-arrow:before {content: \"▾\";}#sk-container-id-2 div.sk-estimator input.sk-toggleable__control:checked~label.sk-toggleable__label {background-color: #d4ebff;}#sk-container-id-2 div.sk-label input.sk-toggleable__control:checked~label.sk-toggleable__label {background-color: #d4ebff;}#sk-container-id-2 input.sk-hidden--visually {border: 0;clip: rect(1px 1px 1px 1px);clip: rect(1px, 1px, 1px, 1px);height: 1px;margin: -1px;overflow: hidden;padding: 0;position: absolute;width: 1px;}#sk-container-id-2 div.sk-estimator {font-family: monospace;background-color: #f0f8ff;border: 1px dotted black;border-radius: 0.25em;box-sizing: border-box;margin-bottom: 0.5em;}#sk-container-id-2 div.sk-estimator:hover {background-color: #d4ebff;}#sk-container-id-2 div.sk-parallel-item::after {content: \"\";width: 100%;border-bottom: 1px solid gray;flex-grow: 1;}#sk-container-id-2 div.sk-label:hover label.sk-toggleable__label {background-color: #d4ebff;}#sk-container-id-2 div.sk-serial::before {content: \"\";position: absolute;border-left: 1px solid gray;box-sizing: border-box;top: 0;bottom: 0;left: 50%;z-index: 0;}#sk-container-id-2 div.sk-serial {display: flex;flex-direction: column;align-items: center;background-color: white;padding-right: 0.2em;padding-left: 0.2em;position: relative;}#sk-container-id-2 div.sk-item {position: relative;z-index: 1;}#sk-container-id-2 div.sk-parallel {display: flex;align-items: stretch;justify-content: center;background-color: white;position: relative;}#sk-container-id-2 div.sk-item::before, #sk-container-id-2 div.sk-parallel-item::before {content: \"\";position: absolute;border-left: 1px solid gray;box-sizing: border-box;top: 0;bottom: 0;left: 50%;z-index: -1;}#sk-container-id-2 div.sk-parallel-item {display: flex;flex-direction: column;z-index: 1;position: relative;background-color: white;}#sk-container-id-2 div.sk-parallel-item:first-child::after {align-self: flex-end;width: 50%;}#sk-container-id-2 div.sk-parallel-item:last-child::after {align-self: flex-start;width: 50%;}#sk-container-id-2 div.sk-parallel-item:only-child::after {width: 0;}#sk-container-id-2 div.sk-dashed-wrapped {border: 1px dashed gray;margin: 0 0.4em 0.5em 0.4em;box-sizing: border-box;padding-bottom: 0.4em;background-color: white;}#sk-container-id-2 div.sk-label label {font-family: monospace;font-weight: bold;display: inline-block;line-height: 1.2em;}#sk-container-id-2 div.sk-label-container {text-align: center;}#sk-container-id-2 div.sk-container {/* jupyter's `normalize.less` sets `[hidden] { display: none; }` but bootstrap.min.css set `[hidden] { display: none !important; }` so we also need the `!important` here to be able to override the default hidden behavior on the sphinx rendered scikit-learn.org. See: https://github.com/scikit-learn/scikit-learn/issues/21755 */display: inline-block !important;position: relative;}#sk-container-id-2 div.sk-text-repr-fallback {display: none;}</style><div id=\"sk-container-id-2\" class=\"sk-top-container\"><div class=\"sk-text-repr-fallback\"><pre>GridSearchCV(cv=5,\n",
       "             estimator=Pipeline(steps=[(&#x27;imputer&#x27;,\n",
       "                                        SimpleImputer(strategy=&#x27;median&#x27;)),\n",
       "                                       (&#x27;scaler&#x27;, RobustScaler()),\n",
       "                                       (&#x27;feature_select&#x27;,\n",
       "                                        SelectKBest(k=13,\n",
       "                                                    score_func=&lt;function mutual_info_classif at 0x7feb482830d0&gt;)),\n",
       "                                       (&#x27;clf_rand&#x27;,\n",
       "                                        RandomForestClassifier(criterion=&#x27;log_loss&#x27;,\n",
       "                                                               max_depth=10,\n",
       "                                                               min_samples_split=3))]),\n",
       "             n_jobs=-1,\n",
       "             param_grid={&#x27;clf_rand__criterion&#x27;: [&#x27;gini&#x27;, &#x27;entropy&#x27;, &#x27;log_loss&#x27;],\n",
       "                         &#x27;clf_rand__max_depth&#x27;: [3, 10, 20, 50, 100],\n",
       "                         &#x27;clf_rand__min_samples_split&#x27;: [1, 3, 5, 8, 10],\n",
       "                         &#x27;imputer__strategy&#x27;: [&#x27;mean&#x27;, &#x27;median&#x27;,\n",
       "                                               &#x27;most_frequent&#x27;]})</pre><b>In a Jupyter environment, please rerun this cell to show the HTML representation or trust the notebook. <br />On GitHub, the HTML representation is unable to render, please try loading this page with nbviewer.org.</b></div><div class=\"sk-container\" hidden><div class=\"sk-item sk-dashed-wrapped\"><div class=\"sk-label-container\"><div class=\"sk-label sk-toggleable\"><input class=\"sk-toggleable__control sk-hidden--visually\" id=\"sk-estimator-id-7\" type=\"checkbox\" ><label for=\"sk-estimator-id-7\" class=\"sk-toggleable__label sk-toggleable__label-arrow\">GridSearchCV</label><div class=\"sk-toggleable__content\"><pre>GridSearchCV(cv=5,\n",
       "             estimator=Pipeline(steps=[(&#x27;imputer&#x27;,\n",
       "                                        SimpleImputer(strategy=&#x27;median&#x27;)),\n",
       "                                       (&#x27;scaler&#x27;, RobustScaler()),\n",
       "                                       (&#x27;feature_select&#x27;,\n",
       "                                        SelectKBest(k=13,\n",
       "                                                    score_func=&lt;function mutual_info_classif at 0x7feb482830d0&gt;)),\n",
       "                                       (&#x27;clf_rand&#x27;,\n",
       "                                        RandomForestClassifier(criterion=&#x27;log_loss&#x27;,\n",
       "                                                               max_depth=10,\n",
       "                                                               min_samples_split=3))]),\n",
       "             n_jobs=-1,\n",
       "             param_grid={&#x27;clf_rand__criterion&#x27;: [&#x27;gini&#x27;, &#x27;entropy&#x27;, &#x27;log_loss&#x27;],\n",
       "                         &#x27;clf_rand__max_depth&#x27;: [3, 10, 20, 50, 100],\n",
       "                         &#x27;clf_rand__min_samples_split&#x27;: [1, 3, 5, 8, 10],\n",
       "                         &#x27;imputer__strategy&#x27;: [&#x27;mean&#x27;, &#x27;median&#x27;,\n",
       "                                               &#x27;most_frequent&#x27;]})</pre></div></div></div><div class=\"sk-parallel\"><div class=\"sk-parallel-item\"><div class=\"sk-item\"><div class=\"sk-label-container\"><div class=\"sk-label sk-toggleable\"><input class=\"sk-toggleable__control sk-hidden--visually\" id=\"sk-estimator-id-8\" type=\"checkbox\" ><label for=\"sk-estimator-id-8\" class=\"sk-toggleable__label sk-toggleable__label-arrow\">estimator: Pipeline</label><div class=\"sk-toggleable__content\"><pre>Pipeline(steps=[(&#x27;imputer&#x27;, SimpleImputer(strategy=&#x27;median&#x27;)),\n",
       "                (&#x27;scaler&#x27;, RobustScaler()),\n",
       "                (&#x27;feature_select&#x27;,\n",
       "                 SelectKBest(k=13,\n",
       "                             score_func=&lt;function mutual_info_classif at 0x7feb482830d0&gt;)),\n",
       "                (&#x27;clf_rand&#x27;,\n",
       "                 RandomForestClassifier(criterion=&#x27;log_loss&#x27;, max_depth=10,\n",
       "                                        min_samples_split=3))])</pre></div></div></div><div class=\"sk-serial\"><div class=\"sk-item\"><div class=\"sk-serial\"><div class=\"sk-item\"><div class=\"sk-estimator sk-toggleable\"><input class=\"sk-toggleable__control sk-hidden--visually\" id=\"sk-estimator-id-9\" type=\"checkbox\" ><label for=\"sk-estimator-id-9\" class=\"sk-toggleable__label sk-toggleable__label-arrow\">SimpleImputer</label><div class=\"sk-toggleable__content\"><pre>SimpleImputer(strategy=&#x27;median&#x27;)</pre></div></div></div><div class=\"sk-item\"><div class=\"sk-estimator sk-toggleable\"><input class=\"sk-toggleable__control sk-hidden--visually\" id=\"sk-estimator-id-10\" type=\"checkbox\" ><label for=\"sk-estimator-id-10\" class=\"sk-toggleable__label sk-toggleable__label-arrow\">RobustScaler</label><div class=\"sk-toggleable__content\"><pre>RobustScaler()</pre></div></div></div><div class=\"sk-item\"><div class=\"sk-estimator sk-toggleable\"><input class=\"sk-toggleable__control sk-hidden--visually\" id=\"sk-estimator-id-11\" type=\"checkbox\" ><label for=\"sk-estimator-id-11\" class=\"sk-toggleable__label sk-toggleable__label-arrow\">SelectKBest</label><div class=\"sk-toggleable__content\"><pre>SelectKBest(k=13, score_func=&lt;function mutual_info_classif at 0x7feb482830d0&gt;)</pre></div></div></div><div class=\"sk-item\"><div class=\"sk-estimator sk-toggleable\"><input class=\"sk-toggleable__control sk-hidden--visually\" id=\"sk-estimator-id-12\" type=\"checkbox\" ><label for=\"sk-estimator-id-12\" class=\"sk-toggleable__label sk-toggleable__label-arrow\">RandomForestClassifier</label><div class=\"sk-toggleable__content\"><pre>RandomForestClassifier(criterion=&#x27;log_loss&#x27;, max_depth=10, min_samples_split=3)</pre></div></div></div></div></div></div></div></div></div></div></div></div>"
      ],
      "text/plain": [
       "GridSearchCV(cv=5,\n",
       "             estimator=Pipeline(steps=[('imputer',\n",
       "                                        SimpleImputer(strategy='median')),\n",
       "                                       ('scaler', RobustScaler()),\n",
       "                                       ('feature_select',\n",
       "                                        SelectKBest(k=13,\n",
       "                                                    score_func=<function mutual_info_classif at 0x7feb482830d0>)),\n",
       "                                       ('clf_rand',\n",
       "                                        RandomForestClassifier(criterion='log_loss',\n",
       "                                                               max_depth=10,\n",
       "                                                               min_samples_split=3))]),\n",
       "             n_jobs=-1,\n",
       "             param_grid={'clf_rand__criterion': ['gini', 'entropy', 'log_loss'],\n",
       "                         'clf_rand__max_depth': [3, 10, 20, 50, 100],\n",
       "                         'clf_rand__min_samples_split': [1, 3, 5, 8, 10],\n",
       "                         'imputer__strategy': ['mean', 'median',\n",
       "                                               'most_frequent']})"
      ]
     },
     "execution_count": 22,
     "metadata": {},
     "output_type": "execute_result"
    }
   ],
   "source": [
    "search_rand.fit(X_train, y_train)"
   ]
  },
  {
   "cell_type": "code",
   "execution_count": 23,
   "id": "3b3acc4e",
   "metadata": {},
   "outputs": [
    {
     "data": {
      "text/plain": [
       "{'clf_rand__criterion': 'gini',\n",
       " 'clf_rand__max_depth': 100,\n",
       " 'clf_rand__min_samples_split': 8,\n",
       " 'imputer__strategy': 'most_frequent'}"
      ]
     },
     "execution_count": 23,
     "metadata": {},
     "output_type": "execute_result"
    }
   ],
   "source": [
    "search_rand.best_params_"
   ]
  },
  {
   "cell_type": "code",
   "execution_count": 24,
   "id": "524f1814",
   "metadata": {},
   "outputs": [
    {
     "data": {
      "text/plain": [
       "0.9117575757575758"
      ]
     },
     "execution_count": 24,
     "metadata": {},
     "output_type": "execute_result"
    }
   ],
   "source": [
    "search_rand.best_score_"
   ]
  },
  {
   "cell_type": "markdown",
   "id": "a69622ea",
   "metadata": {},
   "source": [
    "At this stage, the best parameters for the Random Forest Classifier are:\n",
    "> 'criterion: 'log_loss',\n",
    "\n",
    "> 'max_depth: 10,\n",
    "\n",
    "> 'min_samples_split': 3,\n",
    "\n",
    "> 'strategy': 'median'\n",
    "\n",
    "The best score is:\n",
    "\n",
    "> 0.9137575757575759\n"
   ]
  },
  {
   "cell_type": "markdown",
   "id": "347fb8b0",
   "metadata": {},
   "source": [
    "# Random Forest to predict Test Set"
   ]
  },
  {
   "cell_type": "code",
   "execution_count": 25,
   "id": "9c25c358",
   "metadata": {},
   "outputs": [],
   "source": [
    "random_pipe.fit(X_train, y_train)\n",
    "predict = random_pipe.score(X_test, y_test)"
   ]
  },
  {
   "cell_type": "code",
   "execution_count": 26,
   "id": "835d6c77",
   "metadata": {},
   "outputs": [
    {
     "data": {
      "text/plain": [
       "0.888"
      ]
     },
     "execution_count": 26,
     "metadata": {},
     "output_type": "execute_result"
    }
   ],
   "source": [
    "predict"
   ]
  },
  {
   "cell_type": "markdown",
   "id": "dfcee858",
   "metadata": {},
   "source": [
    "# Random Forest to predict unseen data"
   ]
  },
  {
   "cell_type": "code",
   "execution_count": 29,
   "id": "730710ea",
   "metadata": {},
   "outputs": [],
   "source": [
    "predict_unseen = random_pipe.predict(new_X.drop(columns=['date', 'Value_classification']))"
   ]
  },
  {
   "cell_type": "code",
   "execution_count": 30,
   "id": "644838be",
   "metadata": {},
   "outputs": [
    {
     "data": {
      "text/plain": [
       "array([0, 0, 0, 0, 0, 0, 0, 0, 0, 0, 0, 0, 0, 0])"
      ]
     },
     "execution_count": 30,
     "metadata": {},
     "output_type": "execute_result"
    }
   ],
   "source": [
    "predict_unseen"
   ]
  },
  {
   "cell_type": "code",
   "execution_count": 33,
   "id": "c472de83",
   "metadata": {},
   "outputs": [],
   "source": [
    "df = pd.DataFrame(new_X['date'])"
   ]
  },
  {
   "cell_type": "code",
   "execution_count": 34,
   "id": "cd23ca99",
   "metadata": {},
   "outputs": [],
   "source": [
    "df['prediction'] = predict_unseen"
   ]
  },
  {
   "cell_type": "code",
   "execution_count": 35,
   "id": "b2ef1fbc",
   "metadata": {},
   "outputs": [
    {
     "data": {
      "text/html": [
       "<div>\n",
       "<style scoped>\n",
       "    .dataframe tbody tr th:only-of-type {\n",
       "        vertical-align: middle;\n",
       "    }\n",
       "\n",
       "    .dataframe tbody tr th {\n",
       "        vertical-align: top;\n",
       "    }\n",
       "\n",
       "    .dataframe thead th {\n",
       "        text-align: right;\n",
       "    }\n",
       "</style>\n",
       "<table border=\"1\" class=\"dataframe\">\n",
       "  <thead>\n",
       "    <tr style=\"text-align: right;\">\n",
       "      <th></th>\n",
       "      <th>date</th>\n",
       "      <th>prediction</th>\n",
       "    </tr>\n",
       "  </thead>\n",
       "  <tbody>\n",
       "    <tr>\n",
       "      <th>624</th>\n",
       "      <td>2022-05-05</td>\n",
       "      <td>0</td>\n",
       "    </tr>\n",
       "    <tr>\n",
       "      <th>625</th>\n",
       "      <td>2022-05-06</td>\n",
       "      <td>0</td>\n",
       "    </tr>\n",
       "    <tr>\n",
       "      <th>626</th>\n",
       "      <td>2022-05-07</td>\n",
       "      <td>0</td>\n",
       "    </tr>\n",
       "    <tr>\n",
       "      <th>627</th>\n",
       "      <td>2022-05-08</td>\n",
       "      <td>0</td>\n",
       "    </tr>\n",
       "    <tr>\n",
       "      <th>628</th>\n",
       "      <td>2022-05-09</td>\n",
       "      <td>0</td>\n",
       "    </tr>\n",
       "    <tr>\n",
       "      <th>629</th>\n",
       "      <td>2022-05-10</td>\n",
       "      <td>0</td>\n",
       "    </tr>\n",
       "    <tr>\n",
       "      <th>630</th>\n",
       "      <td>2022-05-11</td>\n",
       "      <td>0</td>\n",
       "    </tr>\n",
       "    <tr>\n",
       "      <th>631</th>\n",
       "      <td>2022-05-12</td>\n",
       "      <td>0</td>\n",
       "    </tr>\n",
       "    <tr>\n",
       "      <th>632</th>\n",
       "      <td>2022-05-13</td>\n",
       "      <td>0</td>\n",
       "    </tr>\n",
       "    <tr>\n",
       "      <th>633</th>\n",
       "      <td>2022-05-14</td>\n",
       "      <td>0</td>\n",
       "    </tr>\n",
       "    <tr>\n",
       "      <th>634</th>\n",
       "      <td>2022-05-15</td>\n",
       "      <td>0</td>\n",
       "    </tr>\n",
       "    <tr>\n",
       "      <th>635</th>\n",
       "      <td>2022-05-16</td>\n",
       "      <td>0</td>\n",
       "    </tr>\n",
       "    <tr>\n",
       "      <th>636</th>\n",
       "      <td>2022-05-17</td>\n",
       "      <td>0</td>\n",
       "    </tr>\n",
       "    <tr>\n",
       "      <th>637</th>\n",
       "      <td>2022-05-18</td>\n",
       "      <td>0</td>\n",
       "    </tr>\n",
       "  </tbody>\n",
       "</table>\n",
       "</div>"
      ],
      "text/plain": [
       "          date  prediction\n",
       "624 2022-05-05           0\n",
       "625 2022-05-06           0\n",
       "626 2022-05-07           0\n",
       "627 2022-05-08           0\n",
       "628 2022-05-09           0\n",
       "629 2022-05-10           0\n",
       "630 2022-05-11           0\n",
       "631 2022-05-12           0\n",
       "632 2022-05-13           0\n",
       "633 2022-05-14           0\n",
       "634 2022-05-15           0\n",
       "635 2022-05-16           0\n",
       "636 2022-05-17           0\n",
       "637 2022-05-18           0"
      ]
     },
     "execution_count": 35,
     "metadata": {},
     "output_type": "execute_result"
    }
   ],
   "source": [
    "df"
   ]
  }
 ],
 "metadata": {
  "kernelspec": {
   "display_name": "Python 3 (ipykernel)",
   "language": "python",
   "name": "python3"
  },
  "language_info": {
   "codemirror_mode": {
    "name": "ipython",
    "version": 3
   },
   "file_extension": ".py",
   "mimetype": "text/x-python",
   "name": "python",
   "nbconvert_exporter": "python",
   "pygments_lexer": "ipython3",
   "version": "3.8.12"
  },
  "toc": {
   "base_numbering": 1,
   "nav_menu": {},
   "number_sections": true,
   "sideBar": true,
   "skip_h1_title": false,
   "title_cell": "Table of Contents",
   "title_sidebar": "Contents",
   "toc_cell": false,
   "toc_position": {},
   "toc_section_display": true,
   "toc_window_display": false
  }
 },
 "nbformat": 4,
 "nbformat_minor": 5
}
