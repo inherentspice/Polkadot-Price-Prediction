{
 "cells": [
  {
   "cell_type": "markdown",
   "id": "ab00e12f",
   "metadata": {},
   "source": [
    "# import libraries and data"
   ]
  },
  {
   "cell_type": "code",
   "execution_count": 58,
   "id": "18bcda0d",
   "metadata": {},
   "outputs": [],
   "source": [
    "from features import Dataframe\n",
    "from utils import *\n",
    "from sklearn.pipeline import Pipeline\n",
    "from sklearn.feature_selection import SelectKBest, mutual_info_classif\n",
    "from sklearn.model_selection import train_test_split, cross_val_score\n",
    "from sklearn.preprocessing import RobustScaler\n",
    "from sklearn.impute import SimpleImputer\n",
    "from sklearn.ensemble import RandomForestClassifier, GradientBoostingClassifier\n",
    "import pandas as pd\n",
    "import numpy as np"
   ]
  },
  {
   "cell_type": "markdown",
   "id": "89fe8a4b",
   "metadata": {},
   "source": [
    "## create features and targets"
   ]
  },
  {
   "cell_type": "code",
   "execution_count": 16,
   "id": "617d864b",
   "metadata": {},
   "outputs": [],
   "source": [
    "df = Dataframe().get_features()"
   ]
  },
  {
   "cell_type": "code",
   "execution_count": 28,
   "id": "247ca7a7",
   "metadata": {},
   "outputs": [],
   "source": [
    "X = df.drop(columns=['predict', 'date', 'Value_classification'])\n",
    "y = df['predict']"
   ]
  },
  {
   "cell_type": "markdown",
   "id": "e8cbaf83",
   "metadata": {},
   "source": [
    "## create x data that has no target"
   ]
  },
  {
   "cell_type": "code",
   "execution_count": 21,
   "id": "c556596e",
   "metadata": {},
   "outputs": [],
   "source": [
    "new_x = Dataframe().get_x_to_predict()"
   ]
  },
  {
   "cell_type": "code",
   "execution_count": 23,
   "id": "4eb93516",
   "metadata": {},
   "outputs": [
    {
     "data": {
      "text/html": [
       "<div>\n",
       "<style scoped>\n",
       "    .dataframe tbody tr th:only-of-type {\n",
       "        vertical-align: middle;\n",
       "    }\n",
       "\n",
       "    .dataframe tbody tr th {\n",
       "        vertical-align: top;\n",
       "    }\n",
       "\n",
       "    .dataframe thead th {\n",
       "        text-align: right;\n",
       "    }\n",
       "</style>\n",
       "<table border=\"1\" class=\"dataframe\">\n",
       "  <thead>\n",
       "    <tr style=\"text-align: right;\">\n",
       "      <th></th>\n",
       "      <th>date</th>\n",
       "      <th>current_price</th>\n",
       "      <th>current_price_sats</th>\n",
       "      <th>market_cap</th>\n",
       "      <th>reddit_post_48h</th>\n",
       "      <th>reddit_comment_48h</th>\n",
       "      <th>reddit_subscribers</th>\n",
       "      <th>reddit_active_accounts</th>\n",
       "      <th>public_interest_stats</th>\n",
       "      <th>Value</th>\n",
       "      <th>...</th>\n",
       "      <th>sats_change_2_weeks</th>\n",
       "      <th>price_change_2_days</th>\n",
       "      <th>price_change_1_week</th>\n",
       "      <th>price_change_2_weeks</th>\n",
       "      <th>percent_change_2_days</th>\n",
       "      <th>percent_change_1_week</th>\n",
       "      <th>percent_change_2_weeks</th>\n",
       "      <th>percent_sats_2_days</th>\n",
       "      <th>percent_sats_1_week</th>\n",
       "      <th>percent_sats_2_weeks</th>\n",
       "    </tr>\n",
       "  </thead>\n",
       "  <tbody>\n",
       "    <tr>\n",
       "      <th>624</th>\n",
       "      <td>2022-05-05</td>\n",
       "      <td>16.292368</td>\n",
       "      <td>41043.849063</td>\n",
       "      <td>1.808681e+10</td>\n",
       "      <td>1.000</td>\n",
       "      <td>13.111</td>\n",
       "      <td>39880.0</td>\n",
       "      <td>65.300000</td>\n",
       "      <td>38454.0</td>\n",
       "      <td>27.0</td>\n",
       "      <td>...</td>\n",
       "      <td>-5075.092515</td>\n",
       "      <td>1.299615</td>\n",
       "      <td>-0.645908</td>\n",
       "      <td>-2.796100</td>\n",
       "      <td>0.086683</td>\n",
       "      <td>-0.038133</td>\n",
       "      <td>-0.146481</td>\n",
       "      <td>0.055773</td>\n",
       "      <td>-0.049306</td>\n",
       "      <td>-0.110044</td>\n",
       "    </tr>\n",
       "    <tr>\n",
       "      <th>625</th>\n",
       "      <td>2022-05-06</td>\n",
       "      <td>14.598846</td>\n",
       "      <td>39868.599811</td>\n",
       "      <td>1.613979e+10</td>\n",
       "      <td>2.500</td>\n",
       "      <td>14.500</td>\n",
       "      <td>39883.0</td>\n",
       "      <td>52.428571</td>\n",
       "      <td>38454.0</td>\n",
       "      <td>22.0</td>\n",
       "      <td>...</td>\n",
       "      <td>-5029.040150</td>\n",
       "      <td>-0.128516</td>\n",
       "      <td>-2.384108</td>\n",
       "      <td>-3.585874</td>\n",
       "      <td>-0.008726</td>\n",
       "      <td>-0.140382</td>\n",
       "      <td>-0.197192</td>\n",
       "      <td>0.022216</td>\n",
       "      <td>-0.067011</td>\n",
       "      <td>-0.112011</td>\n",
       "    </tr>\n",
       "    <tr>\n",
       "      <th>626</th>\n",
       "      <td>2022-05-07</td>\n",
       "      <td>14.355718</td>\n",
       "      <td>39757.183449</td>\n",
       "      <td>1.590217e+10</td>\n",
       "      <td>1.364</td>\n",
       "      <td>6.273</td>\n",
       "      <td>39881.0</td>\n",
       "      <td>58.583333</td>\n",
       "      <td>38454.0</td>\n",
       "      <td>23.0</td>\n",
       "      <td>...</td>\n",
       "      <td>-6299.140105</td>\n",
       "      <td>-1.936650</td>\n",
       "      <td>-1.818523</td>\n",
       "      <td>-3.962852</td>\n",
       "      <td>-0.118869</td>\n",
       "      <td>-0.112433</td>\n",
       "      <td>-0.216330</td>\n",
       "      <td>-0.031349</td>\n",
       "      <td>-0.050062</td>\n",
       "      <td>-0.136770</td>\n",
       "    </tr>\n",
       "    <tr>\n",
       "      <th>627</th>\n",
       "      <td>2022-05-08</td>\n",
       "      <td>13.800377</td>\n",
       "      <td>38810.570189</td>\n",
       "      <td>1.534235e+10</td>\n",
       "      <td>0.846</td>\n",
       "      <td>6.154</td>\n",
       "      <td>39879.0</td>\n",
       "      <td>59.857143</td>\n",
       "      <td>38454.0</td>\n",
       "      <td>18.0</td>\n",
       "      <td>...</td>\n",
       "      <td>-8614.010277</td>\n",
       "      <td>-0.798469</td>\n",
       "      <td>-0.769511</td>\n",
       "      <td>-4.940943</td>\n",
       "      <td>-0.054694</td>\n",
       "      <td>-0.052815</td>\n",
       "      <td>-0.263639</td>\n",
       "      <td>-0.026538</td>\n",
       "      <td>0.005946</td>\n",
       "      <td>-0.181636</td>\n",
       "    </tr>\n",
       "    <tr>\n",
       "      <th>628</th>\n",
       "      <td>2022-05-09</td>\n",
       "      <td>13.229361</td>\n",
       "      <td>38851.622851</td>\n",
       "      <td>1.469313e+10</td>\n",
       "      <td>0.600</td>\n",
       "      <td>5.100</td>\n",
       "      <td>39889.0</td>\n",
       "      <td>60.363636</td>\n",
       "      <td>38454.0</td>\n",
       "      <td>11.0</td>\n",
       "      <td>...</td>\n",
       "      <td>-7147.612935</td>\n",
       "      <td>-1.126357</td>\n",
       "      <td>-2.189413</td>\n",
       "      <td>-4.931293</td>\n",
       "      <td>-0.078460</td>\n",
       "      <td>-0.141997</td>\n",
       "      <td>-0.271537</td>\n",
       "      <td>-0.022777</td>\n",
       "      <td>-0.030164</td>\n",
       "      <td>-0.155385</td>\n",
       "    </tr>\n",
       "  </tbody>\n",
       "</table>\n",
       "<p>5 rows × 44 columns</p>\n",
       "</div>"
      ],
      "text/plain": [
       "          date  current_price  current_price_sats    market_cap  \\\n",
       "624 2022-05-05      16.292368        41043.849063  1.808681e+10   \n",
       "625 2022-05-06      14.598846        39868.599811  1.613979e+10   \n",
       "626 2022-05-07      14.355718        39757.183449  1.590217e+10   \n",
       "627 2022-05-08      13.800377        38810.570189  1.534235e+10   \n",
       "628 2022-05-09      13.229361        38851.622851  1.469313e+10   \n",
       "\n",
       "     reddit_post_48h  reddit_comment_48h  reddit_subscribers  \\\n",
       "624            1.000              13.111             39880.0   \n",
       "625            2.500              14.500             39883.0   \n",
       "626            1.364               6.273             39881.0   \n",
       "627            0.846               6.154             39879.0   \n",
       "628            0.600               5.100             39889.0   \n",
       "\n",
       "     reddit_active_accounts  public_interest_stats  Value  ...  \\\n",
       "624               65.300000                38454.0   27.0  ...   \n",
       "625               52.428571                38454.0   22.0  ...   \n",
       "626               58.583333                38454.0   23.0  ...   \n",
       "627               59.857143                38454.0   18.0  ...   \n",
       "628               60.363636                38454.0   11.0  ...   \n",
       "\n",
       "    sats_change_2_weeks  price_change_2_days  price_change_1_week  \\\n",
       "624        -5075.092515             1.299615            -0.645908   \n",
       "625        -5029.040150            -0.128516            -2.384108   \n",
       "626        -6299.140105            -1.936650            -1.818523   \n",
       "627        -8614.010277            -0.798469            -0.769511   \n",
       "628        -7147.612935            -1.126357            -2.189413   \n",
       "\n",
       "     price_change_2_weeks  percent_change_2_days  percent_change_1_week  \\\n",
       "624             -2.796100               0.086683              -0.038133   \n",
       "625             -3.585874              -0.008726              -0.140382   \n",
       "626             -3.962852              -0.118869              -0.112433   \n",
       "627             -4.940943              -0.054694              -0.052815   \n",
       "628             -4.931293              -0.078460              -0.141997   \n",
       "\n",
       "     percent_change_2_weeks  percent_sats_2_days  percent_sats_1_week  \\\n",
       "624               -0.146481             0.055773            -0.049306   \n",
       "625               -0.197192             0.022216            -0.067011   \n",
       "626               -0.216330            -0.031349            -0.050062   \n",
       "627               -0.263639            -0.026538             0.005946   \n",
       "628               -0.271537            -0.022777            -0.030164   \n",
       "\n",
       "     percent_sats_2_weeks  \n",
       "624             -0.110044  \n",
       "625             -0.112011  \n",
       "626             -0.136770  \n",
       "627             -0.181636  \n",
       "628             -0.155385  \n",
       "\n",
       "[5 rows x 44 columns]"
      ]
     },
     "execution_count": 23,
     "metadata": {},
     "output_type": "execute_result"
    }
   ],
   "source": [
    "new_x.head()"
   ]
  },
  {
   "cell_type": "markdown",
   "id": "855379c1",
   "metadata": {},
   "source": [
    "# create Pipelines"
   ]
  },
  {
   "cell_type": "markdown",
   "id": "c950e1a2",
   "metadata": {},
   "source": [
    "## determine initial value for k in SelectKBest"
   ]
  },
  {
   "cell_type": "code",
   "execution_count": 51,
   "id": "51ecdd49",
   "metadata": {},
   "outputs": [],
   "source": [
    "scaling_pipeline = Pipeline([\n",
    "    ('imputer', SimpleImputer()),\n",
    "    ('scaler', RobustScaler())])"
   ]
  },
  {
   "cell_type": "code",
   "execution_count": 74,
   "id": "540a5aa9",
   "metadata": {},
   "outputs": [],
   "source": [
    "X_train, X_test, y_train, y_test = train_test_split(X, y, test_size=0.2, random_state=42)\n",
    "Xk_train = scaling_pipeline.fit_transform(X_train)"
   ]
  },
  {
   "cell_type": "code",
   "execution_count": 69,
   "id": "9b7a2d52",
   "metadata": {},
   "outputs": [],
   "source": [
    "grad_k, grad_score = Utils().find_best_features_gradient(Xk_train, yk_train)\n",
    "rand_k, rand_score = Utils().find_best_features_r_forest(Xk_train, yk_train)"
   ]
  },
  {
   "cell_type": "code",
   "execution_count": 70,
   "id": "0b058082",
   "metadata": {},
   "outputs": [],
   "source": [
    "initial_grad_k = grad_k[np.argmax(grad_score)]\n",
    "initial_rand_k = rand_k[np.argmax(rand_score)]"
   ]
  },
  {
   "cell_type": "code",
   "execution_count": 71,
   "id": "3f1ea226",
   "metadata": {},
   "outputs": [
    {
     "data": {
      "text/plain": [
       "'The initial value for k in the Gradient Boosting pipeline will be: 7'"
      ]
     },
     "metadata": {},
     "output_type": "display_data"
    },
    {
     "data": {
      "text/plain": [
       "'The initial value for k in the Random Forest pipeline will be: 13'"
      ]
     },
     "metadata": {},
     "output_type": "display_data"
    }
   ],
   "source": [
    "display(f\"The initial value for k in the Gradient Boosting pipeline will be: {initial_grad_k}\")\n",
    "display(f\"The initial value for k in the Random Forest pipeline will be: {initial_rand_k}\")"
   ]
  },
  {
   "cell_type": "markdown",
   "id": "861eff2e",
   "metadata": {},
   "source": [
    "## create pipeline for Gradient Boosting Classifier"
   ]
  },
  {
   "cell_type": "code",
   "execution_count": 81,
   "id": "1be0e3f1",
   "metadata": {},
   "outputs": [],
   "source": [
    "gradient_pipe = Pipeline([('imputer', SimpleImputer()),\n",
    "                ('scaler', RobustScaler()), \n",
    "                ('feature_select', SelectKBest(score_func=mutual_info_classif, k=7)),\n",
    "                ('clf', GradientBoostingClassifier())])"
   ]
  },
  {
   "cell_type": "markdown",
   "id": "5eaf5f10",
   "metadata": {},
   "source": [
    "## create pipeline for Random Forest Classifier"
   ]
  },
  {
   "cell_type": "code",
   "execution_count": 83,
   "id": "98c40482",
   "metadata": {},
   "outputs": [],
   "source": [
    "random_pipe = Pipeline([('imputer', SimpleImputer()),\n",
    "                ('scaler', RobustScaler()), \n",
    "                ('feature_select', SelectKBest(score_func=mutual_info_classif, k=13)),\n",
    "                ('clf', RandomForestClassifier())])"
   ]
  },
  {
   "cell_type": "markdown",
   "id": "08e13ade",
   "metadata": {},
   "source": [
    "## calculate initial cross-validation scores"
   ]
  },
  {
   "cell_type": "code",
   "execution_count": 84,
   "id": "6f980324",
   "metadata": {},
   "outputs": [],
   "source": [
    "grad_initial_score = cross_val_score(gradient_pipe, X_train, y_train, cv=5).mean()\n",
    "rand_initial_score = cross_val_score(random_pipe, X_train, y_train, cv=5).mean()"
   ]
  },
  {
   "cell_type": "code",
   "execution_count": 85,
   "id": "e8a036be",
   "metadata": {},
   "outputs": [
    {
     "data": {
      "text/plain": [
       "'The initial score for the Gradient Boosting Pipeline is 0.8737171717171718.'"
      ]
     },
     "metadata": {},
     "output_type": "display_data"
    },
    {
     "data": {
      "text/plain": [
       "'The initial score for the Random Forest Pipeline is 0.9057575757575757.'"
      ]
     },
     "metadata": {},
     "output_type": "display_data"
    }
   ],
   "source": [
    "display(f\"The initial score for the Gradient Boosting Pipeline is {grad_initial_score}.\")\n",
    "display(f\"The initial score for the Random Forest Pipeline is {rand_initial_score}.\")"
   ]
  }
 ],
 "metadata": {
  "kernelspec": {
   "display_name": "Python 3 (ipykernel)",
   "language": "python",
   "name": "python3"
  },
  "language_info": {
   "codemirror_mode": {
    "name": "ipython",
    "version": 3
   },
   "file_extension": ".py",
   "mimetype": "text/x-python",
   "name": "python",
   "nbconvert_exporter": "python",
   "pygments_lexer": "ipython3",
   "version": "3.8.12"
  },
  "toc": {
   "base_numbering": 1,
   "nav_menu": {},
   "number_sections": true,
   "sideBar": true,
   "skip_h1_title": false,
   "title_cell": "Table of Contents",
   "title_sidebar": "Contents",
   "toc_cell": false,
   "toc_position": {},
   "toc_section_display": true,
   "toc_window_display": false
  }
 },
 "nbformat": 4,
 "nbformat_minor": 5
}
